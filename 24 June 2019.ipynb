{
 "cells": [
  {
   "cell_type": "code",
   "execution_count": null,
   "metadata": {},
   "outputs": [],
   "source": [
    "def freqDistributionOfWords1(filepath):\n",
    "    # Distionary to be used to \n",
    "        #key --> unique words\n",
    "        #values -->count of unique words\n",
    "    # Two lists\n",
    "        # All words list\n",
    "        # unique words list\n",
    "    # set\n",
    "    allwords=wordsFromFile(filepath)\n",
    "    uniquewords=uniqueData(filepath)\n",
    "    for word in uniquewords:\n",
    "        count=allwords.count(word)\n",
    "        print(word,':',count)\n",
    "    return\n",
    "\n",
    "def FreqDistbutionofWords2(filepath):\n",
    "    allwords=wordsFromFile(filepath)\n",
    "    wordFrequency={}\n",
    "    for word in allwords:\n",
    "        if word not in wordFrequency.keys():\n",
    "            wordFrequency[word]=1\n",
    "        else:\n",
    "            wordFrequency[word] + =1\n",
    "    return wordFrequency\n",
    "\n",
    "def wordCountCountFile(filepath):\n",
    "    parrern='[\\n]'\n",
    "    filedata=readFile(filepath)\n",
    "    count=len(re.split(pattern,filedata))\n",
    "    return count\n",
    "def wordsFromFile(filepath):\n",
    "    patterb='[\\n]'\n",
    "    filedata=readFile(filepath)\n",
    "    allWordsList\n",
    "    \n",
    "def uniquedata(filepath):\n",
    "    filedata=readFile(filepath)\n",
    "    allwords=wordsFromFile(filepath)\n",
    "    unique=[]\n",
    "    for element in "
   ]
  },
  {
   "cell_type": "code",
   "execution_count": null,
   "metadata": {},
   "outputs": [],
   "source": [
    "# Cotacts Application\n",
    "    # Add, Search, List, Modify, Delete Contacts\n",
    "    \n",
    "# find and Repalce Application\n",
    "    # Count the Total number of Occurances of a word\n",
    "    # if word is existing \n",
    "    # replace all occrances of a word with another word\n",
    "# marks Analysis application\n",
    "    #Generate marks file for n students(using randint in random module)\n",
    "    #Input : Marks text file - each line in the text file contains marks of one student\n",
    "    # Generate a report with the following information\n",
    "        # class Average :\n",
    "        # % of student passed\n",
    "        # % of fail students Failed\n",
    "        # % of students with distinction\n",
    "        # Higest Mark Frequency\n",
    "        # Lowest Mark Frequency\n",
    "        \n",
    "        "
   ]
  },
  {
   "cell_type": "code",
   "execution_count": 25,
   "metadata": {},
   "outputs": [],
   "source": [
    "# Function to generate marks data for n students\n",
    "from random import randint\n",
    "def generatemarks(n,lb,ub):\n",
    "    with open('DataFiles/marks.txt','w') as f:\n",
    "        for i in range(0,n):\n",
    "            r=randint(lb,ub)\n",
    "            f.write(str(r)+'\\n')\n",
    "            \n",
    "    return \n",
    "generatemarks(10,0,100)"
   ]
  },
  {
   "cell_type": "code",
   "execution_count": 24,
   "metadata": {},
   "outputs": [],
   "source": [
    "##for i in range(65,90+1):\n",
    "## print(ord(chr(i)),chr(i))"
   ]
  },
  {
   "cell_type": "code",
   "execution_count": 2,
   "metadata": {
    "scrolled": true
   },
   "outputs": [],
   "source": [
    "## for i in range(97,122+1):\n",
    "  ##  print(ord(chr(i)),chr(i))"
   ]
  },
  {
   "cell_type": "code",
   "execution_count": 26,
   "metadata": {
    "scrolled": false
   },
   "outputs": [
    {
     "name": "stdout",
     "output_type": "stream",
     "text": [
      "36\n",
      "36\n",
      "18\n",
      "87\n",
      "32\n",
      "50\n",
      "55\n",
      "95\n",
      "74\n",
      "95\n"
     ]
    }
   ],
   "source": [
    "def dispalymarks(filename):\n",
    "    f=open(filename,'r')\n",
    "    for line in f:\n",
    "        print(line,end='')\n",
    "    f.close()\n",
    "    return\n",
    "filename='DataFiles/marks.txt'\n",
    "dispalymarks(filename)"
   ]
  },
  {
   "cell_type": "code",
   "execution_count": 31,
   "metadata": {},
   "outputs": [
    {
     "name": "stdout",
     "output_type": "stream",
     "text": [
      "46.28\n"
     ]
    }
   ],
   "source": [
    "def classavg(filepath):\n",
    "    c=0\n",
    "    s=0\n",
    "    with open(filepath,'r') as f:\n",
    "        for i in f:\n",
    "            c=int(c)+int(i)\n",
    "            s=s+1\n",
    "    print(c/s)\n",
    "avg('DataFiles/marks.txt')"
   ]
  },
  {
   "cell_type": "code",
   "execution_count": 31,
   "metadata": {},
   "outputs": [
    {
     "name": "stdout",
     "output_type": "stream",
     "text": [
      "60.0\n"
     ]
    }
   ],
   "source": [
    "def percentageofpass(filepath):\n",
    "    c=0\n",
    "    s=0\n",
    "    with open(filepath,'r') as f:\n",
    "        for i in f:\n",
    "            if(int(i)>=40 and int(i)<=100):\n",
    "                s=s+int(i)\n",
    "                c=c+1\n",
    "    print((c/10)*100)\n",
    "percentageofpass('DataFiles/marks.txt')"
   ]
  },
  {
   "cell_type": "code",
   "execution_count": 32,
   "metadata": {},
   "outputs": [
    {
     "name": "stdout",
     "output_type": "stream",
     "text": [
      "40.0\n"
     ]
    }
   ],
   "source": [
    "def percentageoffail(filepath):\n",
    "    c=0\n",
    "    with open(filepath,'r') as f:\n",
    "        for i in f:\n",
    "            if(int(i)<40):\n",
    "                c=c+1\n",
    "    print((c/10)*100)\n",
    "percentageoffail('DataFiles/marks.txt')"
   ]
  },
  {
   "cell_type": "code",
   "execution_count": 33,
   "metadata": {},
   "outputs": [
    {
     "name": "stdout",
     "output_type": "stream",
     "text": [
      "30.0\n"
     ]
    }
   ],
   "source": [
    "def percentdist(filepath):\n",
    "    c=0\n",
    "    with open(filepath,'r') as f:\n",
    "        for i in f:\n",
    "            if(int(i)>=75):\n",
    "                c=c+1\n",
    "    print((c/10)*100)\n",
    "percentdist('DataFiles/marks.txt')"
   ]
  },
  {
   "cell_type": "code",
   "execution_count": 34,
   "metadata": {},
   "outputs": [
    {
     "name": "stdout",
     "output_type": "stream",
     "text": [
      "95 2\n"
     ]
    }
   ],
   "source": [
    "def highmark(filepath):\n",
    "    h=0\n",
    "    c=0\n",
    "    with open(filepath,'r') as f:\n",
    "        for i in f:\n",
    "            if h==int(i):\n",
    "                c=c+1\n",
    "            if int(i)>h:\n",
    "                h=int(i)\n",
    "    print(h,c)\n",
    "highmark('DataFiles/marks.txt')"
   ]
  },
  {
   "cell_type": "code",
   "execution_count": 36,
   "metadata": {},
   "outputs": [
    {
     "name": "stdout",
     "output_type": "stream",
     "text": [
      "18 1\n"
     ]
    }
   ],
   "source": [
    "def lowmarkfre(filepath):\n",
    "    l=100\n",
    "    c=0\n",
    "    with open(filepath,'r') as f:\n",
    "        for i in f:\n",
    "            if l==int(i):\n",
    "                c=c+1\n",
    "            if int(i)<l:\n",
    "                l=int(i)\n",
    "    print(l,c)\n",
    "lowmarkfre('DataFiles/marks.txt')"
   ]
  },
  {
   "cell_type": "code",
   "execution_count": 47,
   "metadata": {},
   "outputs": [
    {
     "name": "stdout",
     "output_type": "stream",
     "text": [
      "-1\n",
      "3\n"
     ]
    }
   ],
   "source": [
    "# find and Repalce Application\n",
    "    # Count the Total number of Occurances of a word\n",
    "    # if word is existing \n",
    "    # replace all occrances of a word with another word\n",
    "def findcount(filepath,s1):\n",
    "    c=0\n",
    "    with open(filepath,'r') as f:\n",
    "        for i in f:\n",
    "            print(i.find(s1))\n",
    "    return\n",
    "findcount('DataFiles/findreplace.txt',\"welcome\")\n"
   ]
  },
  {
   "cell_type": "code",
   "execution_count": null,
   "metadata": {},
   "outputs": [],
   "source": [
    "s=\"hello bye hi welcome hi hi hello\"\n",
    "sub=input()\n",
    "rep=input()\n",
    "c=s.find(sub)\n",
    "s[c:len(sub)+1]=rep\n",
    "print(s)"
   ]
  },
  {
   "cell_type": "code",
   "execution_count": 46,
   "metadata": {},
   "outputs": [
    {
     "name": "stdout",
     "output_type": "stream",
     "text": [
      "8\n"
     ]
    }
   ],
   "source": [
    "s=\"abc def hijk limop\"\n",
    "c=s.find('hi')\n",
    "print(c)"
   ]
  },
  {
   "cell_type": "code",
   "execution_count": 2,
   "metadata": {},
   "outputs": [
    {
     "name": "stdout",
     "output_type": "stream",
     "text": [
      "Bye world!\n"
     ]
    }
   ],
   "source": [
    "x = \"Hello world!\"\n",
    "y = x.replace(\"Hello\", \"Bye\")\n",
    "print(y) #Will print out \"Bye World!\""
   ]
  },
  {
   "cell_type": "code",
   "execution_count": 7,
   "metadata": {},
   "outputs": [
    {
     "name": "stdout",
     "output_type": "stream",
     "text": [
      "8 lalli 8 hello 8 88 bye 88 8\n"
     ]
    }
   ],
   "source": [
    "def findreplace(s,sub,rep):\n",
    "    s1=s.replace(sub,rep)\n",
    "    print(s1)\n",
    "findreplace(\"hi lalli hi hello hi hihi bye hihi hi\",\"hi\",\"8\")"
   ]
  },
  {
   "cell_type": "code",
   "execution_count": 6,
   "metadata": {},
   "outputs": [
    {
     "name": "stdout",
     "output_type": "stream",
     "text": [
      "6\n"
     ]
    }
   ],
   "source": [
    "def countword(s,sub):\n",
    "    print(s.count(sub))\n",
    "countword('hi lalli helli hi welcome hi hihihi','hi')"
   ]
  },
  {
   "cell_type": "code",
   "execution_count": 8,
   "metadata": {},
   "outputs": [
    {
     "name": "stdout",
     "output_type": "stream",
     "text": [
      "['h', 'e', 'l', 'l', 'o', ' ', 'h', 'i', ' ', 'w', 'e', 'l', 'c', 'o', 'm', 'e', ' ', 't', 'o', ' ', 'p', 'y', 't', 'h', 'o', 'n', ' ', 'p', 'r', 'o', 'g', 'r', 'a', 'm', 'm', 'i', 'n', 'g']\n"
     ]
    }
   ],
   "source": [
    "s=\"hello hi welcome to python programming\"\n",
    "l=[]\n",
    "for i in range(len(s)):\n",
    "    l.append(s[i])\n",
    "print(l)"
   ]
  },
  {
   "cell_type": "code",
   "execution_count": 9,
   "metadata": {},
   "outputs": [
    {
     "name": "stdout",
     "output_type": "stream",
     "text": [
      "['hello', 'hi', 'welcome', 'to', 'python', 'programming']\n"
     ]
    }
   ],
   "source": [
    "s=\"hello hi welcome to python programming\"\n",
    "l=s.split()\n",
    "print(l)"
   ]
  },
  {
   "cell_type": "code",
   "execution_count": 12,
   "metadata": {},
   "outputs": [
    {
     "name": "stdout",
     "output_type": "stream",
     "text": [
      "False\n"
     ]
    }
   ],
   "source": [
    "\n",
    "if 'bye' in s:\n",
    "    print(True)\n",
    "else:\n",
    "    print(False)"
   ]
  },
  {
   "cell_type": "code",
   "execution_count": 17,
   "metadata": {},
   "outputs": [
    {
     "name": "stdout",
     "output_type": "stream",
     "text": [
      "olleh\n"
     ]
    }
   ],
   "source": [
    "s=\"hello\"\n",
    "s=s[len(s)::-1]\n",
    "print(s)"
   ]
  },
  {
   "cell_type": "code",
   "execution_count": 18,
   "metadata": {},
   "outputs": [
    {
     "data": {
      "text/plain": [
       "'ol'"
      ]
     },
     "execution_count": 18,
     "metadata": {},
     "output_type": "execute_result"
    }
   ],
   "source": [
    "s[:len(s)//2]"
   ]
  },
  {
   "cell_type": "code",
   "execution_count": 19,
   "metadata": {},
   "outputs": [
    {
     "data": {
      "text/plain": [
       "'leh'"
      ]
     },
     "execution_count": 19,
     "metadata": {},
     "output_type": "execute_result"
    }
   ],
   "source": [
    "s[len(s)//2:]"
   ]
  },
  {
   "cell_type": "code",
   "execution_count": 23,
   "metadata": {
    "scrolled": true
   },
   "outputs": [
    {
     "ename": "NameError",
     "evalue": "name 'cmp' is not defined",
     "output_type": "error",
     "traceback": [
      "\u001b[1;31m---------------------------------------------------------------------------\u001b[0m",
      "\u001b[1;31mNameError\u001b[0m                                 Traceback (most recent call last)",
      "\u001b[1;32m<ipython-input-23-57c824332466>\u001b[0m in \u001b[0;36m<module>\u001b[1;34m\u001b[0m\n\u001b[0;32m      1\u001b[0m \u001b[0ma\u001b[0m\u001b[1;33m=\u001b[0m\u001b[1;34m\"Lalitha\"\u001b[0m\u001b[1;33m\u001b[0m\u001b[1;33m\u001b[0m\u001b[0m\n\u001b[0;32m      2\u001b[0m \u001b[0mb\u001b[0m\u001b[1;33m=\u001b[0m\u001b[1;34m\"Lalitha\"\u001b[0m\u001b[1;33m\u001b[0m\u001b[1;33m\u001b[0m\u001b[0m\n\u001b[1;32m----> 3\u001b[1;33m \u001b[0mprint\u001b[0m\u001b[1;33m(\u001b[0m\u001b[0mcmp\u001b[0m\u001b[1;33m(\u001b[0m\u001b[0ma\u001b[0m\u001b[1;33m,\u001b[0m\u001b[0mb\u001b[0m\u001b[1;33m)\u001b[0m\u001b[1;33m)\u001b[0m\u001b[1;33m\u001b[0m\u001b[1;33m\u001b[0m\u001b[0m\n\u001b[0m",
      "\u001b[1;31mNameError\u001b[0m: name 'cmp' is not defined"
     ]
    }
   ],
   "source": [
    "a=\"Lalitha\"\n",
    "b=\"Lalitha\"\n",
    "print(cmp(a,b))"
   ]
  },
  {
   "cell_type": "code",
   "execution_count": 25,
   "metadata": {},
   "outputs": [
    {
     "name": "stdout",
     "output_type": "stream",
     "text": [
      "5\n",
      "12345\n",
      "['12345']\n"
     ]
    }
   ],
   "source": [
    "n=int(input())\n",
    "s=input()\n",
    "s=s.split()\n",
    "print(s)"
   ]
  },
  {
   "cell_type": "code",
   "execution_count": 27,
   "metadata": {},
   "outputs": [
    {
     "name": "stdout",
     "output_type": "stream",
     "text": [
      "5\n",
      "12345\n",
      "['1', '2', '3', '4', '5']\n"
     ]
    }
   ],
   "source": [
    "n=int(input())\n",
    "s=input()\n",
    "l=[]\n",
    "for i in range(len(s)):\n",
    "    l.append(s[i])\n",
    "print(l)"
   ]
  },
  {
   "cell_type": "code",
   "execution_count": null,
   "metadata": {},
   "outputs": [],
   "source": []
  }
 ],
 "metadata": {
  "kernelspec": {
   "display_name": "Python 3",
   "language": "python",
   "name": "python3"
  },
  "language_info": {
   "codemirror_mode": {
    "name": "ipython",
    "version": 3
   },
   "file_extension": ".py",
   "mimetype": "text/x-python",
   "name": "python",
   "nbconvert_exporter": "python",
   "pygments_lexer": "ipython3",
   "version": "3.7.3"
  }
 },
 "nbformat": 4,
 "nbformat_minor": 2
}
