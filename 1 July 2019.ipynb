{
 "cells": [
  {
   "cell_type": "code",
   "execution_count": 2,
   "metadata": {
    "scrolled": true
   },
   "outputs": [
    {
     "data": {
      "text/html": [
       "<div>\n",
       "<style scoped>\n",
       "    .dataframe tbody tr th:only-of-type {\n",
       "        vertical-align: middle;\n",
       "    }\n",
       "\n",
       "    .dataframe tbody tr th {\n",
       "        vertical-align: top;\n",
       "    }\n",
       "\n",
       "    .dataframe thead th {\n",
       "        text-align: right;\n",
       "    }\n",
       "</style>\n",
       "<table border=\"1\" class=\"dataframe\">\n",
       "  <thead>\n",
       "    <tr style=\"text-align: right;\">\n",
       "      <th></th>\n",
       "      <th>GEOID</th>\n",
       "      <th>State</th>\n",
       "      <th>2005</th>\n",
       "      <th>2006</th>\n",
       "      <th>2007</th>\n",
       "      <th>2008</th>\n",
       "      <th>2009</th>\n",
       "      <th>2010</th>\n",
       "      <th>2011</th>\n",
       "      <th>2012</th>\n",
       "      <th>2013</th>\n",
       "    </tr>\n",
       "  </thead>\n",
       "  <tbody>\n",
       "    <tr>\n",
       "      <th>0</th>\n",
       "      <td>04000US01</td>\n",
       "      <td>Alabama</td>\n",
       "      <td>37150</td>\n",
       "      <td>37952</td>\n",
       "      <td>42212</td>\n",
       "      <td>44476</td>\n",
       "      <td>39980</td>\n",
       "      <td>40933</td>\n",
       "      <td>42590</td>\n",
       "      <td>43464</td>\n",
       "      <td>41381</td>\n",
       "    </tr>\n",
       "    <tr>\n",
       "      <th>1</th>\n",
       "      <td>04000US02</td>\n",
       "      <td>Alaska</td>\n",
       "      <td>55891</td>\n",
       "      <td>56418</td>\n",
       "      <td>62993</td>\n",
       "      <td>63989</td>\n",
       "      <td>61604</td>\n",
       "      <td>57848</td>\n",
       "      <td>57431</td>\n",
       "      <td>63648</td>\n",
       "      <td>61137</td>\n",
       "    </tr>\n",
       "    <tr>\n",
       "      <th>2</th>\n",
       "      <td>04000US04</td>\n",
       "      <td>Arizona</td>\n",
       "      <td>45245</td>\n",
       "      <td>46657</td>\n",
       "      <td>62993</td>\n",
       "      <td>46914</td>\n",
       "      <td>45739</td>\n",
       "      <td>46896</td>\n",
       "      <td>48621</td>\n",
       "      <td>47044</td>\n",
       "      <td>50602</td>\n",
       "    </tr>\n",
       "    <tr>\n",
       "      <th>3</th>\n",
       "      <td>04000US05</td>\n",
       "      <td>Arkansas</td>\n",
       "      <td>36658</td>\n",
       "      <td>37057</td>\n",
       "      <td>40795</td>\n",
       "      <td>39586</td>\n",
       "      <td>36538</td>\n",
       "      <td>38587</td>\n",
       "      <td>41302</td>\n",
       "      <td>39018</td>\n",
       "      <td>39919</td>\n",
       "    </tr>\n",
       "    <tr>\n",
       "      <th>4</th>\n",
       "      <td>04000US06</td>\n",
       "      <td>California</td>\n",
       "      <td>51755</td>\n",
       "      <td>55319</td>\n",
       "      <td>55734</td>\n",
       "      <td>57014</td>\n",
       "      <td>56134</td>\n",
       "      <td>54283</td>\n",
       "      <td>53367</td>\n",
       "      <td>57020</td>\n",
       "      <td>57528</td>\n",
       "    </tr>\n",
       "  </tbody>\n",
       "</table>\n",
       "</div>"
      ],
      "text/plain": [
       "       GEOID       State   2005   2006   2007   2008   2009   2010   2011  \\\n",
       "0  04000US01     Alabama  37150  37952  42212  44476  39980  40933  42590   \n",
       "1  04000US02      Alaska  55891  56418  62993  63989  61604  57848  57431   \n",
       "2  04000US04     Arizona  45245  46657  62993  46914  45739  46896  48621   \n",
       "3  04000US05    Arkansas  36658  37057  40795  39586  36538  38587  41302   \n",
       "4  04000US06  California  51755  55319  55734  57014  56134  54283  53367   \n",
       "\n",
       "    2012   2013  \n",
       "0  43464  41381  \n",
       "1  63648  61137  \n",
       "2  47044  50602  \n",
       "3  39018  39919  \n",
       "4  57020  57528  "
      ]
     },
     "execution_count": 2,
     "metadata": {},
     "output_type": "execute_result"
    }
   ],
   "source": [
    "import pandas as pd\n",
    "filepath='DataFiles/income.csv'\n",
    "def readCSVdata(filepath):\n",
    "    return pd.read_csv(filepath)\n",
    "readCSVdata(filepath)"
   ]
  },
  {
   "cell_type": "code",
   "execution_count": 6,
   "metadata": {},
   "outputs": [
    {
     "name": "stdout",
     "output_type": "stream",
     "text": [
      "04000US02 Alaska 55891 56418 62993 63989 61604 57848 57431 63648 61137 "
     ]
    }
   ],
   "source": [
    "\n",
    "incomedf=readCSVdata(filepath)\n",
    "def accessDataFrameRow(df,key):\n",
    "    \n",
    "    for row in df.values:\n",
    "        if key in row:\n",
    "            for item in row:\n",
    "                print(item,end=' ' )\n",
    "    return\n",
    "accessDataFrameRow(incomedf,'Alaska')\n",
    "                "
   ]
  },
  {
   "cell_type": "code",
   "execution_count": 25,
   "metadata": {},
   "outputs": [
    {
     "data": {
      "text/plain": [
       "60106.555555555555"
      ]
     },
     "execution_count": 25,
     "metadata": {},
     "output_type": "execute_result"
    }
   ],
   "source": [
    "incomedf=readCSVdata(filepath)\n",
    "def stateavg(df,key):\n",
    "    li=[]\n",
    "    for row in df.values:\n",
    "        if key in row:\n",
    "            for item in row:\n",
    "                li.append(item)\n",
    "    #print(li[2:11])\n",
    "    s=sum(li[2:11])\n",
    "    a=s/len(li[2:11])\n",
    "    return a\n",
    "stateavg(incomedf,'Alaska')"
   ]
  },
  {
   "cell_type": "code",
   "execution_count": 26,
   "metadata": {},
   "outputs": [
    {
     "data": {
      "text/plain": [
       "[41126.444444444445,\n",
       " 60106.555555555555,\n",
       " 60106.555555555555,\n",
       " 38828.88888888889,\n",
       " 55350.444444444445]"
      ]
     },
     "execution_count": 26,
     "metadata": {},
     "output_type": "execute_result"
    }
   ],
   "source": [
    "# Average Income of all states from 2005 to 2013\n",
    "incomedf=readCSVdata(filepath)\n",
    "def allstatesavg(df):\n",
    "    avgli=[]\n",
    "    for row in df.values:\n",
    "        h=stateavg(df,row)\n",
    "        avgli.append(h)\n",
    "    return avgli\n",
    "allstatesavg(incomedf)"
   ]
  },
  {
   "cell_type": "code",
   "execution_count": 29,
   "metadata": {},
   "outputs": [
    {
     "data": {
      "text/plain": [
       "60738.666666666664"
      ]
     },
     "execution_count": 29,
     "metadata": {},
     "output_type": "execute_result"
    }
   ],
   "source": [
    "# average income in the last three years\n",
    "incomedf=readCSVdata(filepath)\n",
    "def last3years_state(df,key):\n",
    "    li=[]\n",
    "    for row in df.values:\n",
    "        if key in row:\n",
    "            for item in row:\n",
    "                li.append(item)\n",
    "    #print(li[2:11])\n",
    "    s=sum(li[-3:])\n",
    "    \n",
    "    a=s/len(li[-3:])\n",
    "    return a\n",
    "last3years_state(incomedf,'Alaska')"
   ]
  },
  {
   "cell_type": "code",
   "execution_count": 32,
   "metadata": {},
   "outputs": [
    {
     "name": "stdout",
     "output_type": "stream",
     "text": [
      "[42478.333333333336, 48755.666666666664, 48755.666666666664, 40079.666666666664, 55971.666666666664]\n"
     ]
    },
    {
     "data": {
      "text/plain": [
       "55971.666666666664"
      ]
     },
     "execution_count": 32,
     "metadata": {},
     "output_type": "execute_result"
    }
   ],
   "source": [
    "#State with highest average income in the last three years\n",
    "incomedf=readCSVdata(filepath)\n",
    "def last3years_allstates(df):\n",
    "    last3avg=[]\n",
    "    for row in df.values:\n",
    "        h=last3years_state(df,row)\n",
    "        last3avg.append(h)\n",
    "    print(last3avg)\n",
    "    return max(last3avg)\n",
    "last3years_allstates(incomedf)"
   ]
  },
  {
   "cell_type": "code",
   "execution_count": 41,
   "metadata": {},
   "outputs": [
    {
     "data": {
      "text/plain": [
       "61608.5"
      ]
     },
     "execution_count": 41,
     "metadata": {},
     "output_type": "execute_result"
    }
   ],
   "source": [
    "# average income from 2007 to 2010(inclusive) for one state\n",
    "def avgfrom07to10(df,key):\n",
    "    li=[]\n",
    "    for row in df.values:\n",
    "        if key in row:\n",
    "            for item in row:\n",
    "                li.append(item)\n",
    "    s=sum(li[4:8])\n",
    "    a=s/len(li[4:8])\n",
    "    return a\n",
    "avgfrom07to10(incomedf,'Alaska')"
   ]
  },
  {
   "cell_type": "code",
   "execution_count": 43,
   "metadata": {},
   "outputs": [
    {
     "name": "stdout",
     "output_type": "stream",
     "text": [
      "[41900.25, 61608.5, 61608.5, 38876.5, 55791.25]\n"
     ]
    },
    {
     "data": {
      "text/plain": [
       "38876.5"
      ]
     },
     "execution_count": 43,
     "metadata": {},
     "output_type": "execute_result"
    }
   ],
   "source": [
    "# State with lowest average income from 2007 to 2010(inclusive)\n",
    "def lowavgincomeo7to10_forall(df):\n",
    "    avgli=[]\n",
    "    for row in df.values:\n",
    "        g=avgfrom07to10(df,row)\n",
    "        avgli.append(g)\n",
    "    print(avgli)\n",
    "    return min(avgli)\n",
    "lowavgincomeo7to10_forall(incomedf)"
   ]
  },
  {
   "cell_type": "code",
   "execution_count": 47,
   "metadata": {},
   "outputs": [
    {
     "name": "stdout",
     "output_type": "stream",
     "text": [
      "caliaa===== 55971.666666666664\n",
      "Alabama 42478.333333333336\n",
      "Alaska 48755.666666666664\n",
      "Arizona 48755.666666666664\n",
      "Arkansas 40079.666666666664\n"
     ]
    }
   ],
   "source": [
    "# Print the list of all states in the same line with average income less than California\n",
    "def avglessthancalifornia(df,key):\n",
    "    #key='California'\n",
    "    \n",
    "    california_avg=stateavg(df,key)\n",
    "    print('caliaa=====',california_avg)\n",
    "    for row in df.values:\n",
    "        avg=stateavg(df,row)\n",
    "        if(avg<california_avg):\n",
    "            print(row[1],avg)\n",
    "    return\n",
    "avglessthancalifornia(incomedf,'California')\n"
   ]
  },
  {
   "cell_type": "code",
   "execution_count": 48,
   "metadata": {},
   "outputs": [
    {
     "data": {
      "text/html": [
       "<div>\n",
       "<style scoped>\n",
       "    .dataframe tbody tr th:only-of-type {\n",
       "        vertical-align: middle;\n",
       "    }\n",
       "\n",
       "    .dataframe tbody tr th {\n",
       "        vertical-align: top;\n",
       "    }\n",
       "\n",
       "    .dataframe thead th {\n",
       "        text-align: right;\n",
       "    }\n",
       "</style>\n",
       "<table border=\"1\" class=\"dataframe\">\n",
       "  <thead>\n",
       "    <tr style=\"text-align: right;\">\n",
       "      <th></th>\n",
       "      <th>GEOID</th>\n",
       "      <th>State</th>\n",
       "      <th>2005</th>\n",
       "      <th>2006</th>\n",
       "      <th>2007</th>\n",
       "      <th>2008</th>\n",
       "      <th>2009</th>\n",
       "      <th>2010</th>\n",
       "      <th>2011</th>\n",
       "      <th>2012</th>\n",
       "      <th>2013</th>\n",
       "    </tr>\n",
       "  </thead>\n",
       "  <tbody>\n",
       "    <tr>\n",
       "      <th>0</th>\n",
       "      <td>04000US01</td>\n",
       "      <td>Alabama</td>\n",
       "      <td>37150</td>\n",
       "      <td>37952</td>\n",
       "      <td>42212</td>\n",
       "      <td>44476</td>\n",
       "      <td>39980</td>\n",
       "      <td>40933</td>\n",
       "      <td>42590</td>\n",
       "      <td>43464</td>\n",
       "      <td>41381</td>\n",
       "    </tr>\n",
       "    <tr>\n",
       "      <th>1</th>\n",
       "      <td>04000US02</td>\n",
       "      <td>Alaska</td>\n",
       "      <td>55891</td>\n",
       "      <td>56418</td>\n",
       "      <td>62993</td>\n",
       "      <td>63989</td>\n",
       "      <td>61604</td>\n",
       "      <td>57848</td>\n",
       "      <td>57431</td>\n",
       "      <td>63648</td>\n",
       "      <td>61137</td>\n",
       "    </tr>\n",
       "    <tr>\n",
       "      <th>2</th>\n",
       "      <td>04000US04</td>\n",
       "      <td>Arizona</td>\n",
       "      <td>45245</td>\n",
       "      <td>46657</td>\n",
       "      <td>62993</td>\n",
       "      <td>46914</td>\n",
       "      <td>45739</td>\n",
       "      <td>46896</td>\n",
       "      <td>48621</td>\n",
       "      <td>47044</td>\n",
       "      <td>50602</td>\n",
       "    </tr>\n",
       "    <tr>\n",
       "      <th>3</th>\n",
       "      <td>04000US05</td>\n",
       "      <td>Arkansas</td>\n",
       "      <td>36658</td>\n",
       "      <td>37057</td>\n",
       "      <td>40795</td>\n",
       "      <td>39586</td>\n",
       "      <td>36538</td>\n",
       "      <td>38587</td>\n",
       "      <td>41302</td>\n",
       "      <td>39018</td>\n",
       "      <td>39919</td>\n",
       "    </tr>\n",
       "    <tr>\n",
       "      <th>4</th>\n",
       "      <td>04000US06</td>\n",
       "      <td>California</td>\n",
       "      <td>51755</td>\n",
       "      <td>55319</td>\n",
       "      <td>55734</td>\n",
       "      <td>57014</td>\n",
       "      <td>56134</td>\n",
       "      <td>54283</td>\n",
       "      <td>53367</td>\n",
       "      <td>57020</td>\n",
       "      <td>57528</td>\n",
       "    </tr>\n",
       "  </tbody>\n",
       "</table>\n",
       "</div>"
      ],
      "text/plain": [
       "       GEOID       State   2005   2006   2007   2008   2009   2010   2011  \\\n",
       "0  04000US01     Alabama  37150  37952  42212  44476  39980  40933  42590   \n",
       "1  04000US02      Alaska  55891  56418  62993  63989  61604  57848  57431   \n",
       "2  04000US04     Arizona  45245  46657  62993  46914  45739  46896  48621   \n",
       "3  04000US05    Arkansas  36658  37057  40795  39586  36538  38587  41302   \n",
       "4  04000US06  California  51755  55319  55734  57014  56134  54283  53367   \n",
       "\n",
       "    2012   2013  \n",
       "0  43464  41381  \n",
       "1  63648  61137  \n",
       "2  47044  50602  \n",
       "3  39018  39919  \n",
       "4  57020  57528  "
      ]
     },
     "execution_count": 48,
     "metadata": {},
     "output_type": "execute_result"
    }
   ],
   "source": [
    "import pandas as pd\n",
    "filepath='DataFiles/income.csv'\n",
    "def readCSVdata(filepath):\n",
    "    return pd.read_csv(filepath)\n",
    "readCSVdata(filepath)"
   ]
  },
  {
   "cell_type": "code",
   "execution_count": 65,
   "metadata": {},
   "outputs": [
    {
     "name": "stdout",
     "output_type": "stream",
     "text": [
      "Alabama\n",
      "Alaska\n",
      "Arizona\n",
      "Arkansas\n",
      "California\n"
     ]
    }
   ],
   "source": [
    "\n",
    "incomedf=readCSVdata(filepath)\n",
    "def dict_2009(df):\n",
    "    d={}\n",
    "    for row in df.values:\n",
    "        print(row[1])\n",
    "    return\n",
    "dict_2009(incomedf)"
   ]
  },
  {
   "cell_type": "code",
   "execution_count": 80,
   "metadata": {},
   "outputs": [
    {
     "data": {
      "text/plain": [
       "[55891, 56418, 62993, 63989, 61604, 57848, 57431, 63648, 61137]"
      ]
     },
     "execution_count": 80,
     "metadata": {},
     "output_type": "execute_result"
    }
   ],
   "source": [
    "# State with the lowest recorded income from 2005 to 2013\n",
    "\n",
    "#def lowestincome(df):\n",
    "\n",
    "incomedf=readCSVdata(filepath)\n",
    "def income(df,key):\n",
    "    li=[]\n",
    "    for row in df.values:\n",
    "        if key in row:\n",
    "            for item in row:\n",
    "                li.append(item)\n",
    "    li=li[2:11]\n",
    "    return li\n",
    "income(incomedf,'Alaska')"
   ]
  },
  {
   "cell_type": "code",
   "execution_count": 86,
   "metadata": {
    "scrolled": true
   },
   "outputs": [
    {
     "name": "stdout",
     "output_type": "stream",
     "text": [
      "37150\n",
      "55891\n",
      "55891\n",
      "36538\n",
      "51755\n"
     ]
    },
    {
     "data": {
      "text/plain": [
       "36538"
      ]
     },
     "execution_count": 86,
     "metadata": {},
     "output_type": "execute_result"
    }
   ],
   "source": [
    "incomedf=readCSVdata(filepath)\n",
    "def lowestrecordedincome_05to13(df):\n",
    "    minimum=0\n",
    "    allmin=[]\n",
    "    for row in df.values:\n",
    "        li=income(df,row)\n",
    "        print(min(li))\n",
    "        allmin.append(min(li))\n",
    "    return min(allmin)\n",
    "lowestrecordedincome_05to13(incomedf)\n",
    "        "
   ]
  },
  {
   "cell_type": "code",
   "execution_count": null,
   "metadata": {},
   "outputs": [],
   "source": []
  }
 ],
 "metadata": {
  "kernelspec": {
   "display_name": "Python 3",
   "language": "python",
   "name": "python3"
  },
  "language_info": {
   "codemirror_mode": {
    "name": "ipython",
    "version": 3
   },
   "file_extension": ".py",
   "mimetype": "text/x-python",
   "name": "python",
   "nbconvert_exporter": "python",
   "pygments_lexer": "ipython3",
   "version": "3.7.3"
  }
 },
 "nbformat": 4,
 "nbformat_minor": 2
}
