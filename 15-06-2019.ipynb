{
 "cells": [
  {
   "cell_type": "code",
   "execution_count": 7,
   "metadata": {},
   "outputs": [
    {
     "name": "stdout",
     "output_type": "stream",
     "text": [
      "lALitHA\n"
     ]
    }
   ],
   "source": [
    "# upper to lower\n",
    "s=\"LalITha\"\n",
    "s1=\"\"\n",
    "for i in s:\n",
    "    if i==i.lower():\n",
    "        s1=s1+i.upper()\n",
    "    elif i==i.upper():\n",
    "        s1=s1+i.lower()\n",
    "print(s1)"
   ]
  },
  {
   "cell_type": "code",
   "execution_count": 9,
   "metadata": {},
   "outputs": [
    {
     "name": "stdout",
     "output_type": "stream",
     "text": [
      "YES\n"
     ]
    }
   ],
   "source": [
    "#reverse of string\n",
    "s=\"madam\"\n",
    "if s==s[::-1]:\n",
    "    print(\"YES\")\n",
    "else:\n",
    "    print(\"NO\")\n"
   ]
  },
  {
   "cell_type": "code",
   "execution_count": null,
   "metadata": {},
   "outputs": [],
   "source": [
    "n=input()\n",
    "for i in range(n+1):\n",
    "    s1,s2=input(),input()\n",
    "    s1=s1.sorted()\n",
    "    s2=s2.sorted()\n",
    "    if(s1==s2):\n",
    "        print(\"YES\")\n",
    "    else:\n",
    "        print(\"NO\")\n",
    "    "
   ]
  },
  {
   "cell_type": "code",
   "execution_count": null,
   "metadata": {},
   "outputs": [],
   "source": [
    "3\n",
    "sumit,mitsu\n",
    "ambuj,jumba\n",
    "abhi,hibb"
   ]
  },
  {
   "cell_type": "code",
   "execution_count": 6,
   "metadata": {},
   "outputs": [
    {
     "name": "stdout",
     "output_type": "stream",
     "text": [
      "294\n",
      "294\n"
     ]
    }
   ],
   "source": [
    "s=\"abc bca\"\n",
    "s=s.split()\n",
    "s1=s[0]\n",
    "s2=s[1]\n",
    "sm1=0\n",
    "sm2=0\n",
    "for ch in s1:\n",
    "    sm1=sm1+ord(ch)\n",
    "print(sm1)\n",
    "for ch in s2:\n",
    "    sm2=sm2+ord(ch)\n",
    "print(sm2)\n"
   ]
  },
  {
   "cell_type": "code",
   "execution_count": 11,
   "metadata": {},
   "outputs": [
    {
     "name": "stdout",
     "output_type": "stream",
     "text": [
      "YES\n"
     ]
    }
   ],
   "source": [
    "s=\"ambuj jumba\"\n",
    "s=s.split()\n",
    "s1=s[0]\n",
    "s2=s[1]\n",
    "if sorted(s1) == sorted(s2):\n",
    "    print(\"YES\")\n",
    "else:\n",
    "    print(\"NO\")\n"
   ]
  },
  {
   "cell_type": "code",
   "execution_count": null,
   "metadata": {},
   "outputs": [],
   "source": [
    "def toggle():\n",
    "    s=input()\n",
    "    new=\"\"\n",
    "    cap=['A','B','C','D','E','F']\n",
    "    sml=['a','b','c','d','e','f']\n",
    "    for i in s:\n",
    "        if i in cap:\n",
    "            n=cap.index(i)\n",
    "            new=new+sml[n]\n",
    "        if i in sml:\n",
    "            m=sml.index(i)\n",
    "            new=new+cap[m]\n",
    "    print(new)\n",
    "toggle()\n",
    "            "
   ]
  },
  {
   "cell_type": "code",
   "execution_count": null,
   "metadata": {},
   "outputs": [],
   "source": []
  }
 ],
 "metadata": {
  "kernelspec": {
   "display_name": "Python 3",
   "language": "python",
   "name": "python3"
  },
  "language_info": {
   "codemirror_mode": {
    "name": "ipython",
    "version": 3
   },
   "file_extension": ".py",
   "mimetype": "text/x-python",
   "name": "python",
   "nbconvert_exporter": "python",
   "pygments_lexer": "ipython3",
   "version": "3.7.3"
  }
 },
 "nbformat": 4,
 "nbformat_minor": 2
}
