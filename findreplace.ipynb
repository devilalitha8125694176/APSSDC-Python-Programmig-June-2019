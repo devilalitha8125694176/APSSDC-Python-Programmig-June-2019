{
 "cells": [
  {
   "cell_type": "code",
   "execution_count": null,
   "metadata": {},
   "outputs": [],
   "source": []
  },
  {
   "cell_type": "code",
   "execution_count": null,
   "metadata": {},
   "outputs": [],
   "source": []
  },
  {
   "cell_type": "code",
   "execution_count": 10,
   "metadata": {},
   "outputs": [],
   "source": [
    "def findcount(filepath,s1,s2):\n",
    "    c=0\n",
    "    li=[]\n",
    "    with open(filepath,'r') as f:\n",
    "        for i in f:\n",
    "            li.append(f)\n",
    "        for i in range(len(li)):\n",
    "            if(str(li).find(s1)):\n",
    "                d=str(li).find(s1)\n",
    "                s1.replace(s1,s2)\n",
    "    return \n",
    "findcount('DataFiles/findreplace.txt',\"hi\",\"BYE\")"
   ]
  },
  {
   "cell_type": "code",
   "execution_count": null,
   "metadata": {},
   "outputs": [],
   "source": [
    "x = \"Hello world!\"\n",
    "y = x.replace(\"Hello\", \"Bye\")\n",
    "print(y) #Will print out \"Bye World!\""
   ]
  },
  {
   "cell_type": "code",
   "execution_count": 1,
   "metadata": {},
   "outputs": [],
   "source": [
    "s=\"hello welcome to apssdc python training\"\n",
    "\n"
   ]
  },
  {
   "cell_type": "code",
   "execution_count": 18,
   "metadata": {},
   "outputs": [
    {
     "name": "stdout",
     "output_type": "stream",
     "text": [
      "hello hi good morning\n",
      "\n",
      "hi welcome to training hi hello hi\n"
     ]
    }
   ],
   "source": [
    "def sample(filepath):\n",
    "    with open(filepath,'r') as f:\n",
    "        for i in f:\n",
    "            print(i)\n",
    "sample('DataFiles/findreplace.txt')"
   ]
  },
  {
   "cell_type": "code",
   "execution_count": 23,
   "metadata": {},
   "outputs": [],
   "source": [
    "def sample(filepath,s1,s2):\n",
    "    with open(filepath,'r') as f:\n",
    "        for i in f:\n",
    "            if s1 in f:\n",
    "                f.replace(s1,s2)\n",
    "    return\n",
    "sample('DataFiles/findreplace.txt',\"hi\",'Bye')"
   ]
  },
  {
   "cell_type": "code",
   "execution_count": 29,
   "metadata": {},
   "outputs": [],
   "source": [
    "with open('DataFiles/findreplace.txt', 'r') as file :\n",
    "    filedata = file.read()\n",
    "\n",
    "# Replace the target string\n",
    "filedata = filedata.replace('hi', 'Bye')\n",
    "\n",
    "# Write the file out again\n",
    "with open('findreplace.txt', 'w') as file:\n",
    "    file.write(filedata)"
   ]
  },
  {
   "cell_type": "code",
   "execution_count": 27,
   "metadata": {},
   "outputs": [
    {
     "name": "stdout",
     "output_type": "stream",
     "text": [
      "hello hi good morning\n",
      "\n",
      "hi welcome to training hi hello hi\n"
     ]
    }
   ],
   "source": [
    "def sample(filepath):\n",
    "    with open(filepath,'r') as f:\n",
    "        for i in f:\n",
    "            print(i)\n",
    "sample('DataFiles/findreplace.txt')"
   ]
  },
  {
   "cell_type": "code",
   "execution_count": 30,
   "metadata": {},
   "outputs": [
    {
     "ename": "NameError",
     "evalue": "name 'filein' is not defined",
     "output_type": "error",
     "traceback": [
      "\u001b[1;31m---------------------------------------------------------------------------\u001b[0m",
      "\u001b[1;31mNameError\u001b[0m                                 Traceback (most recent call last)",
      "\u001b[1;32m<ipython-input-30-515eff0f1037>\u001b[0m in \u001b[0;36m<module>\u001b[1;34m\u001b[0m\n\u001b[1;32m----> 1\u001b[1;33m \u001b[0mf\u001b[0m \u001b[1;33m=\u001b[0m \u001b[0mopen\u001b[0m\u001b[1;33m(\u001b[0m\u001b[0mfilein\u001b[0m\u001b[1;33m,\u001b[0m\u001b[1;34m'r'\u001b[0m\u001b[1;33m)\u001b[0m\u001b[1;33m\u001b[0m\u001b[1;33m\u001b[0m\u001b[0m\n\u001b[0m\u001b[0;32m      2\u001b[0m \u001b[0mfiledata\u001b[0m \u001b[1;33m=\u001b[0m \u001b[0mf\u001b[0m\u001b[1;33m.\u001b[0m\u001b[0mread\u001b[0m\u001b[1;33m(\u001b[0m\u001b[1;33m)\u001b[0m\u001b[1;33m\u001b[0m\u001b[1;33m\u001b[0m\u001b[0m\n\u001b[0;32m      3\u001b[0m \u001b[0mf\u001b[0m\u001b[1;33m.\u001b[0m\u001b[0mclose\u001b[0m\u001b[1;33m(\u001b[0m\u001b[1;33m)\u001b[0m\u001b[1;33m\u001b[0m\u001b[1;33m\u001b[0m\u001b[0m\n\u001b[0;32m      4\u001b[0m \u001b[1;33m\u001b[0m\u001b[0m\n\u001b[0;32m      5\u001b[0m \u001b[0mnewdata\u001b[0m \u001b[1;33m=\u001b[0m \u001b[0mfiledata\u001b[0m\u001b[1;33m.\u001b[0m\u001b[0mreplace\u001b[0m\u001b[1;33m(\u001b[0m\u001b[1;34m\"old data\"\u001b[0m\u001b[1;33m,\u001b[0m\u001b[1;34m\"new data\"\u001b[0m\u001b[1;33m)\u001b[0m\u001b[1;33m\u001b[0m\u001b[1;33m\u001b[0m\u001b[0m\n",
      "\u001b[1;31mNameError\u001b[0m: name 'filein' is not defined"
     ]
    }
   ],
   "source": [
    "f = open(filein,'r')\n",
    "filedata = f.read()\n",
    "f.close()\n",
    "\n",
    "newdata = filedata.replace(\"old data\",\"new data\")\n",
    "filein=(\"DataFiles/\")\n",
    "f = open(fileout,'w')\n",
    "f.write(newdata)\n",
    "f.close()"
   ]
  },
  {
   "cell_type": "code",
   "execution_count": null,
   "metadata": {},
   "outputs": [],
   "source": []
  }
 ],
 "metadata": {
  "kernelspec": {
   "display_name": "Python 3",
   "language": "python",
   "name": "python3"
  },
  "language_info": {
   "codemirror_mode": {
    "name": "ipython",
    "version": 3
   },
   "file_extension": ".py",
   "mimetype": "text/x-python",
   "name": "python",
   "nbconvert_exporter": "python",
   "pygments_lexer": "ipython3",
   "version": "3.7.3"
  }
 },
 "nbformat": 4,
 "nbformat_minor": 2
}
