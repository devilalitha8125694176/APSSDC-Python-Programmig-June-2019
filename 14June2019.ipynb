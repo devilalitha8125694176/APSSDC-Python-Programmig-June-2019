{
 "cells": [
  {
   "cell_type": "markdown",
   "metadata": {},
   "source": [
    "### Problem Solving and Programming in Python\n",
    "#### Date 14 June 2019\n",
    "#### Day Objectives\n",
    "* pyhton Data Structures\n",
    "    * lists\n",
    "    * Tuples\n",
    "    * distionaries\n",
    "* basic Problem set on Data Structures\n",
    "* advanced Problem Set\n",
    "* packages and modules"
   ]
  },
  {
   "cell_type": "markdown",
   "metadata": {},
   "source": [
    "### Lists"
   ]
  },
  {
   "cell_type": "code",
   "execution_count": 35,
   "metadata": {},
   "outputs": [
    {
     "data": {
      "text/plain": [
       "456.0"
      ]
     },
     "execution_count": 35,
     "metadata": {},
     "output_type": "execute_result"
    }
   ],
   "source": [
    "li =[123,978,654]\n",
    "li # Access the Entire list [123,978,654]\n",
    "li[1] #Access an element with index in a list -->978\n",
    "li[1:] #Access all elements from second to last element [978,654]\n",
    "li[::-1] #copy of elements in reverse order [654,978,123]\n",
    "li # the order is same as initial [123,978,654]\n",
    "li=li[::-1] # here it assign li to reverse copy of elements\n",
    "li\n",
    "li #[654,978,123]\n",
    "li=li[::-1] # Re Assign of li\n",
    "li # [123,978,654]\n",
    "li[::2] #Accessing even index elements [123,654]\n",
    "# Lists can be Access, Manipulated in two different Ways\n",
    " # Direct Referencing -- [index]\n",
    " # InDirecct Referencing -- Throuch Functions\n",
    "\n",
    "li.append(345) # Adding an Element to end of the list\n",
    "li #--> [123, 978, 654, 345]\n",
    "li.insert(1,234) # Adding an element at a particular index\n",
    "li #[123, 234, 978, 654, 345] in Second position it add 234\n",
    "li.sort() #sort elements in assending order\n",
    "li #[123, 234, 345, 654, 978]\n",
    "li.pop() # remove last element in a list -->978\n",
    "li #[123, 234, 345, 654\n",
    "li.pop(1) #remove an element at a particular index -->234\n",
    "li # [123, 345, 654]\n",
    "li2=[234,456,789]\n",
    "#merge list 2 into list 1\n",
    "li.extend(li2)\n",
    "li #[123, 345, 654, 234, 456, 789]\n",
    "li2 #[234, 456, 789]\n",
    "sum(li) #add all elements in list and return the sum-->2601\n",
    "max(li) #return max element from a list\n",
    "len(li) #return the count of elements in the list -->6\n",
    "#average of list elements\n",
    "sum(li)/len(li)\n",
    "#average of all Alternate elements in even positions\n",
    "sum(li[::2])/len(li[::2])\n",
    "\n",
    "sum(li[1::2])/len(li[1::2])#Average of all odd position -->456\n",
    "\n"
   ]
  },
  {
   "cell_type": "code",
   "execution_count": 61,
   "metadata": {},
   "outputs": [
    {
     "data": {
      "text/plain": [
       "14"
      ]
     },
     "execution_count": 61,
     "metadata": {},
     "output_type": "execute_result"
    }
   ],
   "source": [
    "#function to identify the second largest element in the list for unique elements\n",
    "def secondlarge(li):\n",
    "    li.sort()\n",
    "    return li[-2]\n",
    "secondlarge([1,14,15,3,2])"
   ]
  },
  {
   "cell_type": "code",
   "execution_count": 62,
   "metadata": {},
   "outputs": [
    {
     "data": {
      "text/plain": [
       "3"
      ]
     },
     "execution_count": 62,
     "metadata": {},
     "output_type": "execute_result"
    }
   ],
   "source": [
    "#function which return the nth Largest number in the list for unique elements\n",
    "def nthlargest(li,n):\n",
    "    li.sort()\n",
    "    return li[-n]\n",
    "nthlargest([1,4,3,2,5],3)"
   ]
  },
  {
   "cell_type": "code",
   "execution_count": 73,
   "metadata": {},
   "outputs": [
    {
     "data": {
      "text/plain": [
       "-1"
      ]
     },
     "execution_count": 73,
     "metadata": {},
     "output_type": "execute_result"
    }
   ],
   "source": [
    "# function to search for data in a list\n",
    "def linearsearch(li,key):\n",
    "    flag=0\n",
    "    for i in range(0,len(li)):\n",
    "        if key==li[i]:\n",
    "            flag=1\n",
    "            return i\n",
    "            break\n",
    "    if flag==0:\n",
    "        return -1\n",
    "linearsearch([1,2,4,33,7,8],66)"
   ]
  },
  {
   "cell_type": "code",
   "execution_count": 76,
   "metadata": {},
   "outputs": [
    {
     "data": {
      "text/plain": [
       "2"
      ]
     },
     "execution_count": 76,
     "metadata": {},
     "output_type": "execute_result"
    }
   ],
   "source": [
    "#another way of Linear search\n",
    "def linsearch2(li,key):\n",
    "    for i in li:\n",
    "        if key==li[i]:\n",
    "            return i\n",
    "    return -1\n",
    "\n",
    "linsearch2([1,2,34,54,12],34)"
   ]
  },
  {
   "cell_type": "code",
   "execution_count": 78,
   "metadata": {},
   "outputs": [
    {
     "data": {
      "text/plain": [
       "2"
      ]
     },
     "execution_count": 78,
     "metadata": {},
     "output_type": "execute_result"
    }
   ],
   "source": [
    "# Simple way of doing linearch\n",
    "def linsearch3(li,key):\n",
    "    for i in li:\n",
    "        if i==key:\n",
    "            return li.index(i)\n",
    "    return -1\n",
    "\n",
    "linsearch3([1,23,45,33,67],45)"
   ]
  },
  {
   "cell_type": "code",
   "execution_count": 82,
   "metadata": {},
   "outputs": [
    {
     "data": {
      "text/plain": [
       "3"
      ]
     },
     "execution_count": 82,
     "metadata": {},
     "output_type": "execute_result"
    }
   ],
   "source": [
    "# Sinle line Solution\n",
    "def opimizedlinsearch(li,key):\n",
    "    return li.index(key)\n",
    "#opimizedlinsearch([12,34,45,67,78,11],67) -->3\n",
    "#opimizedlinsearch([12,34,45,67,78,11],677) --->Error"
   ]
  },
  {
   "cell_type": "code",
   "execution_count": 86,
   "metadata": {},
   "outputs": [
    {
     "data": {
      "text/plain": [
       "-1"
      ]
     },
     "execution_count": 86,
     "metadata": {},
     "output_type": "execute_result"
    }
   ],
   "source": [
    "#if any error if index not found we have to use try and except\n",
    "def opimizedlinsearch1(li,key):\n",
    "    try:\n",
    "        return li.index(key)\n",
    "    except:\n",
    "        return -1\n",
    "opimizedlinsearch1([1,22,12,34,56,67],677)"
   ]
  },
  {
   "cell_type": "code",
   "execution_count": 91,
   "metadata": {},
   "outputs": [
    {
     "data": {
      "text/plain": [
       "-1"
      ]
     },
     "execution_count": 91,
     "metadata": {},
     "output_type": "execute_result"
    }
   ],
   "source": [
    "#uisng if statement\n",
    "def linsearch3(li,key):\n",
    "    if key in li:\n",
    "        return li.index(key)\n",
    "    return -1\n",
    "linsearch3([1,23,22,45,67,89],899)"
   ]
  },
  {
   "cell_type": "code",
   "execution_count": 99,
   "metadata": {},
   "outputs": [
    {
     "data": {
      "text/plain": [
       "4"
      ]
     },
     "execution_count": 99,
     "metadata": {},
     "output_type": "execute_result"
    }
   ],
   "source": [
    "#function to count the occurance of a character \n",
    "#input string - python programming \n",
    "#input occrance char -- m\n",
    "#output -2 m occar in 2 times in given string\n",
    "def countoccrancestr(str1,c):\n",
    "    return str1.count(c)\n",
    "countoccrancestr(\"Python Programming is good programming\",'m')"
   ]
  },
  {
   "cell_type": "code",
   "execution_count": 1,
   "metadata": {},
   "outputs": [
    {
     "data": {
      "text/plain": [
       "2"
      ]
     },
     "execution_count": 1,
     "metadata": {},
     "output_type": "execute_result"
    }
   ],
   "source": [
    "#manual program for count the characters\n",
    "def countCharOccrance(s,c):\n",
    "    count=0\n",
    "    for ch in s:\n",
    "        if ch==c:\n",
    "            count=count+1\n",
    "    return count\n",
    "countCharOccrance(\"lalitha\",'a')"
   ]
  },
  {
   "cell_type": "code",
   "execution_count": 108,
   "metadata": {},
   "outputs": [],
   "source": [
    "#CountSubstrcount\n",
    "def CountSubstrcount(s,c):\n",
    "    i=0\n",
    "    d=0\n",
    "    c1=len(c)\n",
    "    c2=len(s)\n",
    "    while i<c2:\n",
    "        if s[i:i+c1]==c[0:c1]:\n",
    "            d=d+1\n",
    "            i=i+c1\n",
    "        else:\n",
    "            i=i+1\n",
    "    return d"
   ]
  },
  {
   "cell_type": "code",
   "execution_count": 109,
   "metadata": {},
   "outputs": [
    {
     "data": {
      "text/plain": [
       "2"
      ]
     },
     "execution_count": 109,
     "metadata": {},
     "output_type": "execute_result"
    }
   ],
   "source": [
    "CountSubstrcount(\"abcabcddcba\",\"ab\")"
   ]
  },
  {
   "cell_type": "code",
   "execution_count": 110,
   "metadata": {},
   "outputs": [
    {
     "data": {
      "text/plain": [
       "2"
      ]
     },
     "execution_count": 110,
     "metadata": {},
     "output_type": "execute_result"
    }
   ],
   "source": [
    "CountSubstrcount(\"Lalitha\",'a')"
   ]
  },
  {
   "cell_type": "code",
   "execution_count": 111,
   "metadata": {},
   "outputs": [
    {
     "data": {
      "text/plain": [
       "3"
      ]
     },
     "execution_count": 111,
     "metadata": {},
     "output_type": "execute_result"
    }
   ],
   "source": [
    "CountSubstrcount(\"1232212224522\",'22')"
   ]
  },
  {
   "cell_type": "code",
   "execution_count": 3,
   "metadata": {},
   "outputs": [
    {
     "data": {
      "text/plain": [
       "4"
      ]
     },
     "execution_count": 3,
     "metadata": {},
     "output_type": "execute_result"
    }
   ],
   "source": [
    "def CountSubstrcount1(s,c):\n",
    "    i=0\n",
    "    d=0\n",
    "    c1=len(c)\n",
    "    c2=len(s)\n",
    "    while i<c2:\n",
    "        if s[i:i+c1]==c[0:c1]:\n",
    "            d=d+1\n",
    "        i=i+1\n",
    "    return d\n",
    "CountSubstrcount1(\"1232212224522\",'22')"
   ]
  },
  {
   "cell_type": "markdown",
   "metadata": {},
   "source": [
    "#### s=\"1 2 3 4 5 6\"\n",
    "li=s.split()\n",
    "numberlist=[]\n",
    "for i in li:\n",
    "    numberlist.append(int(i))\n",
    "numberlist"
   ]
  },
  {
   "cell_type": "code",
   "execution_count": null,
   "metadata": {
    "scrolled": true
   },
   "outputs": [],
   "source": [
    "n=int(input())\n",
    "s=input()\n",
    "s=s.split()\n",
    "li=[]\n",
    "for i in s:\n",
    "    li.append(abs(int(i)))\n",
    "li"
   ]
  },
  {
   "cell_type": "code",
   "execution_count": null,
   "metadata": {},
   "outputs": [],
   "source": [
    "def closetZero(li):\n",
    "    for i in s:\n",
    "        li.append(abs(int(i)))\n",
    "    return min(li)"
   ]
  },
  {
   "cell_type": "code",
   "execution_count": null,
   "metadata": {},
   "outputs": [],
   "source": [
    "def closestzero(li):\n",
    "    #separete all numbers less than zero and find max\n",
    "    #all numbers grther than equal to zero,get find min\n",
    "    nl=[]\n",
    "    p1=[]\n",
    "    for i in li:\n",
    "        if i<0:\n",
    "            nl.append(i)\n",
    "    for i in li:\n",
    "        if i>0:\n",
    "            pl.append(i)\n",
    "    if len(n1)>0:\n",
    "        nc=max(nl)\n",
    "    if len(n2) >=0:\n",
    "        pc=min(pl)\n",
    "    if pc==0:\n",
    "        return pc\n",
    "    if abs(nc)==pc:\n",
    "        return pc\n",
    "    elif abs(nc) <pc:\n",
    "        return abs(nc)\n",
    "    else:\n",
    "        return pc\n",
    "            "
   ]
  },
  {
   "cell_type": "code",
   "execution_count": 5,
   "metadata": {},
   "outputs": [
    {
     "name": "stdout",
     "output_type": "stream",
     "text": [
      "5\n",
      "0 1 -2 -3 -1\n"
     ]
    },
    {
     "data": {
      "text/plain": [
       "0"
      ]
     },
     "execution_count": 5,
     "metadata": {},
     "output_type": "execute_result"
    }
   ],
   "source": [
    "n=int(input())\n",
    "s=input()\n",
    "s=s.split()\n",
    "li=[]\n",
    "for i in s:\n",
    "    li.append((int(i)))\n",
    "\n",
    "def closestzero(li):\n",
    "    if 0 in li:\n",
    "        return 0\n",
    "    else:\n",
    "        li.sort()\n",
    "        pc=[]\n",
    "        nc=[]\n",
    "        for i in li:\n",
    "            if i>0:\n",
    "                pc.append(i)\n",
    "        for i in li:\n",
    "            if i <0:\n",
    "                nc.append(i)\n",
    "        if len(nc)==0:\n",
    "            return min(pc)\n",
    "        elif len(pc) == 0:\n",
    "            return max(nc)\n",
    "        else:\n",
    "            nz=max(nc)\n",
    "            pz=min(pc)\n",
    "            if abs(nz) > pz or abs(nz)==pz:\n",
    "                return pz\n",
    "            else:\n",
    "                return nz\n",
    "closestzero(li)"
   ]
  },
  {
   "cell_type": "code",
   "execution_count": 13,
   "metadata": {},
   "outputs": [
    {
     "name": "stdout",
     "output_type": "stream",
     "text": [
      "1\n"
     ]
    }
   ],
   "source": [
    "#To print big value near to zero\n",
    "li=[-1,1,-2,2,3]\n",
    "li.sort()\n",
    "p1=[]\n",
    "for i in li:\n",
    "    p1.append(abs(i))\n",
    "p1.sort()\n",
    "if p1[0] in li:\n",
    "    print (p1[0])\n",
    "else:\n",
    "    print(-p1[0])\n",
    "    "
   ]
  },
  {
   "cell_type": "code",
   "execution_count": 12,
   "metadata": {},
   "outputs": [
    {
     "name": "stdout",
     "output_type": "stream",
     "text": [
      "-1\n"
     ]
    }
   ],
   "source": [
    "#to print small value near to zer\n",
    "li=[-1,1,-2,2,3]\n",
    "li.sort()\n",
    "p1=[]\n",
    "for i in li:\n",
    "    p1.append(abs(i))\n",
    "p1.sort()\n",
    "if -p1[0] in li:\n",
    "    print (-p1[0])\n",
    "else:\n",
    "    print(p1[0])"
   ]
  },
  {
   "cell_type": "code",
   "execution_count": 14,
   "metadata": {},
   "outputs": [
    {
     "name": "stdout",
     "output_type": "stream",
     "text": [
      "3\n"
     ]
    }
   ],
   "source": [
    "# FarthestFromzero -->Most awaay from zero\n",
    "# li=[-1,-2,1,-10,9] --> -10\n",
    "\n",
    "li=[-1,1,-2,2,3]\n",
    "li.sort()\n",
    "p1=[]\n",
    "for i in li:\n",
    "    p1.append(abs(i))\n",
    "p1.sort()\n",
    "if p1[-1] in li:\n",
    "    print (p1[-1])\n",
    "else:\n",
    "    print(-p1[-1])"
   ]
  },
  {
   "cell_type": "code",
   "execution_count": 26,
   "metadata": {},
   "outputs": [
    {
     "data": {
      "text/plain": [
       "-1"
      ]
     },
     "execution_count": 26,
     "metadata": {},
     "output_type": "execute_result"
    }
   ],
   "source": [
    "# You are given three numbers, a,b,c. \n",
    "#Write a program to find the largest number \n",
    "#which is less than or equal to c and leaves remainder b when divided by a\n",
    "# largest(3,2,9) -->8 9%3==0 8%3==2\n",
    "def largest(a,b,c):\n",
    "    for i in range(c,a-1,-1):\n",
    "        if i%a==b:\n",
    "            return i\n",
    "    return -1\n",
    "largest(1,2,4)"
   ]
  },
  {
   "cell_type": "code",
   "execution_count": null,
   "metadata": {},
   "outputs": [],
   "source": []
  }
 ],
 "metadata": {
  "kernelspec": {
   "display_name": "Python 3",
   "language": "python",
   "name": "python3"
  },
  "language_info": {
   "codemirror_mode": {
    "name": "ipython",
    "version": 3
   },
   "file_extension": ".py",
   "mimetype": "text/x-python",
   "name": "python",
   "nbconvert_exporter": "python",
   "pygments_lexer": "ipython3",
   "version": "3.7.3"
  }
 },
 "nbformat": 4,
 "nbformat_minor": 2
}
