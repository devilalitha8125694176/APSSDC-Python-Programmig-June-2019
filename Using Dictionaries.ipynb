{
 "cells": [
  {
   "cell_type": "code",
   "execution_count": null,
   "metadata": {},
   "outputs": [],
   "source": [
    "# Read all the individual scores of the batsmen\n",
    "# and print thier rankings based on the scores\n",
    "# devi 10\n",
    "# mani 13\n",
    "# lalli 22\n",
    "# narmada 9\n",
    "# Lalitha 12\n",
    "\n",
    "# 1 - Lalli\n",
    "# 2 - mani\n",
    "# 3 - Lalitha\n",
    "# 4 - devi\n",
    "# 5 - Narmada\n"
   ]
  },
  {
   "cell_type": "code",
   "execution_count": 1,
   "metadata": {},
   "outputs": [
    {
     "name": "stdout",
     "output_type": "stream",
     "text": [
      "3\n",
      "Enter nameLalli\n",
      "Enter score23\n",
      "Enter namedevi\n",
      "Enter score15\n",
      "Enter nameMani\n",
      "Enter score14\n",
      "{'Lalli': 23, 'devi': 15, 'Mani': 14}\n"
     ]
    }
   ],
   "source": [
    "# read differ scores\n",
    "d={}\n",
    "n=int(input())\n",
    "for i in range(n):\n",
    "    name=input(\"Enter name\")\n",
    "    score=int(input(\"Enter score\"))\n",
    "    d[name]=score\n",
    "print(d)"
   ]
  },
  {
   "cell_type": "code",
   "execution_count": 6,
   "metadata": {},
   "outputs": [
    {
     "name": "stdout",
     "output_type": "stream",
     "text": [
      "3\n",
      "Enter namelalli\n",
      "Enter score23\n",
      "Enter nameDevi\n",
      "Enter score15\n",
      "Enter namemani\n",
      "Enter score12\n"
     ]
    },
    {
     "data": {
      "text/plain": [
       "[('lalli', 23), ('Devi', 15), ('mani', 12)]"
      ]
     },
     "execution_count": 6,
     "metadata": {},
     "output_type": "execute_result"
    }
   ],
   "source": [
    "d={}\n",
    "n=int(input())\n",
    "for i in range(n):\n",
    "    name=input(\"Enter name\")\n",
    "    score=int(input(\"Enter score\"))\n",
    "    d[name]=score\n",
    "l=list(d.items())\n",
    "l"
   ]
  },
  {
   "cell_type": "code",
   "execution_count": 8,
   "metadata": {},
   "outputs": [
    {
     "name": "stdout",
     "output_type": "stream",
     "text": [
      "3\n",
      "Enter namelalli\n",
      "Enter score23\n",
      "Enter namedevi\n",
      "Enter score15\n",
      "Enter namemani\n",
      "Enter score17\n",
      "[23, 15, 17]\n",
      "['lalli', 'devi', 'mani']\n"
     ]
    }
   ],
   "source": [
    "d={}\n",
    "n=int(input())\n",
    "for i in range(n):\n",
    "    name=input(\"Enter name\")\n",
    "    score=int(input(\"Enter score\"))\n",
    "    d[name]=score\n",
    "l_scores=list(d.values())\n",
    "l_name=list(d.keys())\n",
    "print(l_scores)\n",
    "print(l_name)"
   ]
  },
  {
   "cell_type": "code",
   "execution_count": 2,
   "metadata": {},
   "outputs": [
    {
     "name": "stdout",
     "output_type": "stream",
     "text": [
      "3\n",
      "Enter nameLalli\n",
      "Enter score23\n",
      "Enter namedevi\n",
      "Enter score17\n",
      "Enter namemani\n",
      "Enter score20\n",
      "{'Lalli': 23, 'devi': 17, 'mani': 20}\n"
     ]
    }
   ],
   "source": [
    "d={}\n",
    "n=int(input())\n",
    "for i in range(n):\n",
    "    name=input(\"Enter name\")\n",
    "    score=int(input(\"Enter score\"))\n",
    "    d[name]=score\n",
    "sorted(d.values())\n",
    "print(d)"
   ]
  },
  {
   "cell_type": "code",
   "execution_count": 8,
   "metadata": {},
   "outputs": [
    {
     "name": "stdout",
     "output_type": "stream",
     "text": [
      "3\n",
      "Enter namelalli\n",
      "Enter score23\n",
      "Enter namedevi\n",
      "Enter score17\n",
      "Enter namemani\n",
      "Enter score20\n"
     ]
    },
    {
     "data": {
      "text/plain": [
       "[17, 20, 23]"
      ]
     },
     "execution_count": 8,
     "metadata": {},
     "output_type": "execute_result"
    }
   ],
   "source": [
    "d={}\n",
    "n=int(input())\n",
    "for i in range(n):\n",
    "    name=input(\"Enter name\")\n",
    "    score=int(input(\"Enter score\"))\n",
    "    d[name]=score\n",
    "d=sorted(d.values())\n",
    "d"
   ]
  },
  {
   "cell_type": "code",
   "execution_count": 1,
   "metadata": {},
   "outputs": [
    {
     "name": "stdout",
     "output_type": "stream",
     "text": [
      "5\n",
      "Enter nameLallo\n",
      "Enter score2\n",
      "Enter namemani\n",
      "Enter score15\n",
      "Enter nameranga\n",
      "Enter score59\n",
      "Enter namedevi\n",
      "Enter score70\n",
      "Enter namelalitha\n",
      "Enter score23\n",
      "{'devi': 1, 'ranga': 2, 'lalitha': 3, 'mani': 4, 'Lallo': 5}\n"
     ]
    }
   ],
   "source": [
    "d={}\n",
    "n=int(input())\n",
    "for i in range(n):\n",
    "    name=input(\"Enter name\")\n",
    "    score=int(input(\"Enter score\"))\n",
    "    d[name]=score\n",
    "l=list(sorted(d.values(),reverse=True))\n",
    "rank={}\n",
    "r=0\n",
    "for i in l:\n",
    "    r=r+1\n",
    "    for j in d.items():\n",
    "        if i==j[1]:\n",
    "            rank[j[0]]=r\n",
    "print(rank)"
   ]
  },
  {
   "cell_type": "code",
   "execution_count": 6,
   "metadata": {},
   "outputs": [
    {
     "name": "stdout",
     "output_type": "stream",
     "text": [
      "10\n",
      "20\n",
      "1 2 5 "
     ]
    }
   ],
   "source": [
    "# given two integers find the no.of common factors\n",
    "a=int(input())\n",
    "b=int(input())\n",
    "if(a>b):\n",
    "    s=b\n",
    "else:\n",
    "    s=a\n",
    "for i in range(1,s):\n",
    "    if(a%i==0 and b%i==0):\n",
    "        print(i,end=\" \")"
   ]
  },
  {
   "cell_type": "code",
   "execution_count": 5,
   "metadata": {},
   "outputs": [
    {
     "name": "stdout",
     "output_type": "stream",
     "text": [
      "5\n",
      "Enter nameLalli\n",
      "Enter score10\n",
      "Enter nameDevi\n",
      "Enter score20\n",
      "Enter nameMani\n",
      "Enter score20\n",
      "Enter nameLalitha\n",
      "Enter score30\n",
      "Enter namedevi lalitha\n",
      "Enter score25\n",
      "{'Lalitha': 1, 'devi lalitha': 2, 'Devi': 4, 'Mani': 4, 'Lalli': 5}\n"
     ]
    }
   ],
   "source": [
    "d={}\n",
    "n=int(input())\n",
    "for i in range(n):\n",
    "    name=input(\"Enter name\")\n",
    "    score=int(input(\"Enter score\"))\n",
    "    d[name]=score\n",
    "l=list(sorted(d.values(),reverse=True))\n",
    "rank={}\n",
    "r=0\n",
    "for i in l:\n",
    "    r=r+1\n",
    "    for j in d.items():\n",
    "        if i==j[1]:\n",
    "            rank[j[0]]=r\n",
    "print(rank)"
   ]
  },
  {
   "cell_type": "code",
   "execution_count": 7,
   "metadata": {},
   "outputs": [
    {
     "name": "stdout",
     "output_type": "stream",
     "text": [
      "3\n",
      "Enter namelalitha\n",
      "Enter marks90\n",
      "Enter namedevi\n",
      "Enter marks75\n",
      "Enter namemani\n",
      "Enter marks23\n",
      "{'lalitha': 90, 'devi': 75, 'mani': 23}\n"
     ]
    }
   ],
   "source": [
    "n=int(input())\n",
    "s={}\n",
    "for i in range(n):\n",
    "    name=input(\"Enter name\")\n",
    "    marks=int(input(\"Enter marks\"))\n",
    "    s[name]=marks\n",
    "print(s)"
   ]
  },
  {
   "cell_type": "code",
   "execution_count": 9,
   "metadata": {},
   "outputs": [
    {
     "name": "stdout",
     "output_type": "stream",
     "text": [
      "5\n",
      "Enter namelalli\n",
      "Enter marks90\n",
      "Enter namedevi\n",
      "Enter marks23\n",
      "Enter namemani\n",
      "Enter marks78\n",
      "Enter namelalitha\n",
      "Enter marks45\n",
      "Enter namenarmada\n",
      "Enter marks82\n"
     ]
    },
    {
     "data": {
      "text/plain": [
       "[23, 45, 78, 82, 90]"
      ]
     },
     "execution_count": 9,
     "metadata": {},
     "output_type": "execute_result"
    }
   ],
   "source": [
    "n=int(input())\n",
    "s={}\n",
    "for i in range(n):\n",
    "    name=input(\"Enter name\")\n",
    "    marks=int(input(\"Enter marks\"))\n",
    "    s[name]=marks\n",
    "li=sorted(s.values())\n",
    "li"
   ]
  },
  {
   "cell_type": "code",
   "execution_count": 21,
   "metadata": {},
   "outputs": [
    {
     "name": "stdout",
     "output_type": "stream",
     "text": [
      "5\n",
      "Enter nameLalli\n",
      "Enter marks90\n",
      "Enter namemani\n",
      "Enter marks75\n",
      "Enter namedevi\n",
      "Enter marks95\n",
      "Enter namenarmada\n",
      "Enter marks35\n",
      "Enter namedevi lalitha\n",
      "Enter marks66\n",
      "devi : 1\n",
      "Lalli : 2\n",
      "mani : 3\n",
      "devi lalitha : 4\n",
      "narmada : 5\n"
     ]
    }
   ],
   "source": [
    "n=int(input())\n",
    "s={}\n",
    "for i in range(n):\n",
    "    name=input(\"Enter name\")\n",
    "    marks=int(input(\"Enter marks\"))\n",
    "    s[name]=marks\n",
    "li=sorted(s.values(),reverse=True)\n",
    "rank1={}\n",
    "k=0\n",
    "for i in li:\n",
    "    k=k+1\n",
    "    for j in s.items():\n",
    "        if i==j[1]:\n",
    "            print(j[0],\":\",k)"
   ]
  },
  {
   "cell_type": "code",
   "execution_count": 32,
   "metadata": {},
   "outputs": [
    {
     "name": "stdout",
     "output_type": "stream",
     "text": [
      "23000\n",
      "5000\n",
      "24500\n",
      "10000\n",
      "8000\n",
      "Lalitha\n",
      "mani\n",
      "devi\n",
      "xyz\n",
      "abc\n",
      "('Lalitha', 23000)\n",
      "('mani', 5000)\n",
      "('devi', 24500)\n",
      "('xyz', 10000)\n",
      "('abc', 8000)\n"
     ]
    }
   ],
   "source": [
    "#display salaries who got greather than 10,000\n",
    "sample={'Lalitha':23000,\"mani\":5000,\"devi\":24500,\"xyz\":10000,\"abc\":8000}\n",
    "for i in sample.values():\n",
    "    print(i)\n",
    "for i in sample.keys():\n",
    "    print(i)\n",
    "for i in sample.items():\n",
    "    print(i)"
   ]
  },
  {
   "cell_type": "code",
   "execution_count": 34,
   "metadata": {
    "scrolled": true
   },
   "outputs": [
    {
     "name": "stdout",
     "output_type": "stream",
     "text": [
      "Lalitha 23000\n",
      "mani 5000\n",
      "devi 24500\n",
      "xyz 10000\n",
      "abc 8000\n"
     ]
    }
   ],
   "source": [
    "for i in sample.items():\n",
    "    print(i[0],i[1])"
   ]
  },
  {
   "cell_type": "code",
   "execution_count": 35,
   "metadata": {},
   "outputs": [
    {
     "name": "stdout",
     "output_type": "stream",
     "text": [
      "Lalitha : 23000\n",
      "devi : 24500\n",
      "xyz : 10000\n"
     ]
    }
   ],
   "source": [
    "for i in sample.items():\n",
    "    if i[1]>=10000:\n",
    "        print(i[0],\":\",i[1])"
   ]
  },
  {
   "cell_type": "code",
   "execution_count": 58,
   "metadata": {},
   "outputs": [
    {
     "name": "stdout",
     "output_type": "stream",
     "text": [
      "5\n",
      "-7\n",
      "-7\n",
      "-6\n",
      "-7\n",
      "-7\n",
      "-7\n"
     ]
    }
   ],
   "source": [
    "n=int(input())\n",
    "li=[]\n",
    "for i in range(n):\n",
    "    ele=int(input())\n",
    "    li.append(ele)\n",
    "l2=sorted(li,reverse=True)\n",
    "c=(l2.count(max(l2)))\n",
    "if(c==1):\n",
    "    print(l2[1])\n",
    "elif c>=2:\n",
    "    print(l2[c])"
   ]
  },
  {
   "cell_type": "code",
   "execution_count": 57,
   "metadata": {},
   "outputs": [
    {
     "name": "stdout",
     "output_type": "stream",
     "text": [
      "5\n",
      "-7-7-7-6-7\n"
     ]
    },
    {
     "ename": "IndexError",
     "evalue": "list index out of range",
     "output_type": "error",
     "traceback": [
      "\u001b[1;31m---------------------------------------------------------------------------\u001b[0m",
      "\u001b[1;31mIndexError\u001b[0m                                Traceback (most recent call last)",
      "\u001b[1;32m<ipython-input-57-9b03902b7ad3>\u001b[0m in \u001b[0;36m<module>\u001b[1;34m\u001b[0m\n\u001b[0;32m      4\u001b[0m \u001b[0ms\u001b[0m\u001b[1;33m=\u001b[0m\u001b[0ms\u001b[0m\u001b[1;33m.\u001b[0m\u001b[0msplit\u001b[0m\u001b[1;33m(\u001b[0m\u001b[1;33m)\u001b[0m\u001b[1;33m\u001b[0m\u001b[1;33m\u001b[0m\u001b[0m\n\u001b[0;32m      5\u001b[0m \u001b[1;32mfor\u001b[0m \u001b[0mi\u001b[0m \u001b[1;32min\u001b[0m \u001b[0mrange\u001b[0m\u001b[1;33m(\u001b[0m\u001b[0mn\u001b[0m\u001b[1;33m)\u001b[0m\u001b[1;33m:\u001b[0m\u001b[1;33m\u001b[0m\u001b[1;33m\u001b[0m\u001b[0m\n\u001b[1;32m----> 6\u001b[1;33m     \u001b[0mli\u001b[0m\u001b[1;33m.\u001b[0m\u001b[0mappend\u001b[0m\u001b[1;33m(\u001b[0m\u001b[0ms\u001b[0m\u001b[1;33m[\u001b[0m\u001b[0mi\u001b[0m\u001b[1;33m]\u001b[0m\u001b[1;33m)\u001b[0m\u001b[1;33m\u001b[0m\u001b[1;33m\u001b[0m\u001b[0m\n\u001b[0m\u001b[0;32m      7\u001b[0m \u001b[0ml2\u001b[0m\u001b[1;33m=\u001b[0m\u001b[0msorted\u001b[0m\u001b[1;33m(\u001b[0m\u001b[0mli\u001b[0m\u001b[1;33m,\u001b[0m\u001b[0mreverse\u001b[0m\u001b[1;33m=\u001b[0m\u001b[1;32mTrue\u001b[0m\u001b[1;33m)\u001b[0m\u001b[1;33m\u001b[0m\u001b[1;33m\u001b[0m\u001b[0m\n\u001b[0;32m      8\u001b[0m \u001b[0mc\u001b[0m\u001b[1;33m=\u001b[0m\u001b[1;33m(\u001b[0m\u001b[0ml2\u001b[0m\u001b[1;33m.\u001b[0m\u001b[0mcount\u001b[0m\u001b[1;33m(\u001b[0m\u001b[0mmax\u001b[0m\u001b[1;33m(\u001b[0m\u001b[0ml2\u001b[0m\u001b[1;33m)\u001b[0m\u001b[1;33m)\u001b[0m\u001b[1;33m)\u001b[0m\u001b[1;33m\u001b[0m\u001b[1;33m\u001b[0m\u001b[0m\n",
      "\u001b[1;31mIndexError\u001b[0m: list index out of range"
     ]
    }
   ],
   "source": [
    "n=int(input())\n",
    "li=[]\n",
    "s=input()\n",
    "s=s.split()\n",
    "for i in range(n):\n",
    "    li.append(s[i])\n",
    "l2=sorted(li,reverse=True)\n",
    "c=(l2.count(max(l2)))\n",
    "if(c==1):\n",
    "    print(l2[1])\n",
    "elif c>=2:\n",
    "    print(l2[c])\n"
   ]
  },
  {
   "cell_type": "code",
   "execution_count": 59,
   "metadata": {},
   "outputs": [
    {
     "name": "stdout",
     "output_type": "stream",
     "text": [
      "Hello\n"
     ]
    }
   ],
   "source": [
    "age=23\n",
    "txt=\"Hello\"\n",
    "print(txt.format(age))"
   ]
  },
  {
   "cell_type": "code",
   "execution_count": 67,
   "metadata": {},
   "outputs": [
    {
     "name": "stdout",
     "output_type": "stream",
     "text": [
      "DeviLalitha@gmail.com\n"
     ]
    },
    {
     "data": {
      "text/plain": [
       "'dEVIlALITHA@GMAIL.COM'"
      ]
     },
     "execution_count": 67,
     "metadata": {},
     "output_type": "execute_result"
    }
   ],
   "source": [
    "# www.HackerRank.Com\n",
    "# WWW.hACKErANK.cOM\n",
    "s=input()\n",
    "s1=\"\"\n",
    "s1=s.swapcase()\n",
    "s1"
   ]
  },
  {
   "cell_type": "code",
   "execution_count": null,
   "metadata": {},
   "outputs": [],
   "source": [
    "# Highest Frequent element in the List\n",
    "#[1,1,1,1,2,3,2,3,1,1,2,1,1,4,2]\n",
    "#output:1\n",
    "#First Highest Frequcny\n",
    "1\n",
    "#second Higest frequency\n",
    "#[1,1,1,1,4,4,5,5,5,]\n",
    "# 5\n",
    "#Nth Highest Frequency\n",
    "# \n"
   ]
  },
  {
   "cell_type": "code",
   "execution_count": 69,
   "metadata": {},
   "outputs": [
    {
     "data": {
      "text/plain": [
       "[1, 2, 3, 4]"
      ]
     },
     "execution_count": 69,
     "metadata": {},
     "output_type": "execute_result"
    }
   ],
   "source": [
    "def unique_list(li):\n",
    "    unique=[]\n",
    "    for i in range(len(li)):\n",
    "        if li[i] not in unique:\n",
    "            unique.append(li[i])\n",
    "    return unique\n",
    "unique_list([1,1,1,1,2,3,2,3,1,1,2,1,1,4,2])"
   ]
  },
  {
   "cell_type": "code",
   "execution_count": 70,
   "metadata": {},
   "outputs": [
    {
     "data": {
      "text/plain": [
       "[1, 2, 4, 6, 5, 3, 7, 8]"
      ]
     },
     "execution_count": 70,
     "metadata": {},
     "output_type": "execute_result"
    }
   ],
   "source": [
    "unique_list([1,1,2,4,6,6,5,3,7,8,7,8])"
   ]
  },
  {
   "cell_type": "code",
   "execution_count": 71,
   "metadata": {},
   "outputs": [
    {
     "data": {
      "text/plain": [
       "{1: 8, 2: 4, 3: 2, 4: 1}"
      ]
     },
     "execution_count": 71,
     "metadata": {},
     "output_type": "execute_result"
    }
   ],
   "source": [
    "def unique_list(li):\n",
    "    unique=[]\n",
    "    for i in range(len(li)):\n",
    "        if li[i] not in unique:\n",
    "            unique.append(li[i])\n",
    "    return unique\n",
    "def frequency_unique(li):\n",
    "    u=unique_list(li)\n",
    "    d={}\n",
    "    for i in u:\n",
    "        d[i]=li.count(i)\n",
    "    return d\n",
    "frequency_unique([1,1,1,1,2,3,2,3,1,1,2,1,1,4,2])"
   ]
  },
  {
   "cell_type": "code",
   "execution_count": 73,
   "metadata": {},
   "outputs": [
    {
     "name": "stdout",
     "output_type": "stream",
     "text": [
      "1\n"
     ]
    }
   ],
   "source": [
    "## Highest Frequent element in the List\n",
    "#[1,1,1,1,2,3,2,3,1,1,2,1,1,4,2]\n",
    "#output:1\n",
    "def unique_list(li):\n",
    "    unique=[]\n",
    "    for i in range(len(li)):\n",
    "        if li[i] not in unique:\n",
    "            unique.append(li[i])\n",
    "    return unique\n",
    "def frequency_unique(li):\n",
    "    u=unique_list(li)\n",
    "    d={}\n",
    "    for i in u:\n",
    "        d[i]=li.count(i)\n",
    "    return d\n",
    "def find_High_fre(li):\n",
    "    u=unique_list(li)\n",
    "    d=frequency_unique(u)\n",
    "    m=max(d.values())\n",
    "    print(m)\n",
    "find_High_fre([1,1,1,1,2,3,2,3,1,1,2,1,1,4,2])"
   ]
  },
  {
   "cell_type": "code",
   "execution_count": 90,
   "metadata": {},
   "outputs": [
    {
     "name": "stdout",
     "output_type": "stream",
     "text": [
      "1\n",
      "2\n",
      "3\n",
      "4\n"
     ]
    }
   ],
   "source": [
    "## Highest Frequent element in the List\n",
    "#[1,1,1,1,2,3,2,3,1,1,2,1,1,4,2]\n",
    "#output:1\n",
    "def unique_list(li):\n",
    "    unique=[]\n",
    "    for i in range(len(li)):\n",
    "        if li[i] not in unique:\n",
    "            unique.append(li[i])\n",
    "    return unique\n",
    "def frequency_unique(li):\n",
    "    u=unique_list(li)\n",
    "    d={}\n",
    "    for i in u:\n",
    "        d[i]=li.count(i)\n",
    "    return d\n",
    "def find_High_fre(li):\n",
    "    u=unique_list(li)\n",
    "    d=frequency_unique(u)\n",
    "    m=max(d.values())\n",
    "def second_high_fre(li):\n",
    "    m=find_High_fre(li)\n",
    "    u=unique_list(li)\n",
    "    d=frequency_unique(u)\n",
    "    max1=max(d.values())\n",
    "    max2=min(d.values())\n",
    "    for i in d.keys():\n",
    "        print(i)\n",
    "second_high_fre([1,1,1,1,2,3,2,3,1,1,2,1,1,4,2])\n",
    "    \n",
    "        "
   ]
  },
  {
   "cell_type": "code",
   "execution_count": 104,
   "metadata": {},
   "outputs": [
    {
     "data": {
      "text/plain": [
       "{'Lalli': 10, 'Devi': 20, 'Mani': 20, 'Lalitha': 30, 'devi lalitha': 25}"
      ]
     },
     "execution_count": 104,
     "metadata": {},
     "output_type": "execute_result"
    }
   ],
   "source": [
    "## Highest Frequent element in the List\n",
    "#[1,1,1,1,2,3,2,3,1,1,2,1,1,4,2]\n",
    "#output:1\n",
    "def unique_list(li):\n",
    "    unique=[]\n",
    "    for i in range(len(li)):\n",
    "        if li[i] not in unique:\n",
    "            unique.append(li[i])\n",
    "    return unique\n",
    "def frequency_unique(li):\n",
    "    u=unique_list(li)\n",
    "    d={}\n",
    "    for i in u:\n",
    "        d[i]=li.count(i)\n",
    "    return d\n",
    "def find_High_fre(li):\n",
    "    u=unique_list(li)\n",
    "    d=frequency_unique(u)\n",
    "    m=max(d.values())\n",
    "    return m"
   ]
  },
  {
   "cell_type": "code",
   "execution_count": 105,
   "metadata": {
    "scrolled": true
   },
   "outputs": [
    {
     "name": "stdout",
     "output_type": "stream",
     "text": [
      "13\n",
      "aahkcreeatrha\n"
     ]
    },
    {
     "ename": "IndexError",
     "evalue": "list assignment index out of range",
     "output_type": "error",
     "traceback": [
      "\u001b[1;31m---------------------------------------------------------------------------\u001b[0m",
      "\u001b[1;31mIndexError\u001b[0m                                Traceback (most recent call last)",
      "\u001b[1;32m<ipython-input-105-846e8b90040d>\u001b[0m in \u001b[0;36m<module>\u001b[1;34m\u001b[0m\n\u001b[0;32m     16\u001b[0m     \u001b[0mli\u001b[0m\u001b[1;33m.\u001b[0m\u001b[0mappend\u001b[0m\u001b[1;33m(\u001b[0m\u001b[0ms\u001b[0m\u001b[1;33m[\u001b[0m\u001b[0mi\u001b[0m\u001b[1;33m]\u001b[0m\u001b[1;33m)\u001b[0m\u001b[1;33m\u001b[0m\u001b[1;33m\u001b[0m\u001b[0m\n\u001b[0;32m     17\u001b[0m \u001b[0mstrli\u001b[0m\u001b[1;33m=\u001b[0m\u001b[1;33m[\u001b[0m\u001b[1;33m]\u001b[0m\u001b[1;33m\u001b[0m\u001b[1;33m\u001b[0m\u001b[0m\n\u001b[1;32m---> 18\u001b[1;33m \u001b[0mstrli\u001b[0m\u001b[1;33m[\u001b[0m\u001b[1;36m0\u001b[0m\u001b[1;33m]\u001b[0m\u001b[1;33m=\u001b[0m\u001b[1;34m\"\"\u001b[0m\u001b[1;33m\u001b[0m\u001b[1;33m\u001b[0m\u001b[0m\n\u001b[0m\u001b[0;32m     19\u001b[0m \u001b[1;32mfor\u001b[0m \u001b[0mi\u001b[0m \u001b[1;32min\u001b[0m \u001b[0mrange\u001b[0m\u001b[1;33m(\u001b[0m\u001b[0mli\u001b[0m\u001b[1;33m[\u001b[0m\u001b[0mi\u001b[0m\u001b[1;33m]\u001b[0m\u001b[1;33m)\u001b[0m\u001b[1;33m:\u001b[0m\u001b[1;33m\u001b[0m\u001b[1;33m\u001b[0m\u001b[0m\n\u001b[0;32m     20\u001b[0m     \u001b[1;32mif\u001b[0m \u001b[0mli\u001b[0m\u001b[1;33m[\u001b[0m\u001b[0mi\u001b[0m\u001b[1;33m]\u001b[0m\u001b[1;33m==\u001b[0m\u001b[1;34m'h'\u001b[0m\u001b[1;33m:\u001b[0m\u001b[1;33m\u001b[0m\u001b[1;33m\u001b[0m\u001b[0m\n",
      "\u001b[1;31mIndexError\u001b[0m: list assignment index out of range"
     ]
    }
   ],
   "source": []
  },
  {
   "cell_type": "code",
   "execution_count": 109,
   "metadata": {},
   "outputs": [
    {
     "data": {
      "text/plain": [
       "['h', 'a', 'c', 'k', 'e', 'r', 'e', 'a', 'r', 't', 'h']"
      ]
     },
     "execution_count": 109,
     "metadata": {},
     "output_type": "execute_result"
    }
   ],
   "source": [
    "alpha=list(\"hackerearth\")\n",
    "alpha"
   ]
  },
  {
   "cell_type": "code",
   "execution_count": 113,
   "metadata": {},
   "outputs": [
    {
     "data": {
      "text/plain": [
       "{1: 6, 2: 8, 3: 3, 4: 2, 5: 1}"
      ]
     },
     "execution_count": 113,
     "metadata": {},
     "output_type": "execute_result"
    }
   ],
   "source": [
    "## Highest Frequent element in the list\n",
    "\n",
    "def HighestFrequency(L):\n",
    "    d={}\n",
    "    for i in L:\n",
    "        count=L.count(i)\n",
    "        if i not in d:\n",
    "            d[i]=count\n",
    "    return d\n",
    "d"
   ]
  },
  {
   "cell_type": "code",
   "execution_count": 114,
   "metadata": {},
   "outputs": [
    {
     "name": "stdout",
     "output_type": "stream",
     "text": [
      "2\n"
     ]
    }
   ],
   "source": [
    "def HighestFrequency(L):\n",
    "    d={}\n",
    "    for i in L:\n",
    "        count=L.count(i)\n",
    "        if i not in d:\n",
    "            d[i]=count\n",
    "    return d\n",
    "d=HighestFrequency([1,1,1,1,1,1,2,2,2,2,2,2,2,2,3,3,3,4,4,5])\n",
    "max_val=max(d.values())\n",
    "for i in d.items():\n",
    "    if i[1] ==max_val:\n",
    "        print(i[0])"
   ]
  },
  {
   "cell_type": "code",
   "execution_count": 121,
   "metadata": {},
   "outputs": [
    {
     "name": "stdout",
     "output_type": "stream",
     "text": [
      "1\n"
     ]
    }
   ],
   "source": [
    "def HighestFrequency_2ndLargest(L):\n",
    "    d={}\n",
    "    for i in L:\n",
    "        count=L.count(i)\n",
    "        if i not in d:\n",
    "            d[i]=count\n",
    "    return d\n",
    "d=HighestFrequency([1,1,1,1,1,1,2,2,2,2,2,2,2,2,3,3,3,4,4,5])\n",
    "L=sorted(d.values(),reverse=True)\n",
    "max_val=L[1]\n",
    "for i in d.items():\n",
    "    if i[1] ==max_val:\n",
    "        print(i[0])"
   ]
  },
  {
   "cell_type": "code",
   "execution_count": 125,
   "metadata": {},
   "outputs": [
    {
     "name": "stdout",
     "output_type": "stream",
     "text": [
      "8\n",
      "6\n",
      "3\n",
      "2\n",
      "1\n"
     ]
    }
   ],
   "source": [
    "def xyz():\n",
    "    L=[1,1,1,2,2,3]\n",
    "    d={}\n",
    "    for i in L:\n",
    "        count=L.count(i)\n",
    "        if i not in d:\n",
    "            d[i]=count\n",
    "    return d\n",
    "d=HighestFrequency(L)\n",
    "L=sorted(d.values(),reverse=True)\n",
    "max_val=L[1]\n",
    "for i in d.items():\n",
    "    if i[1] ==max_val:\n",
    "        print(i[0])"
   ]
  },
  {
   "cell_type": "code",
   "execution_count": null,
   "metadata": {},
   "outputs": [],
   "source": [
    "s=\"\""
   ]
  }
 ],
 "metadata": {
  "kernelspec": {
   "display_name": "Python 3",
   "language": "python",
   "name": "python3"
  },
  "language_info": {
   "codemirror_mode": {
    "name": "ipython",
    "version": 3
   },
   "file_extension": ".py",
   "mimetype": "text/x-python",
   "name": "python",
   "nbconvert_exporter": "python",
   "pygments_lexer": "ipython3",
   "version": "3.7.3"
  }
 },
 "nbformat": 4,
 "nbformat_minor": 2
}
