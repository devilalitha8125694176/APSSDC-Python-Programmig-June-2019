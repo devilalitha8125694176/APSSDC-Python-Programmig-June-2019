{
 "cells": [
  {
   "cell_type": "code",
   "execution_count": null,
   "metadata": {},
   "outputs": [],
   "source": [
    "#avg all factorials in given range\n",
    "#generate n odd amstrong numbers im given range\n",
    "#multiplication table for given range(n,lb,ub)"
   ]
  },
  {
   "cell_type": "code",
   "execution_count": 33,
   "metadata": {},
   "outputs": [
    {
     "data": {
      "text/plain": [
       "17.0"
      ]
     },
     "execution_count": 33,
     "metadata": {},
     "output_type": "execute_result"
    }
   ],
   "source": [
    "#generate avg of factorials in given range\n",
    "def fact(n):\n",
    "    f=1\n",
    "    for i in range(1,n+1):\n",
    "        f=f*i\n",
    "    return f\n",
    "\n",
    "def avgfact(lb,ub):\n",
    "    s=0\n",
    "    for i in range(lb,ub+1):\n",
    "        s=s+fact(i)\n",
    "    return s/(ub-lb)+1\n",
    "avgfact(2,4)"
   ]
  },
  {
   "cell_type": "code",
   "execution_count": 12,
   "metadata": {},
   "outputs": [],
   "source": [
    "# generate n odd amstrong numbers\n",
    "def noddamstrong(lb,ub):\n",
    "    for i in range(lb,ub+1):\n",
    "        len1=len(str(i))\n",
    "        j=i\n",
    "        s=0\n",
    "        while(j!=0):\n",
    "            r=j%10\n",
    "            s=s+r**len1\n",
    "            j=j//10\n",
    "        if(s==i and i%2==1):\n",
    "            print(i)\n",
    "    return"
   ]
  },
  {
   "cell_type": "code",
   "execution_count": 16,
   "metadata": {},
   "outputs": [
    {
     "name": "stdout",
     "output_type": "stream",
     "text": [
      "153\n",
      "371\n",
      "407\n",
      "92727\n"
     ]
    }
   ],
   "source": [
    "noddamstrong(10,100000)"
   ]
  },
  {
   "cell_type": "code",
   "execution_count": 21,
   "metadata": {},
   "outputs": [
    {
     "name": "stdout",
     "output_type": "stream",
     "text": [
      "100  * 10  =  1000\n",
      "100  * 11  =  1100\n",
      "100  * 12  =  1200\n",
      "100  * 13  =  1300\n",
      "100  * 14  =  1400\n",
      "100  * 15  =  1500\n"
     ]
    }
   ],
   "source": [
    "# multiplication table for given range(n,lb,ub)\n",
    "def multable(n,lb,ub):\n",
    "    for i in range(lb,ub+1):\n",
    "        print(n,\" *\",i,\" = \",n*i)\n",
    "    return\n",
    "\n",
    "multable(100,10,15)"
   ]
  },
  {
   "cell_type": "code",
   "execution_count": 1,
   "metadata": {},
   "outputs": [
    {
     "name": "stdout",
     "output_type": "stream",
     "text": [
      "1940 1944 1948 1952 1956 1960 1964 1968 1972 1976 1980 1984 1988 1992 1996 2000 "
     ]
    }
   ],
   "source": [
    "#Function to Generate all years in given range\n",
    "#isleapyear(year)\n",
    "#generateLeapYears(start,end)\n",
    "def isLeapYear(y):\n",
    "    if y%400==0 or (y%100!=0 and y%4==0):\n",
    "        return True\n",
    "    else:\n",
    "        return False\n",
    "\n",
    "\n",
    "def GenarateLeapYears(start,end):\n",
    "    for i in range(start,end+1):\n",
    "        if isLeapYear(i)==True:\n",
    "            print(i,end=\" \")\n",
    "            \n",
    "GenarateLeapYears(1940,2000)"
   ]
  },
  {
   "cell_type": "code",
   "execution_count": 2,
   "metadata": {},
   "outputs": [
    {
     "data": {
      "text/plain": [
       "1096"
      ]
     },
     "execution_count": 2,
     "metadata": {},
     "output_type": "execute_result"
    }
   ],
   "source": [
    "# Calculate no.of Days in the given time period using leapyear logic\n",
    "#for every in the given year is not a leap year - add 3\n",
    "def no_of_daysbetween(y1,y2):\n",
    "    s=0\n",
    "    for i in range(y1,y2+1):\n",
    "        if isLeapYear(i)==True:\n",
    "            s=s+366\n",
    "        else:\n",
    "            s=s+365\n",
    "    return s\n",
    "no_of_daysbetween(2018,2020)"
   ]
  },
  {
   "cell_type": "code",
   "execution_count": 3,
   "metadata": {},
   "outputs": [
    {
     "data": {
      "text/plain": [
       "730"
      ]
     },
     "execution_count": 3,
     "metadata": {},
     "output_type": "execute_result"
    }
   ],
   "source": [
    "\n",
    "def NoofDaysbetween(y1,y2):\n",
    "    s=0\n",
    "    for i in range(y1,y2):\n",
    "        if(isLeapYear(i)==True):\n",
    "            s=s+366\n",
    "        else:\n",
    "            s=s+365\n",
    "    return s\n",
    "NoofDaysbetween(2018,2020)"
   ]
  },
  {
   "cell_type": "code",
   "execution_count": 8,
   "metadata": {},
   "outputs": [
    {
     "data": {
      "text/plain": [
       "201864"
      ]
     },
     "execution_count": 8,
     "metadata": {},
     "output_type": "execute_result"
    }
   ],
   "source": [
    "# # Calculate to number of hours for a given period \n",
    "#(11,1975,03,1999)\n",
    "def NoofHoursbetween(m1,y1,m2,y2):\n",
    "    s1=0\n",
    "    s2=0\n",
    "    h=NoofDaysbetween(y1+1,y2)\n",
    "    if(isLeapYear(y1) and m1<=2):\n",
    "        s1=12-m1\n",
    "        h=h+s1+1\n",
    "    else if not(isLeapYear(y1):\n",
    "        s1=12-m1\n",
    "        h=h+s1\n",
    "    if(isLeapYear(y2) and m2<=2):\n",
    "        s2=12-m2\n",
    "        h=h+s2+1\n",
    "    else:\n",
    "        s2=12-m2\n",
    "        h=h+s2\n",
    "    return h*24\n",
    "NoofHoursbetween(11,1975,3,1999)\n"
   ]
  },
  {
   "cell_type": "code",
   "execution_count": 9,
   "metadata": {},
   "outputs": [
    {
     "data": {
      "text/plain": [
       "312"
      ]
     },
     "execution_count": 9,
     "metadata": {},
     "output_type": "execute_result"
    }
   ],
   "source": [
    "NoofHoursbetween(5,2019,6,2019)"
   ]
  },
  {
   "cell_type": "code",
   "execution_count": 20,
   "metadata": {},
   "outputs": [
    {
     "data": {
      "text/plain": [
       "30"
      ]
     },
     "execution_count": 20,
     "metadata": {},
     "output_type": "execute_result"
    }
   ],
   "source": [
    "def numofDaysMonth(month,year):\n",
    "    if month==2:\n",
    "        if isLeapYear(year):\n",
    "            return 29\n",
    "        else:\n",
    "            return 28\n",
    "    if (month<=7 and month%2!=0) or (month>=8 and month%2==0):\n",
    "        return 31\n",
    "    else:\n",
    "        return 30\n",
    "numofDaysMonth(4,2019)"
   ]
  },
  {
   "cell_type": "code",
   "execution_count": 22,
   "metadata": {},
   "outputs": [
    {
     "data": {
      "text/plain": [
       "196488"
      ]
     },
     "execution_count": 22,
     "metadata": {},
     "output_type": "execute_result"
    }
   ],
   "source": [
    "def daysInStartYear(startmonth,startyear):\n",
    "    days=0\n",
    "    for month in range(startmonth,12+1): #it calculate 12th month also\n",
    "        days=days+numofDaysMonth(month,startyear)\n",
    "    return days\n",
    "\n",
    "#daysInStartYear(6,2019)-->214\n",
    "##daysInStartYear(11,2019) -->61\n",
    "\n",
    "def daysInEndYear(endmonth,endyear):\n",
    "    days=0\n",
    "    for month in range(1,endmonth+1):\n",
    "        days=days+numofDaysMonth(month,endyear)\n",
    "    return days\n",
    "\n",
    "daysInEndYear(6,2019) #-->no.of days from jan to june\n",
    "daysInEndYear(2,2020) #-->no.of days in jan(31)+ feb(29)\n",
    "\n",
    "def numberofHours(startmonth,startyear,endmonth,endyear):\n",
    "    days=0\n",
    "    days=days+daysInStartYear(startmonth,startyear)\n",
    "    days=days+daysInEndYear(endmonth,endyear)\n",
    "    if(endyear-startyear==1):\n",
    "        days=days+NoofDaysbetween(startyear+1,startyear+1)\n",
    "    elif endyear-startyear>2:\n",
    "        days=days+NoofDaysbetween(startyear+1,endyear-1)\n",
    "    return 24*days\n",
    "\n",
    "numberofHours(11,1975,3,1999)"
   ]
  },
  {
   "cell_type": "code",
   "execution_count": null,
   "metadata": {},
   "outputs": [],
   "source": [
    "def threenplusone(lb,ub):\n",
    "    big=0\n",
    "    for i in range(lb,ub+1):\n",
    "        j=i\n",
    "        c=0\n",
    "        while(j!=1):\n",
    "            if(j%2==0):\n",
    "                j=j//2\n",
    "            else:\n",
    "                j=3*j+1\n",
    "            c=c+1;\n",
    "        if(c>big):\n",
    "            big=c\n",
    "    return big"
   ]
  },
  {
   "cell_type": "code",
   "execution_count": null,
   "metadata": {},
   "outputs": [],
   "source": []
  },
  {
   "cell_type": "code",
   "execution_count": null,
   "metadata": {},
   "outputs": [],
   "source": [
    "threenplusone(1,10)"
   ]
  },
  {
   "cell_type": "code",
   "execution_count": null,
   "metadata": {},
   "outputs": [],
   "source": []
  },
  {
   "cell_type": "code",
   "execution_count": null,
   "metadata": {},
   "outputs": [],
   "source": []
  }
 ],
 "metadata": {
  "kernelspec": {
   "display_name": "Python 3",
   "language": "python",
   "name": "python3"
  },
  "language_info": {
   "codemirror_mode": {
    "name": "ipython",
    "version": 3
   },
   "file_extension": ".py",
   "mimetype": "text/x-python",
   "name": "python",
   "nbconvert_exporter": "python",
   "pygments_lexer": "ipython3",
   "version": "3.7.3"
  }
 },
 "nbformat": 4,
 "nbformat_minor": 2
}
