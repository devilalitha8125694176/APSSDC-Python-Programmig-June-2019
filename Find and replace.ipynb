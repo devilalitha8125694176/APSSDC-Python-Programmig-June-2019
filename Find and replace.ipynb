{
 "cells": [
  {
   "cell_type": "code",
   "execution_count": 1,
   "metadata": {},
   "outputs": [
    {
     "name": "stdout",
     "output_type": "stream",
     "text": [
      "python\n"
     ]
    },
    {
     "data": {
      "text/plain": [
       "3"
      ]
     },
     "execution_count": 1,
     "metadata": {},
     "output_type": "execute_result"
    }
   ],
   "source": [
    "# Find and Replace Application\n",
    "    # Count the total number of occurences of a word if word is existing \n",
    "    # Replace all occurences of word with another word \n",
    "def findNumberOfOccurencesOfWord(fileLocation, word):\n",
    "    wordFrequency = 0\n",
    "    with open(fileLocation,'r') as data:\n",
    "        for line in data:\n",
    "            line = line.strip()\n",
    "            wordsList = line.split()\n",
    "            #print(wordsList)\n",
    "            if word in wordsList:\n",
    "                for i in wordsList:\n",
    "                    if(i == word):\n",
    "                        wordFrequency += 1\n",
    "                    else:\n",
    "                        continue\n",
    "            else:\n",
    "                continue\n",
    "        #return word+\" not existed in the file\"\n",
    "    if(wordFrequency == 0):\n",
    "        return word+\" not existed in the file\"\n",
    "    else:\n",
    "        return wordFrequency\n",
    "\n",
    "fileLocation = \"DataFiles/data2.txt\"\n",
    "\n",
    "word = input()\n",
    "\n",
    "findNumberOfOccurencesOfWord(fileLocation, word)"
   ]
  },
  {
   "cell_type": "code",
   "execution_count": 2,
   "metadata": {},
   "outputs": [
    {
     "name": "stdout",
     "output_type": "stream",
     "text": [
      "hello welcome to python programming, python is most popular language, python can access huge length of number"
     ]
    }
   ],
   "source": [
    "def dispalyfiledata(filename):\n",
    "    f=open(filename,'r')\n",
    "    for line in f:\n",
    "        print(line,end='')\n",
    "    f.close()\n",
    "    return\n",
    "filename='DataFiles/data2.txt'\n",
    "dispalyfiledata(filename)"
   ]
  },
  {
   "cell_type": "code",
   "execution_count": 4,
   "metadata": {},
   "outputs": [
    {
     "name": "stdout",
     "output_type": "stream",
     "text": [
      "is\n"
     ]
    },
    {
     "data": {
      "text/plain": [
       "1"
      ]
     },
     "execution_count": 4,
     "metadata": {},
     "output_type": "execute_result"
    }
   ],
   "source": [
    "word=input()\n",
    "findNumberOfOccurencesOfWord(fileLocation, word)"
   ]
  },
  {
   "cell_type": "code",
   "execution_count": 7,
   "metadata": {},
   "outputs": [
    {
     "name": "stdout",
     "output_type": "stream",
     "text": [
      "python\n",
      "java\n"
     ]
    }
   ],
   "source": [
    "def replaceAllOccurencesOfWord(fileLocation, old_word, new_word):\n",
    "    import re\n",
    "    s2 = \"\"\n",
    "    with open(fileLocation,'r') as data:\n",
    "        for line in data:\n",
    "            line = line.strip()\n",
    "            pattern = \"(\"+old_word+\")\"\n",
    "            if(re.findall(pattern,line)):\n",
    "                words = line.split()\n",
    "                for word in range(len(words)):\n",
    "                    if(words[word] == old_word):\n",
    "                        words[word] = new_word\n",
    "                    else:\n",
    "                        words[word]= words[word]\n",
    "                for k in words:\n",
    "                    s2 = s2 + k + \" \"\n",
    "                s2 = s2 + \"\\n\"\n",
    "            else:\n",
    "                s2 = s2 + line + \"\\n\"\n",
    "                continue\n",
    "    with open(fileLocation,'w') as info:\n",
    "        info.write(s2)\n",
    "                    \n",
    "                    \n",
    "            \n",
    "\n",
    "fileLocation = \"DataFiles/data2.txt\"\n",
    "\n",
    "old_word = input()\n",
    "\n",
    "new_word = input()\n",
    "\n",
    "\n",
    "replaceAllOccurencesOfWord(fileLocation, old_word, new_word)"
   ]
  },
  {
   "cell_type": "code",
   "execution_count": 8,
   "metadata": {},
   "outputs": [
    {
     "name": "stdout",
     "output_type": "stream",
     "text": [
      "hello welcome to java programming, java is most popular language, java can access huge length of number \n"
     ]
    }
   ],
   "source": [
    "def dispalyfiledata(filename):\n",
    "    f=open(filename,'r')\n",
    "    for line in f:\n",
    "        print(line,end='')\n",
    "    f.close()\n",
    "    return\n",
    "filename='DataFiles/data2.txt'\n",
    "dispalyfiledata(filename)"
   ]
  },
  {
   "cell_type": "code",
   "execution_count": null,
   "metadata": {},
   "outputs": [],
   "source": []
  }
 ],
 "metadata": {
  "kernelspec": {
   "display_name": "Python 3",
   "language": "python",
   "name": "python3"
  },
  "language_info": {
   "codemirror_mode": {
    "name": "ipython",
    "version": 3
   },
   "file_extension": ".py",
   "mimetype": "text/x-python",
   "name": "python",
   "nbconvert_exporter": "python",
   "pygments_lexer": "ipython3",
   "version": "3.7.3"
  }
 },
 "nbformat": 4,
 "nbformat_minor": 2
}
