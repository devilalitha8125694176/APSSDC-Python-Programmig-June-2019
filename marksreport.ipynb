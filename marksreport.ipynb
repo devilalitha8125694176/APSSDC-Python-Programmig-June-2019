{
 "cells": [
  {
   "cell_type": "code",
   "execution_count": 6,
   "metadata": {},
   "outputs": [
    {
     "ename": "SyntaxError",
     "evalue": "EOL while scanning string literal (<ipython-input-6-560741aebfa8>, line 24)",
     "output_type": "error",
     "traceback": [
      "\u001b[1;36m  File \u001b[1;32m\"<ipython-input-6-560741aebfa8>\"\u001b[1;36m, line \u001b[1;32m24\u001b[0m\n\u001b[1;33m    generateresult(DataFiles/marks.txt')\u001b[0m\n\u001b[1;37m                                        ^\u001b[0m\n\u001b[1;31mSyntaxError\u001b[0m\u001b[1;31m:\u001b[0m EOL while scanning string literal\n"
     ]
    }
   ],
   "source": [
    "# marks Analysis application\n",
    "    #Generate marks file for n students(using randint in random module)\n",
    "    #Input : Marks text file - each line in the text file contains marks of one student\n",
    "    # Generate a report with the following information\n",
    "        # class Average :\n",
    "        # % of student passed\n",
    "        # % of fail students Failed\n",
    "        # % of students with distinction\n",
    "        # Higest Mark Frequency\n",
    "        # Lowest Mark Frequency\n",
    "        \n",
    "# generate marks\n",
    "n=int(input())\n",
    "lb=int(input())\n",
    "ub=int(input())\n",
    "def generateresult(filepath):\n",
    "    generatemarks(n,lb,ub)\n",
    "    classavg(filepath)\n",
    "    percentdist(filepath,n)\n",
    "    percentageofpass(filepath,n)\n",
    "    percentageoffail(filepath,n)\n",
    "    #filepath=(')\n",
    "    return\n",
    "generateresult(DataFiles/marks.txt')\n",
    "    \n",
    "# Function to generate marks data for n students\n",
    "from random import randint\n",
    "def generatemarks(n,lb,ub):\n",
    "    with open('DataFiles/marks.txt','w') as f:\n",
    "        for i in range(0,n):\n",
    "            r=randint(lb,ub)\n",
    "            f.write(str(r)+'\\n')    \n",
    "    displaymarks(filepath)\n",
    "    return\n",
    "#generatemarks(10,0,100)\n",
    "\n",
    "#To display all values in marks\n",
    "def dispalymarks(filename):\n",
    "    f=open(filename,'r')\n",
    "    for line in f:\n",
    "        print(line,end='')\n",
    "    f.close()\n",
    "    return\n",
    "#filename='DataFiles/marks.txt'\n",
    "#dispalymarks(filename)\n",
    "\n",
    "def classavg(filepath):\n",
    "    c=0\n",
    "    s=0\n",
    "    with open(filepath,'r') as f:\n",
    "        for i in f:\n",
    "            c=int(c)+int(i)\n",
    "            s=s+1\n",
    "    print(\"class average is \",c/s)\n",
    "#avg('DataFiles/marks.txt')\n",
    "\n",
    "# percentpass=(no.of passed persons/total n.of students)*100\n",
    "def percentageofpass(filepath,n):\n",
    "    c=0\n",
    "    s=0\n",
    "    with open(filepath,'r') as f:\n",
    "        for i in f:\n",
    "            if(int(i)>=40 and int(i)<=100):\n",
    "                s=s+int(i)\n",
    "                c=c+1\n",
    "    print(\"percentage of pass is \",(c/n)*100)\n",
    "#percentageofpass('DataFiles/marks.txt')\n",
    "\n",
    "#failpercent=(no.of fail persons)/totaln.of students)*100\n",
    "def percentageoffail(filepath,n):\n",
    "    c=0\n",
    "    with open(filepath,'r') as f:\n",
    "        for i in f:\n",
    "            if(int(i)<40):\n",
    "                c=c+1\n",
    "    print(\"Percentage of fail\",(c/n)*100)\n",
    "#percentageoffail('DataFiles/marks.txt')\n",
    "\n",
    "def percentdist(filepath,n):\n",
    "    c=0\n",
    "    with open(filepath,'r') as f:\n",
    "        for i in f:\n",
    "            if(int(i)>=75):\n",
    "                c=c+1\n",
    "    print(\"Percentage of of distinction\",(c/n)*100)\n",
    "#percentdist('DataFiles/marks.txt')"
   ]
  },
  {
   "cell_type": "code",
   "execution_count": 4,
   "metadata": {},
   "outputs": [
    {
     "name": "stdout",
     "output_type": "stream",
     "text": [
      "10\n",
      "0\n",
      "100\n"
     ]
    }
   ],
   "source": [
    "n=int(input())\n",
    "lb=int(input())\n",
    "ub=int(input())\n",
    "def generateresult(filepath):\n",
    "    generatemarks(n,lb,ub)\n",
    "    classavg(filepath)\n",
    "    percentdist(filepath,n)\n",
    "    percentageofpass(filepath,n)\n",
    "    percentageoffail(filepath,n)\n",
    "    \n",
    "    return\n",
    "    "
   ]
  },
  {
   "cell_type": "code",
   "execution_count": null,
   "metadata": {},
   "outputs": [],
   "source": []
  }
 ],
 "metadata": {
  "kernelspec": {
   "display_name": "Python 3",
   "language": "python",
   "name": "python3"
  },
  "language_info": {
   "codemirror_mode": {
    "name": "ipython",
    "version": 3
   },
   "file_extension": ".py",
   "mimetype": "text/x-python",
   "name": "python",
   "nbconvert_exporter": "python",
   "pygments_lexer": "ipython3",
   "version": "3.7.3"
  }
 },
 "nbformat": 4,
 "nbformat_minor": 2
}
