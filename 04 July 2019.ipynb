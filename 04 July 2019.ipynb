{
 "cells": [
  {
   "cell_type": "code",
   "execution_count": 13,
   "metadata": {},
   "outputs": [
    {
     "name": "stdout",
     "output_type": "stream",
     "text": [
      "abcxyz\n",
      "4\n",
      "e\n",
      "f\n",
      "g\n",
      "f\n",
      "g\n",
      "h\n"
     ]
    }
   ],
   "source": [
    "s=input()\n",
    "n=int(input())\n",
    "s1=\"\"\n",
    "for i in range(len(s)):\n",
    "    if(s[i].isalpha()):\n",
    "        if(s[i].islower()):\n",
    "            m=ord(s[i])\n",
    "            #print(m)\n",
    "            m=m+n\n",
    "            #print(m)\n",
    "            if(m<=122):\n",
    "                d=chr(m)\n",
    "                print(d)\n",
    "            else:\n",
    "                m=m-22\n",
    "                d=chr(m)\n",
    "                print(d)\n",
    "\n",
    "        "
   ]
  },
  {
   "cell_type": "code",
   "execution_count": 33,
   "metadata": {},
   "outputs": [
    {
     "name": "stdout",
     "output_type": "stream",
     "text": [
      "['a', 'b', 'c', 'd', 'e', 'f', 'g', 'h', 'i', 'j', 'k', 'l', 'm', 'n', 'o', 'p', 'q', 'r', 's', 't', 'u', 'v', 'w', 'x', 'y', 'z']\n",
      "['A', 'B', 'C', 'D', 'E', 'F', 'G', 'H', 'I', 'J', 'K', 'L', 'M', 'N', 'O', 'P', 'Q', 'R', 'S', 'T', 'U', 'V', 'W', 'X', 'Y', 'Z']\n",
      "[0, 1, 2, 3, 4, 5, 6, 7, 8, 9]\n"
     ]
    }
   ],
   "source": [
    "small=[chr(i) for i in range(ord('a'),ord('z')+1)]\n",
    "cap=[chr(i) for i in range(ord('A'),ord('Z')+1)]\n",
    "number=[i for i in range(0,10)]\n",
    "print(small)\n",
    "print(cap)\n",
    "print(number)"
   ]
  },
  {
   "cell_type": "code",
   "execution_count": 60,
   "metadata": {},
   "outputs": [
    {
     "name": "stdout",
     "output_type": "stream",
     "text": [
      "abcXyU234\n",
      "4\n",
      "efgBcY\n"
     ]
    }
   ],
   "source": [
    "s=input()\n",
    "n=int(input())\n",
    "s1=\"\"\n",
    "small=[chr(i) for i in range(ord('a'),ord('z')+1)]\n",
    "cap=[chr(i) for i in range(ord('A'),ord('Z')+1)]\n",
    "number=[i for i in range(0,10)]\n",
    "for i in range(len(s)):\n",
    "    if(s[i].isalpha()):\n",
    "        if s[i] in small:\n",
    "            h=s[i]\n",
    "            index=small.index(h)\n",
    "            if (index+n<=len(small)):\n",
    "                s1=s1+small[index+n]\n",
    "                #print(small[index+n])\n",
    "            else:\n",
    "                d=len(small)-index\n",
    "                g=n-d\n",
    "                s1=s1+small[g]\n",
    "                #print(small[g])\n",
    "        if s[i] in cap:\n",
    "            h=s[i]\n",
    "            index=cap.index(h)\n",
    "            if (index+n<=len(cap)):\n",
    "                s1=s1+cap[index+n]\n",
    "                #print(cap[index+n])\n",
    "            else:\n",
    "                d=len(cap)-index\n",
    "                g=n-d\n",
    "                s1=s1+cap[g]\n",
    "                #print(cap[g])\n",
    "    if(s[i].isdigit()):\n",
    "        if s[i] in number:\n",
    "            h=s[i]\n",
    "            index=small.index(h)\n",
    "            if(index+n) <= len(number):\n",
    "                s1=s1+number[index+n]\n",
    "                #print(number[index+n])\n",
    "            else:\n",
    "                d=len(number)-index\n",
    "                g=n-d\n",
    "                s1=s1+number[g]\n",
    "                #print(number[g])\n",
    "print(s1)\n",
    "\n",
    "            \n"
   ]
  },
  {
   "cell_type": "code",
   "execution_count": null,
   "metadata": {},
   "outputs": [],
   "source": [
    "t=int(input())\n",
    "d={0:6,1:2,2:5,3:5,4:4,5:5,6:6,7:3,8:7,9:6}\n",
    "for i in range(t):\n",
    "    n=int(input())\n",
    "    s=0\n",
    "    while(n!=0):\n",
    "        r=n%10\n",
    "        if r in d.keys():\n",
    "            "
   ]
  },
  {
   "cell_type": "code",
   "execution_count": 65,
   "metadata": {},
   "outputs": [
    {
     "data": {
      "text/plain": [
       "6"
      ]
     },
     "execution_count": 65,
     "metadata": {},
     "output_type": "execute_result"
    }
   ],
   "source": [
    "d={0:6,1:2,2:5,3:5,4:4,5:5,6:6,7:3,8:7,9:6}\n",
    "d.values()\n",
    "d[0]"
   ]
  },
  {
   "cell_type": "code",
   "execution_count": null,
   "metadata": {},
   "outputs": [],
   "source": []
  }
 ],
 "metadata": {
  "kernelspec": {
   "display_name": "Python 3",
   "language": "python",
   "name": "python3"
  },
  "language_info": {
   "codemirror_mode": {
    "name": "ipython",
    "version": 3
   },
   "file_extension": ".py",
   "mimetype": "text/x-python",
   "name": "python",
   "nbconvert_exporter": "python",
   "pygments_lexer": "ipython3",
   "version": "3.7.3"
  }
 },
 "nbformat": 4,
 "nbformat_minor": 2
}
