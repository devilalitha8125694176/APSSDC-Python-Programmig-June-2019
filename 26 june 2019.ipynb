{
 "cells": [
  {
   "cell_type": "markdown",
   "metadata": {},
   "source": [
    "### Problem - K Largest Frequency\n"
   ]
  },
  {
   "cell_type": "code",
   "execution_count": null,
   "metadata": {},
   "outputs": [],
   "source": [
    "# Largest number in a list\n",
    "#Second Largest number in a list\n",
    "# Kth Largest number in a list\n",
    "\n",
    "# Element with higest frequency\n",
    "# Second Higest Frequency\n",
    "# Kth Higest Frequency\n",
    "\n"
   ]
  },
  {
   "cell_type": "code",
   "execution_count": null,
   "metadata": {},
   "outputs": [],
   "source": [
    "with open('../Desktop/input.txt','r') as f:\n",
    "    t=int(f.readline())\n",
    "    for i in range(t):\n",
    "        s=f.readline()\n",
    "        k=int(input())\n",
    "        print(KLargestFrequency(s,k))\n",
    "    \n"
   ]
  },
  {
   "cell_type": "code",
   "execution_count": 6,
   "metadata": {},
   "outputs": [
    {
     "ename": "SyntaxError",
     "evalue": "invalid syntax (<ipython-input-6-35d5e04bf618>, line 14)",
     "output_type": "error",
     "traceback": [
      "\u001b[1;36m  File \u001b[1;32m\"<ipython-input-6-35d5e04bf618>\"\u001b[1;36m, line \u001b[1;32m14\u001b[0m\n\u001b[1;33m    secondLargest([1,2]) -->1\u001b[0m\n\u001b[1;37m                           ^\u001b[0m\n\u001b[1;31mSyntaxError\u001b[0m\u001b[1;31m:\u001b[0m invalid syntax\n"
     ]
    }
   ],
   "source": [
    "#Function to find Second Largest number in a list\n",
    "def secondLargest(li):\n",
    "    #Convert the list into a unique list\n",
    "    # Time complexity of program\n",
    "    # one loop in a program O(n)\n",
    "    # if two loops in program O(n^2)\n",
    "    unique=[]\n",
    "    for n in li:\n",
    "        if n not in unique:\n",
    "            unique.append(n)\n",
    "    unique=sorted(unique,reverse=True)\n",
    "    return unique[1]\n",
    "#secondLargest([1,2,3,4,2,5,8,7,1,2]) -->7\n",
    "secondLargest([1,2]) -->1 -->we have  to slove this issue\n",
    "    "
   ]
  },
  {
   "cell_type": "code",
   "execution_count": 8,
   "metadata": {},
   "outputs": [
    {
     "data": {
      "text/plain": [
       "5"
      ]
     },
     "execution_count": 8,
     "metadata": {},
     "output_type": "execute_result"
    }
   ],
   "source": [
    "def fifthLeast(li):\n",
    "    unique=[]\n",
    "    for n in li:\n",
    "        if n not in unique:\n",
    "            unique.append(n)\n",
    "    if(len(unique)>=5):\n",
    "        unique=sorted(unique,reverse=True)\n",
    "        #print(unique)\n",
    "        return unique[-5]\n",
    "    else:\n",
    "        return -1\n",
    "    \n",
    "fifthLeast([1,2,3,4,2,5,8,7,1,2]) -->5\n",
    "    \n",
    "#def kLargest(li):\n",
    "\n",
    "#def ksmallest(li):"
   ]
  },
  {
   "cell_type": "code",
   "execution_count": 2,
   "metadata": {},
   "outputs": [
    {
     "data": {
      "text/plain": [
       "4"
      ]
     },
     "execution_count": 2,
     "metadata": {},
     "output_type": "execute_result"
    }
   ],
   "source": [
    "def kLargest(li,k):\n",
    "    unique=[]\n",
    "    for n in li:\n",
    "        if n not in unique:\n",
    "            unique.append(n)\n",
    "    if(len(unique)>=k):\n",
    "        unique=sorted(unique,reverse=True)\n",
    "        return unique[k]\n",
    "    else:\n",
    "        return -1\n",
    "\n",
    "kLargest([1,2,3,4,2,5,8,7,1,2],3)     "
   ]
  },
  {
   "cell_type": "code",
   "execution_count": 12,
   "metadata": {},
   "outputs": [
    {
     "data": {
      "text/plain": [
       "-1"
      ]
     },
     "execution_count": 12,
     "metadata": {},
     "output_type": "execute_result"
    }
   ],
   "source": [
    "def ksmallest(li,k):\n",
    "    unique=[]\n",
    "    for i in li:\n",
    "        if i not in unique:\n",
    "            unique.append(i)\n",
    "    unique=sorted(unique)\n",
    "    if(len(unique)>=k):\n",
    "        return unique[k-1]\n",
    "    return -1\n",
    "#ksmallest([1,2,3,4,2,5,8,7,1,2],3) -->3\n",
    "ksmallest([1,2],3)"
   ]
  },
  {
   "cell_type": "code",
   "execution_count": 14,
   "metadata": {},
   "outputs": [
    {
     "data": {
      "text/plain": [
       "{1: 2, 2: 3, 3: 1, 4: 1, 5: 1, 8: 1, 7: 1}"
      ]
     },
     "execution_count": 14,
     "metadata": {},
     "output_type": "execute_result"
    }
   ],
   "source": [
    "def frequency(li):\n",
    "    d={}\n",
    "    unique=[]\n",
    "    for n in li:\n",
    "        if n not in unique:\n",
    "            unique.append(n)\n",
    "    for i in unique:\n",
    "        d[i]=li.count(i)\n",
    "    sorted(d.items())\n",
    "    return d\n",
    "frequency([1,2,3,4,2,5,8,7,1,2])"
   ]
  },
  {
   "cell_type": "code",
   "execution_count": 21,
   "metadata": {},
   "outputs": [
    {
     "name": "stdout",
     "output_type": "stream",
     "text": [
      "[2, 3, 4, 7, 8, 9]\n"
     ]
    },
    {
     "data": {
      "text/plain": [
       "2"
      ]
     },
     "execution_count": 21,
     "metadata": {},
     "output_type": "execute_result"
    }
   ],
   "source": [
    "# Function to identity the element with higest frequency\n",
    "# if many elements have the higest frequency take smallest number\n",
    "# higestFrequencyElement([1,2,3,9,8,7,3,4,2,1]) -->1\n",
    "def higestFrequencyElement(li):\n",
    "    unique=[]\n",
    "    for i in li:\n",
    "        if i not in unique:\n",
    "            unique.append(i)\n",
    "    unique=sorted(unique)\n",
    "    print(unique)\n",
    "    hc=0\n",
    "    kc=0\n",
    "    for i in unique:\n",
    "        c=li.count(i)\n",
    "        if(c>hc):\n",
    "            hc=c\n",
    "            kc=i\n",
    "    return kc\n",
    "        \n",
    "higestFrequencyElement([4,2,3,9,8,7,3,4,2])\n",
    "        "
   ]
  },
  {
   "cell_type": "code",
   "execution_count": 29,
   "metadata": {},
   "outputs": [
    {
     "data": {
      "text/plain": [
       "1"
      ]
     },
     "execution_count": 29,
     "metadata": {},
     "output_type": "execute_result"
    }
   ],
   "source": [
    "def HigestFrequencyElement1(li):\n",
    "    unique={}\n",
    "    for n in li:\n",
    "        if n in unique:\n",
    "            unique[n] +=1\n",
    "        else:\n",
    "            unique[n]=1\n",
    "# unique = {1:2,2:2,3:2, 9:1, 8:1, 7:1, 4:1 }\n",
    "    #Getting all frequencies into a list\n",
    "    freq=unique.values()\n",
    "    maxfreq=max(freq)\n",
    "    maxfreqE=[]\n",
    "    #identity the smallest number with max frequency\n",
    "    for item in unique.items():\n",
    "        if item[1] ==maxfreq:\n",
    "            maxfreqE.append(item[0])\n",
    "    #select the minimum from the keys with maximum fr\n",
    "    return min(maxfreqE)\n",
    "\n",
    "HigestFrequencyElement1([1,2,3,9,8,7,3,4,2,1])\n",
    "\n"
   ]
  },
  {
   "cell_type": "code",
   "execution_count": 32,
   "metadata": {},
   "outputs": [
    {
     "name": "stdout",
     "output_type": "stream",
     "text": [
      "[1, 2, 3, 4, 9]\n"
     ]
    },
    {
     "data": {
      "text/plain": [
       "3"
      ]
     },
     "execution_count": 32,
     "metadata": {},
     "output_type": "execute_result"
    }
   ],
   "source": [
    "# function to identify second higest Frequency\n",
    "#if there are many such elements, return the\n",
    "#[1,2,3,2,1,4,4,9] -->3\n",
    "#1st higest frequency is 2 for (1,2,4)\n",
    "    #1-2 times\n",
    "    #2- 2 times\n",
    "    #4 - 2 times\n",
    "#2nd Higest Frequency is 1(3,9) small is 3 so answer is 3\n",
    "def secondLargestfre(li):\n",
    "    unique=[]\n",
    "    for i in li:\n",
    "        if i not in unique:\n",
    "            unique.append(i)\n",
    "    unique=sorted(unique)\n",
    "    print(unique)\n",
    "    hc=0\n",
    "    sc=0\n",
    "    sk=0\n",
    "    for i in unique:\n",
    "        c=li.count(i)\n",
    "        if(c>hc):\n",
    "            hc=c\n",
    "    for i in unique:\n",
    "        c=li.count(i)\n",
    "        if(c>sc and c<hc):\n",
    "            sc=c\n",
    "            sk=i\n",
    "    return sk\n",
    "    \n",
    "    \n",
    "secondLargestfre([1,2,3,2,1,4,4,9])"
   ]
  },
  {
   "cell_type": "code",
   "execution_count": 27,
   "metadata": {},
   "outputs": [
    {
     "data": {
      "text/plain": [
       "{1: 2, 2: 2, 3: 2, 9: 1, 8: 1, 7: 1, 4: 1}"
      ]
     },
     "execution_count": 27,
     "metadata": {},
     "output_type": "execute_result"
    }
   ],
   "source": [
    "def FrequencyCountDist(li):\n",
    "    unique={}\n",
    "    for n in li:\n",
    "        if n in unique:\n",
    "            unique[n] +=1\n",
    "        else:\n",
    "            unique[n]=1\n",
    "    return unique\n",
    "FrequencyCountDist([1,2,3,9,8,7,3,4,2,1])"
   ]
  },
  {
   "cell_type": "code",
   "execution_count": 58,
   "metadata": {},
   "outputs": [
    {
     "name": "stdout",
     "output_type": "stream",
     "text": [
      "[2, 3, 4, 5, 6, 7, 8, 9]\n",
      "1 1 1 1 4 5 1 2 "
     ]
    }
   ],
   "source": [
    "def kthFrequencyElement2(li,k):\n",
    "    unique=[]\n",
    "    for i in li:\n",
    "        if i not in unique:\n",
    "            unique.append(i)\n",
    "    unique=sorted(unique)\n",
    "    print(unique)\n",
    "    for i in unique:\n",
    "        c=li.count(i)\n",
    "        print(c,end=\" \")\n",
    "        \n",
    "kthFrequencyElement2([9,8,7,6,5,2,3,4,9,6,7,7,7,6,7,6],4)\n",
    "        "
   ]
  },
  {
   "cell_type": "code",
   "execution_count": 59,
   "metadata": {},
   "outputs": [
    {
     "name": "stdout",
     "output_type": "stream",
     "text": [
      "[2, 3, 4, 5, 6, 7, 8, 9]\n",
      "[1, 1, 1, 1, 4, 5, 1, 2]\n",
      "[1, 4, 5, 2]\n"
     ]
    }
   ],
   "source": [
    "#[9,8,7,6,5,2,3,4,9,6,7,7,7,6,7,6],4 -->2\n",
    "def kthLargestfre(li,k):\n",
    "    unique=[]\n",
    "    d={}\n",
    "    for i in li:\n",
    "        if i not in unique:\n",
    "            unique.append(i)\n",
    "    unique=sorted(unique)\n",
    "    print(unique)\n",
    "    f=[]\n",
    "    for i in unique:\n",
    "        c=li.count(i)\n",
    "        f.append(c)\n",
    "    print(f)\n",
    "    unf=[]\n",
    "    for i in f:\n",
    "        if i not in unf:\n",
    "            unf.append(i)\n",
    "    print(unf)\n",
    "kthLargestfre([9,8,7,6,5,2,3,4,9,6,7,7,7,6,7,6],3)"
   ]
  },
  {
   "cell_type": "code",
   "execution_count": 69,
   "metadata": {},
   "outputs": [
    {
     "name": "stdout",
     "output_type": "stream",
     "text": [
      "[2, 3, 4, 5, 6, 7, 8, 9]\n",
      "[1, 1, 1, 1, 4, 5, 1, 2]\n",
      "{2: 1, 3: 1, 4: 1, 5: 1, 6: 4, 7: 5, 8: 1, 9: 2}\n"
     ]
    }
   ],
   "source": [
    "#[9,8,7,6,5,2,3,4,9,6,7,7,7,6,7,6],4 -->2\n",
    "def kthLargestfre(li,k):\n",
    "    unique=[]\n",
    "    d={}\n",
    "    for i in li:\n",
    "        if i not in unique:\n",
    "            unique.append(i)\n",
    "    unique=sorted(unique)\n",
    "    print(unique)\n",
    "    f=[]\n",
    "    for i in unique:\n",
    "        c=li.count(i)\n",
    "        f.append(c)\n",
    "    print(f)\n",
    "    d={}\n",
    "    c=-1\n",
    "    for i in unique:\n",
    "        c=c+1\n",
    "        d[i]=f[c]\n",
    "    print(d)\n",
    "    \n",
    "kthLargestfre([9,8,7,6,5,2,3,4,9,6,7,7,7,6,7,6],3)"
   ]
  },
  {
   "cell_type": "code",
   "execution_count": 78,
   "metadata": {},
   "outputs": [
    {
     "data": {
      "text/plain": [
       "2"
      ]
     },
     "execution_count": 78,
     "metadata": {},
     "output_type": "execute_result"
    }
   ],
   "source": [
    "#[9,8,7,6,5,2,3,4,9,6,7,7,7,6,7,6],4 -->2\n",
    "def kHigestFrequency(s,k):\n",
    "    # unique characters with frequencies\n",
    "    unique={}\n",
    "    for c in s:\n",
    "        if c not in unique: #if element not avalable the count for that element is 1\n",
    "            unique[c]=1\n",
    "        else:\n",
    "            unique[c]=unique[c]+1 #if element is already exists just increment the count for that element\n",
    "            \n",
    "    # print(unique) {9: 2, 8: 1, 7: 5, 6: 4, 5: 1, 2: 1, 3: 1, 4: 1}\n",
    "    \n",
    "    # Extract all Frequencies in a list\n",
    "    #uniqfreg=[2,1,5,4]\n",
    "    uniquefreq=[]\n",
    "    for value in unique.values():\n",
    "        if value not in uniquefreq:\n",
    "            uniquefreq.append(value)\n",
    "    # return uniquefreq -->[2, 1, 5, 4]\n",
    "    \n",
    "    uniquefreq=sorted(uniquefreq,reverse=True)\n",
    "    # return uniquefreq -->[5, 4, 2, 1]\n",
    "    if len(uniquefreq)>k:\n",
    "        return kfreq=uniquefreq[k-1]\n",
    "    else:\n",
    "        return -1\n",
    "    kfreqchar=[]\n",
    "    for item in unique.items():\n",
    "        if item[1]==kfreq:\n",
    "            kfreqchar.append(item[0])\n",
    "    # return kfreqchar -->[8, 5, 2, 3, 4]\n",
    "    return min(kfreqchar)\n",
    "kHigestFrequency([9,8,7,6,5,2,3,4,9,6,7,7,7,6,7,6],4)\n",
    "\n",
    "with open('DataFiles/k-largest-frequency','r'):\n",
    "    t=int(f.readline())\n",
    "    for i in range(t):\n",
    "        s=f.readline()\n",
    "        k=int(f.readline())\n",
    "        print(k)"
   ]
  },
  {
   "cell_type": "code",
   "execution_count": null,
   "metadata": {},
   "outputs": [],
   "source": [
    "with open('DataFiles/k-largest-frequency','r'):\n",
    "    t=int(f.readline())\n",
    "    print(t)\n",
    "output: 10\n",
    "    menas 10 test cases"
   ]
  }
 ],
 "metadata": {
  "kernelspec": {
   "display_name": "Python 3",
   "language": "python",
   "name": "python3"
  },
  "language_info": {
   "codemirror_mode": {
    "name": "ipython",
    "version": 3
   },
   "file_extension": ".py",
   "mimetype": "text/x-python",
   "name": "python",
   "nbconvert_exporter": "python",
   "pygments_lexer": "ipython3",
   "version": "3.7.3"
  }
 },
 "nbformat": 4,
 "nbformat_minor": 2
}
