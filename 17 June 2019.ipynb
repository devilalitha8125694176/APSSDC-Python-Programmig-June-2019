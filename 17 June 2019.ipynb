{
 "cells": [
  {
   "cell_type": "code",
   "execution_count": 5,
   "metadata": {},
   "outputs": [
    {
     "data": {
      "text/plain": [
       "['a', 'b', 'c']"
      ]
     },
     "execution_count": 5,
     "metadata": {},
     "output_type": "execute_result"
    }
   ],
   "source": [
    "s=\"abc\"\n",
    "s.islower()\n",
    "s.isupper()\n",
    "s.lower()\n",
    "s.upper()\n",
    "s.split()\n",
    "list(s)"
   ]
  },
  {
   "cell_type": "code",
   "execution_count": 16,
   "metadata": {},
   "outputs": [
    {
     "data": {
      "text/plain": [
       "'dEVI lalIThA'"
      ]
     },
     "execution_count": 16,
     "metadata": {},
     "output_type": "execute_result"
    }
   ],
   "source": [
    "def togglestr(s):\n",
    "    s=list(s)\n",
    "    t=[]\n",
    "    for c in s:\n",
    "        if c.islower():\n",
    "            t.append(c.upper())\n",
    "        else:\n",
    "            t.append(c.lower())\n",
    "    return \"\".join(t)\n",
    "togglestr(\"Devi LALitHa\")"
   ]
  },
  {
   "cell_type": "markdown",
   "metadata": {},
   "source": [
    "## Duration Problem\n",
    "\n",
    "- input: start time,end time (HH,MM)\n",
    "- HH -{00,01,03,,23}\n",
    "- MM={00,01,02,03..59}\n",
    "- HH : MM {00 00,23 59}\n",
    "\n",
    "        "
   ]
  },
  {
   "cell_type": "code",
   "execution_count": 23,
   "metadata": {},
   "outputs": [
    {
     "name": "stdout",
     "output_type": "stream",
     "text": [
      "5 41\n"
     ]
    }
   ],
   "source": [
    "s=\"2 42 8 23\"\n",
    "def minuteDifferernce(s):\n",
    "    s=s.split()\n",
    "    sh=int(s[0])\n",
    "    sm=int(s[1])\n",
    "    eh=int(s[2])\n",
    "    em=int(s[3])\n",
    "    startminutes=(sh*60)+sm\n",
    "    endminutes=(eh*60)+em\n",
    "    return endminutes-startminutes\n",
    "\n",
    "def outputTimeFormat(minutes):\n",
    "    #convert minutes to HH MM\n",
    "    hh = minutes//60\n",
    "    mm = minutes%60\n",
    "    print(hh,mm)\n",
    "    return\n",
    "minutes=minuteDifferernce(s)\n",
    "outputTimeFormat(minutes)"
   ]
  },
  {
   "cell_type": "code",
   "execution_count": null,
   "metadata": {},
   "outputs": [],
   "source": []
  }
 ],
 "metadata": {
  "kernelspec": {
   "display_name": "Python 3",
   "language": "python",
   "name": "python3"
  },
  "language_info": {
   "codemirror_mode": {
    "name": "ipython",
    "version": 3
   },
   "file_extension": ".py",
   "mimetype": "text/x-python",
   "name": "python",
   "nbconvert_exporter": "python",
   "pygments_lexer": "ipython3",
   "version": "3.7.3"
  }
 },
 "nbformat": 4,
 "nbformat_minor": 2
}
