{
 "cells": [
  {
   "cell_type": "code",
   "execution_count": 2,
   "metadata": {},
   "outputs": [
    {
     "name": "stdout",
     "output_type": "stream",
     "text": [
      "5\n",
      "2\n",
      "4\n",
      "1\n",
      "5\n",
      "3\n",
      "Runner up score is  4\n"
     ]
    }
   ],
   "source": [
    "n=int(input())\n",
    "scores=[]\n",
    "for i in range(n):\n",
    "    s=int(input())\n",
    "    scores.append(s)\n",
    "scores=sorted(scores,reverse=True)\n",
    "max_score=max(scores)\n",
    "runner_up_score=scores[1]\n",
    "print(\"Runner up score is \",runner_up_score)\n",
    "#For unique values"
   ]
  },
  {
   "cell_type": "code",
   "execution_count": 4,
   "metadata": {},
   "outputs": [
    {
     "name": "stdout",
     "output_type": "stream",
     "text": [
      "5\n",
      "1\n",
      "2\n",
      "5\n",
      "5\n",
      "4\n",
      "Runner up score is  4\n"
     ]
    }
   ],
   "source": [
    "n=int(input())\n",
    "scores=[]\n",
    "for i in range(n):\n",
    "    s=int(input())\n",
    "    scores.append(s)\n",
    "scores=sorted(scores,reverse=True)\n",
    "max_score=max(scores)\n",
    "runner_up_score=scores[1]\n",
    "\n",
    "for i in range(1,n):\n",
    "    if max_score==scores[i]:\n",
    "        runner_up_score=scores[i+1]\n",
    "print(\"Runner up score is \",runner_up_score)\n",
    "#if max score got more members it will fail in some cases"
   ]
  },
  {
   "cell_type": "code",
   "execution_count": 6,
   "metadata": {},
   "outputs": [
    {
     "name": "stdout",
     "output_type": "stream",
     "text": [
      "3\n",
      "5\n",
      "5\n",
      "5\n"
     ]
    },
    {
     "ename": "IndexError",
     "evalue": "list index out of range",
     "output_type": "error",
     "traceback": [
      "\u001b[1;31m---------------------------------------------------------------------------\u001b[0m",
      "\u001b[1;31mIndexError\u001b[0m                                Traceback (most recent call last)",
      "\u001b[1;32m<ipython-input-6-5b0c60bf8ee4>\u001b[0m in \u001b[0;36m<module>\u001b[1;34m\u001b[0m\n\u001b[0;32m     10\u001b[0m \u001b[1;32mfor\u001b[0m \u001b[0mi\u001b[0m \u001b[1;32min\u001b[0m \u001b[0mrange\u001b[0m\u001b[1;33m(\u001b[0m\u001b[1;36m1\u001b[0m\u001b[1;33m,\u001b[0m\u001b[0mn\u001b[0m\u001b[1;33m)\u001b[0m\u001b[1;33m:\u001b[0m\u001b[1;33m\u001b[0m\u001b[1;33m\u001b[0m\u001b[0m\n\u001b[0;32m     11\u001b[0m     \u001b[1;32mif\u001b[0m \u001b[0mmax_score\u001b[0m\u001b[1;33m==\u001b[0m\u001b[0mscores\u001b[0m\u001b[1;33m[\u001b[0m\u001b[0mi\u001b[0m\u001b[1;33m]\u001b[0m\u001b[1;33m:\u001b[0m\u001b[1;33m\u001b[0m\u001b[1;33m\u001b[0m\u001b[0m\n\u001b[1;32m---> 12\u001b[1;33m         \u001b[0mrunner_up_score\u001b[0m\u001b[1;33m=\u001b[0m\u001b[0mscores\u001b[0m\u001b[1;33m[\u001b[0m\u001b[0mi\u001b[0m\u001b[1;33m+\u001b[0m\u001b[1;36m1\u001b[0m\u001b[1;33m]\u001b[0m\u001b[1;33m\u001b[0m\u001b[1;33m\u001b[0m\u001b[0m\n\u001b[0m\u001b[0;32m     13\u001b[0m \u001b[0mprint\u001b[0m\u001b[1;33m(\u001b[0m\u001b[1;34m\"Runner up score is \"\u001b[0m\u001b[1;33m,\u001b[0m\u001b[0mrunner_up_score\u001b[0m\u001b[1;33m)\u001b[0m\u001b[1;33m\u001b[0m\u001b[1;33m\u001b[0m\u001b[0m\n",
      "\u001b[1;31mIndexError\u001b[0m: list index out of range"
     ]
    }
   ],
   "source": [
    "n=int(input())\n",
    "scores=[]\n",
    "for i in range(n):\n",
    "    s=int(input())\n",
    "    scores.append(s)\n",
    "scores=sorted(scores,reverse=True)\n",
    "max_score=max(scores)\n",
    "runner_up_score=scores[1]\n",
    "\n",
    "for i in range(1,n):\n",
    "    if max_score==scores[i]:\n",
    "        runner_up_score=scores[i+1]\n",
    "print(\"Runner up score is \",runner_up_score)\n",
    "#here it calculate how many members got max score but using i+1 it will get index error in some cases"
   ]
  },
  {
   "cell_type": "code",
   "execution_count": 27,
   "metadata": {},
   "outputs": [
    {
     "name": "stdout",
     "output_type": "stream",
     "text": [
      "3\n",
      "5\n",
      "5\n",
      "5\n",
      "Sorry There is no Runner up Score\n"
     ]
    }
   ],
   "source": [
    "n=int(input())\n",
    "scores=[]\n",
    "for i in range(n):\n",
    "    s=int(input())\n",
    "    scores.append(s)\n",
    "scores=sorted(scores,reverse=True)\n",
    "max_score=max(scores)\n",
    "runner_up_score=scores[1]\n",
    "try:\n",
    "    \n",
    "    for i in range(1,n):\n",
    "        if max_score==scores[i]:\n",
    "            runner_up_score=scores[i+1]\n",
    "    print(\"Runner up score is \",runner_up_score)\n",
    "except IndexError:\n",
    "    print(\"Sorry There is no Runner up Score\")\n"
   ]
  },
  {
   "cell_type": "code",
   "execution_count": 8,
   "metadata": {},
   "outputs": [
    {
     "name": "stdout",
     "output_type": "stream",
     "text": [
      "['__add__', '__class__', '__contains__', '__delattr__', '__delitem__', '__dir__', '__doc__', '__eq__', '__format__', '__ge__', '__getattribute__', '__getitem__', '__gt__', '__hash__', '__iadd__', '__imul__', '__init__', '__init_subclass__', '__iter__', '__le__', '__len__', '__lt__', '__mul__', '__ne__', '__new__', '__reduce__', '__reduce_ex__', '__repr__', '__reversed__', '__rmul__', '__setattr__', '__setitem__', '__sizeof__', '__str__', '__subclasshook__', 'append', 'clear', 'copy', 'count', 'extend', 'index', 'insert', 'pop', 'remove', 'reverse', 'sort'] "
     ]
    }
   ],
   "source": [
    "print(dir(list),end=\" \")"
   ]
  },
  {
   "cell_type": "code",
   "execution_count": 9,
   "metadata": {},
   "outputs": [
    {
     "data": {
      "text/plain": [
       "[1, 2, 3, 4, 5]"
      ]
     },
     "execution_count": 9,
     "metadata": {},
     "output_type": "execute_result"
    }
   ],
   "source": [
    "l=[1,2,3,4,5]\n",
    "l"
   ]
  },
  {
   "cell_type": "code",
   "execution_count": 10,
   "metadata": {},
   "outputs": [
    {
     "data": {
      "text/plain": [
       "5"
      ]
     },
     "execution_count": 10,
     "metadata": {},
     "output_type": "execute_result"
    }
   ],
   "source": [
    "l.pop()"
   ]
  },
  {
   "cell_type": "code",
   "execution_count": 11,
   "metadata": {},
   "outputs": [
    {
     "data": {
      "text/plain": [
       "[1, 2, 3, 4]"
      ]
     },
     "execution_count": 11,
     "metadata": {},
     "output_type": "execute_result"
    }
   ],
   "source": [
    "l"
   ]
  },
  {
   "cell_type": "code",
   "execution_count": 26,
   "metadata": {},
   "outputs": [
    {
     "name": "stdout",
     "output_type": "stream",
     "text": [
      "What index value you want to delete2\n",
      "['Lalitha', 'Devi', 'Mani']\n"
     ]
    }
   ],
   "source": [
    "# Remove an element based on te index\n",
    "li=[\"Lalitha\",\"Devi\",\"Narmada\",\"Mani\"]\n",
    "val=int(input(\"What index value you want to delete\"))\n",
    "for i in range(len(li)):\n",
    "    if(val==i):\n",
    "        li.remove(li[i])\n",
    "print(li)"
   ]
  },
  {
   "cell_type": "markdown",
   "metadata": {},
   "source": []
  },
  {
   "cell_type": "code",
   "execution_count": null,
   "metadata": {},
   "outputs": [],
   "source": [
    "#Uisng Distonaries\n",
    "input:\n",
    "    hi \n",
    "output: hi 😄\n",
    "input : I Love you\n",
    "    output: I Love You 💗"
   ]
  },
  {
   "cell_type": "code",
   "execution_count": 9,
   "metadata": {},
   "outputs": [
    {
     "name": "stdout",
     "output_type": "stream",
     "text": [
      "Enter inputI Love You\n",
      "I Love You 💗 Lalitha\n"
     ]
    }
   ],
   "source": [
    "d={\"hi\":'😃',\"Good Morning\":'👏',\"I Love You\":'💗'}\n",
    "s=input(\"Enter input\")\n",
    "for a in d.items():\n",
    "    if s==a[0]:\n",
    "        print(s,a[1],\"Lalitha\")\n"
   ]
  },
  {
   "cell_type": "code",
   "execution_count": 10,
   "metadata": {},
   "outputs": [
    {
     "name": "stdout",
     "output_type": "stream",
     "text": [
      "{}\n"
     ]
    }
   ],
   "source": [
    "sample={}\n",
    "print(sample)"
   ]
  },
  {
   "cell_type": "code",
   "execution_count": 15,
   "metadata": {},
   "outputs": [
    {
     "name": "stdout",
     "output_type": "stream",
     "text": [
      "24\n"
     ]
    }
   ],
   "source": [
    "sample={\"Name\":\"Lalitha\",\"Age\":24,\"Profession\":'Trainer'}\n",
    "print(sample['Age'])"
   ]
  },
  {
   "cell_type": "code",
   "execution_count": 12,
   "metadata": {},
   "outputs": [
    {
     "name": "stdout",
     "output_type": "stream",
     "text": [
      "Lalitha\n"
     ]
    }
   ],
   "source": [
    "print(sample['Name'])"
   ]
  },
  {
   "cell_type": "code",
   "execution_count": 17,
   "metadata": {},
   "outputs": [
    {
     "data": {
      "text/plain": [
       "24"
      ]
     },
     "execution_count": 17,
     "metadata": {},
     "output_type": "execute_result"
    }
   ],
   "source": [
    "sample.get(\"Age\")"
   ]
  },
  {
   "cell_type": "code",
   "execution_count": 18,
   "metadata": {},
   "outputs": [
    {
     "data": {
      "text/plain": [
       "{'Name': 'Lalitha', 'Age': 22, 'Profession': 'Trainer'}"
      ]
     },
     "execution_count": 18,
     "metadata": {},
     "output_type": "execute_result"
    }
   ],
   "source": [
    "sample['Age']=22\n",
    "sample"
   ]
  },
  {
   "cell_type": "code",
   "execution_count": 19,
   "metadata": {},
   "outputs": [
    {
     "data": {
      "text/plain": [
       "{'Name': 'Devi Lalitha', 'Age': 22, 'Profession': 'Trainer'}"
      ]
     },
     "execution_count": 19,
     "metadata": {},
     "output_type": "execute_result"
    }
   ],
   "source": [
    "sample[\"Name\"]='Devi Lalitha'\n",
    "sample"
   ]
  },
  {
   "cell_type": "code",
   "execution_count": 21,
   "metadata": {},
   "outputs": [
    {
     "name": "stdout",
     "output_type": "stream",
     "text": [
      "Name\n",
      "Age\n",
      "Profession\n"
     ]
    }
   ],
   "source": [
    "for i in sample:\n",
    "    print(i)"
   ]
  },
  {
   "cell_type": "code",
   "execution_count": 22,
   "metadata": {},
   "outputs": [
    {
     "name": "stdout",
     "output_type": "stream",
     "text": [
      "Devi Lalitha\n",
      "22\n",
      "Trainer\n"
     ]
    }
   ],
   "source": [
    "for i in sample.values():\n",
    "    print(i)"
   ]
  },
  {
   "cell_type": "code",
   "execution_count": 23,
   "metadata": {},
   "outputs": [],
   "source": [
    "l=sample.values()"
   ]
  },
  {
   "cell_type": "code",
   "execution_count": 24,
   "metadata": {},
   "outputs": [
    {
     "data": {
      "text/plain": [
       "dict_values(['Devi Lalitha', 22, 'Trainer'])"
      ]
     },
     "execution_count": 24,
     "metadata": {},
     "output_type": "execute_result"
    }
   ],
   "source": [
    "l"
   ]
  },
  {
   "cell_type": "code",
   "execution_count": 25,
   "metadata": {},
   "outputs": [
    {
     "data": {
      "text/plain": [
       "dict_values"
      ]
     },
     "execution_count": 25,
     "metadata": {},
     "output_type": "execute_result"
    }
   ],
   "source": [
    "type(l)"
   ]
  },
  {
   "cell_type": "code",
   "execution_count": 26,
   "metadata": {},
   "outputs": [
    {
     "name": "stdout",
     "output_type": "stream",
     "text": [
      "('Name', 'Devi Lalitha')\n",
      "('Age', 22)\n",
      "('Profession', 'Trainer')\n"
     ]
    }
   ],
   "source": [
    "for i in sample.items():\n",
    "    print(i)"
   ]
  },
  {
   "cell_type": "code",
   "execution_count": 27,
   "metadata": {},
   "outputs": [
    {
     "name": "stdout",
     "output_type": "stream",
     "text": [
      "Name\n",
      "Age\n",
      "Profession\n"
     ]
    }
   ],
   "source": [
    "for i in sample.items():\n",
    "    print(i[0])\n",
    "#i[0] consisit of keys"
   ]
  },
  {
   "cell_type": "code",
   "execution_count": 28,
   "metadata": {},
   "outputs": [
    {
     "name": "stdout",
     "output_type": "stream",
     "text": [
      "Devi Lalitha\n",
      "22\n",
      "Trainer\n"
     ]
    }
   ],
   "source": [
    "for i in sample.items():\n",
    "    print(i[1])\n",
    "# i[1] consisit of values of distonary"
   ]
  },
  {
   "cell_type": "code",
   "execution_count": 29,
   "metadata": {},
   "outputs": [
    {
     "name": "stdout",
     "output_type": "stream",
     "text": [
      "AVALABLE\n"
     ]
    }
   ],
   "source": [
    "if 'Name' in sample:\n",
    "    print(\"AVALABLE\")"
   ]
  },
  {
   "cell_type": "code",
   "execution_count": 30,
   "metadata": {},
   "outputs": [
    {
     "name": "stdout",
     "output_type": "stream",
     "text": [
      "model not avlable in sample distonary\n"
     ]
    }
   ],
   "source": [
    "if 'model' not in sample:\n",
    "    print('model not avlable in sample distonary')"
   ]
  },
  {
   "cell_type": "code",
   "execution_count": 31,
   "metadata": {},
   "outputs": [],
   "source": [
    "sample['salary']=20000\n",
    "#adding new field of sample distonary"
   ]
  },
  {
   "cell_type": "code",
   "execution_count": 32,
   "metadata": {},
   "outputs": [
    {
     "data": {
      "text/plain": [
       "{'Name': 'Devi Lalitha', 'Age': 22, 'Profession': 'Trainer', 'salary': 20000}"
      ]
     },
     "execution_count": 32,
     "metadata": {},
     "output_type": "execute_result"
    }
   ],
   "source": [
    "sample"
   ]
  },
  {
   "cell_type": "code",
   "execution_count": 34,
   "metadata": {},
   "outputs": [
    {
     "data": {
      "text/plain": [
       "22"
      ]
     },
     "execution_count": 34,
     "metadata": {},
     "output_type": "execute_result"
    }
   ],
   "source": [
    "sample.pop('Age')"
   ]
  },
  {
   "cell_type": "code",
   "execution_count": 35,
   "metadata": {},
   "outputs": [
    {
     "data": {
      "text/plain": [
       "{'Name': 'Devi Lalitha', 'Profession': 'Trainer', 'salary': 20000}"
      ]
     },
     "execution_count": 35,
     "metadata": {},
     "output_type": "execute_result"
    }
   ],
   "source": [
    "sample"
   ]
  },
  {
   "cell_type": "code",
   "execution_count": 36,
   "metadata": {},
   "outputs": [
    {
     "data": {
      "text/plain": [
       "('salary', 20000)"
      ]
     },
     "execution_count": 36,
     "metadata": {},
     "output_type": "execute_result"
    }
   ],
   "source": [
    "sample.popitem()\n",
    "#last item wil deleted"
   ]
  },
  {
   "cell_type": "code",
   "execution_count": 37,
   "metadata": {},
   "outputs": [
    {
     "data": {
      "text/plain": [
       "{'Name': 'Devi Lalitha', 'Profession': 'Trainer'}"
      ]
     },
     "execution_count": 37,
     "metadata": {},
     "output_type": "execute_result"
    }
   ],
   "source": [
    "sample"
   ]
  },
  {
   "cell_type": "code",
   "execution_count": 38,
   "metadata": {},
   "outputs": [
    {
     "data": {
      "text/plain": [
       "{}"
      ]
     },
     "execution_count": 38,
     "metadata": {},
     "output_type": "execute_result"
    }
   ],
   "source": [
    "sample.clear()\n",
    "sample"
   ]
  },
  {
   "cell_type": "code",
   "execution_count": 41,
   "metadata": {},
   "outputs": [
    {
     "data": {
      "text/plain": [
       "{'name': 'Lalitha', 'Age': 23, 'Profession': 'Trianer'}"
      ]
     },
     "execution_count": 41,
     "metadata": {},
     "output_type": "execute_result"
    }
   ],
   "source": [
    "sample=dict(name='Lalitha',Age=23,Profession='Trianer')\n",
    "sample"
   ]
  },
  {
   "cell_type": "code",
   "execution_count": 1,
   "metadata": {},
   "outputs": [
    {
     "name": "stdout",
     "output_type": "stream",
     "text": [
      "Enter the Sportsperson Name:lalitha\n",
      "Enter the Score made by10\n",
      "Enter the Sportsperson Name:Lalli\n",
      "Enter the Score made by15\n",
      "Enter the Sportsperson Name:Narmada\n",
      "Enter the Score made by13\n",
      "Enter the Sportsperson Name:Devi\n",
      "Enter the Score made by14\n",
      "Enter the Sportsperson Name:devi Lalitha\n",
      "Enter the Score made by12\n",
      "{'lalitha': 10, 'Lalli': 15, 'Narmada': 13, 'Devi': 14, 'devi Lalitha': 12}\n"
     ]
    }
   ],
   "source": [
    "# Read All the Individual scores of 10 Sports persons and display\n",
    "#the winner name use Dictionaries for this problem\n",
    "sports={}\n",
    "# Read Scores and Sportspersons name\n",
    "for i in range(5):\n",
    "    name=input('Enter the Sportsperson Name:')\n",
    "    score=int(input('Enter the Score made by'))\n",
    "    sports[name]=score\n",
    "print(sports)"
   ]
  },
  {
   "cell_type": "code",
   "execution_count": 1,
   "metadata": {},
   "outputs": [
    {
     "name": "stdout",
     "output_type": "stream",
     "text": [
      "Enter the Sportsperson Name:Lalitha\n",
      "Enter the Score made by13\n",
      "Enter the Sportsperson Name:Devi\n",
      "Enter the Score made by12\n",
      "Enter the Sportsperson Name:Lalli\n",
      "Enter the Score made by15\n",
      "15\n"
     ]
    }
   ],
   "source": [
    "# Read All the Individual scores of 10 Sports persons and display\n",
    "#the winner name use Dictionaries for this problem\n",
    "sports={}\n",
    "# Read Scores and Sportspersons name\n",
    "for i in range(3):\n",
    "    name=input('Enter the Sportsperson Name:')\n",
    "    score=int(input('Enter the Score made by'))\n",
    "    sports[name]=score\n",
    "max_score=max(sports.values())\n",
    "print(max_score)"
   ]
  },
  {
   "cell_type": "code",
   "execution_count": 2,
   "metadata": {},
   "outputs": [
    {
     "name": "stdout",
     "output_type": "stream",
     "text": [
      "Enter the Sportsperson Name:Lalli\n",
      "Enter the Score made by10\n",
      "Enter the Sportsperson Name:Lalli\n",
      "Enter the Score made by10\n",
      "Enter the Sportsperson Name:Lalli\n",
      "Enter the Score made by10\n",
      "10\n"
     ]
    },
    {
     "data": {
      "text/plain": [
       "{'Lalli': 10}"
      ]
     },
     "execution_count": 2,
     "metadata": {},
     "output_type": "execute_result"
    }
   ],
   "source": [
    "# Read All the Individual scores of 10 Sports persons and display\n",
    "#the winner name use Dictionaries for this problem\n",
    "sports={}\n",
    "# Read Scores and Sportspersons name\n",
    "for i in range(3):\n",
    "    name=input('Enter the Sportsperson Name:')\n",
    "    score=int(input('Enter the Score made by'))\n",
    "    sports[name]=score\n",
    "max_score=max(sports.values())\n",
    "print(max_score)\n",
    "sports"
   ]
  },
  {
   "cell_type": "code",
   "execution_count": 3,
   "metadata": {},
   "outputs": [
    {
     "name": "stdout",
     "output_type": "stream",
     "text": [
      "Enter the Sportsperson Name:hi\n",
      "Enter the Score made by10\n",
      "Enter the Sportsperson Name:hello\n",
      "Enter the Score made by12\n",
      "Enter the Sportsperson Name:welcome\n",
      "Enter the Score made by13\n"
     ]
    },
    {
     "data": {
      "text/plain": [
       "dict_keys(['hi', 'hello', 'welcome'])"
      ]
     },
     "execution_count": 3,
     "metadata": {},
     "output_type": "execute_result"
    }
   ],
   "source": [
    "# Read All the Individual scores of 10 Sports persons and display\n",
    "#the winner name use Dictionaries for this problem\n",
    "sports={}\n",
    "# Read Scores and Sportspersons name\n",
    "for i in range(3):\n",
    "    name=input('Enter the Sportsperson Name:')\n",
    "    score=int(input('Enter the Score made by'))\n",
    "    sports[name]=score\n",
    "max_score=max(sports.values())\n",
    "sports.keys()"
   ]
  },
  {
   "cell_type": "code",
   "execution_count": 4,
   "metadata": {},
   "outputs": [
    {
     "name": "stdout",
     "output_type": "stream",
     "text": [
      "Enter the Sportsperson Name:hi\n",
      "Enter the Score made by10\n",
      "Enter the Sportsperson Name:bye\n",
      "Enter the Score made by12\n",
      "Enter the Sportsperson Name:hello\n",
      "Enter the Score made by11\n"
     ]
    },
    {
     "data": {
      "text/plain": [
       "dict_items([('hi', 10), ('bye', 12), ('hello', 11)])"
      ]
     },
     "execution_count": 4,
     "metadata": {},
     "output_type": "execute_result"
    }
   ],
   "source": [
    "# Read All the Individual scores of 10 Sports persons and display\n",
    "#the winner name use Dictionaries for this problem\n",
    "sports={}\n",
    "# Read Scores and Sportspersons name\n",
    "for i in range(3):\n",
    "    name=input('Enter the Sportsperson Name:')\n",
    "    score=int(input('Enter the Score made by'))\n",
    "    sports[name]=score\n",
    "max_score=max(sports.values())\n",
    "sports.items()"
   ]
  },
  {
   "cell_type": "code",
   "execution_count": 6,
   "metadata": {},
   "outputs": [
    {
     "name": "stdout",
     "output_type": "stream",
     "text": [
      "Enter the Sportsperson Name:Lalli\n",
      "Enter the Score made by12\n",
      "Enter the Sportsperson Name:Lalitha\n",
      "Enter the Score made by15\n",
      "Enter the Sportsperson Name:Devi\n",
      "Enter the Score made by13\n",
      "Higest score person Lalitha\n"
     ]
    }
   ],
   "source": [
    "# Read All the Individual scores of 10 Sports persons and display\n",
    "#the winner name use Dictionaries for this problem\n",
    "sports={}\n",
    "# Read Scores and Sportspersons name\n",
    "for i in range(3):\n",
    "    name=input('Enter the Sportsperson Name:')\n",
    "    score=int(input('Enter the Score made by'))\n",
    "    sports[name]=score\n",
    "max_score=max(sports.values())\n",
    "for i in sports.items():\n",
    "    if i[1] == max_score:\n",
    "        print(\"Higest score person\",i[0])"
   ]
  },
  {
   "cell_type": "markdown",
   "metadata": {},
   "source": [
    "### Task 1\n",
    "### read numbers until get the String EXIT, print even numbers in same line, In next Line print the maximum values among all even numers\n"
   ]
  },
  {
   "cell_type": "code",
   "execution_count": 4,
   "metadata": {},
   "outputs": [
    {
     "name": "stdout",
     "output_type": "stream",
     "text": [
      "12\n",
      "12 33\n",
      "22\n",
      "22 EXIT\n",
      "\n",
      "\n",
      "33\n"
     ]
    }
   ],
   "source": [
    "max_element=0\n",
    "while True:\n",
    "    n=input()\n",
    "    if n==\"EXIT\":\n",
    "        break\n",
    "    num=int(n)\n",
    "    if num%2==0:\n",
    "        print(num,end=\" \")\n",
    "    if max_element<num:\n",
    "        max_element=num\n",
    "print(\"\\n\")\n",
    "print(max_element)\n",
    "    \n",
    "    "
   ]
  },
  {
   "cell_type": "code",
   "execution_count": 5,
   "metadata": {},
   "outputs": [
    {
     "name": "stdout",
     "output_type": "stream",
     "text": [
      "23\n",
      "22\n",
      "22 12\n",
      "12 45\n",
      "23\n",
      "26\n",
      "26 EXIT\n",
      "\n",
      "\n",
      "33\n"
     ]
    }
   ],
   "source": [
    "li=[]\n",
    "while True:\n",
    "    n=input()\n",
    "    if n==\"EXIT\":\n",
    "        break\n",
    "    num=int(n)\n",
    "    if num%2==0:\n",
    "        print(num,end=\" \")\n",
    "        li.append(num)\n",
    "print(\"\\n\")\n",
    "print(max_element)\n",
    "    "
   ]
  },
  {
   "cell_type": "markdown",
   "metadata": {},
   "source": [
    "### We Are Giving URL'S ends with .domain(.com,.in), we have to find which domain will occur in mostly\n"
   ]
  },
  {
   "cell_type": "code",
   "execution_count": 6,
   "metadata": {},
   "outputs": [
    {
     "name": "stdout",
     "output_type": "stream",
     "text": [
      "3\n",
      "devilalitha@gmail.com\n",
      "['devilalitha@gmail', 'com']\n",
      "Lalitha.in\n",
      "['Lalitha', 'in']\n",
      "devi.com\n",
      "['devi', 'com']\n"
     ]
    }
   ],
   "source": [
    "n=int(input())\n",
    "d={}\n",
    "for i in range(n):\n",
    "    iurl=input()\n",
    "    print(iurl.split('.'))\n"
   ]
  },
  {
   "cell_type": "code",
   "execution_count": 1,
   "metadata": {},
   "outputs": [
    {
     "name": "stdout",
     "output_type": "stream",
     "text": [
      "3\n",
      "devi.com\n",
      "com\n",
      "lalli.in\n",
      "in\n",
      "google.com\n",
      "com\n"
     ]
    }
   ],
   "source": [
    "n=int(input())\n",
    "d={}\n",
    "for i in range(n):\n",
    "    iurl=input().split(\".\")\n",
    "    domain=iurl[-1]\n",
    "    print(domain)"
   ]
  },
  {
   "cell_type": "code",
   "execution_count": 4,
   "metadata": {},
   "outputs": [
    {
     "name": "stdout",
     "output_type": "stream",
     "text": [
      "3\n",
      "Lalli.com\n",
      "devi.in\n",
      "google.com\n",
      "com\n"
     ]
    }
   ],
   "source": [
    "n=int(input())\n",
    "d={}\n",
    "for i in range(n):\n",
    "    iurl=input().split(\".\")\n",
    "    domain=iurl[-1]\n",
    "    if domain not in d:\n",
    "        d[domain]=1\n",
    "    else:\n",
    "        d[domain] +=1\n",
    "m=max(d.values())\n",
    "for i in d.items():\n",
    "    if i[1]==m:\n",
    "        print(i[0])\n"
   ]
  },
  {
   "cell_type": "code",
   "execution_count": 5,
   "metadata": {},
   "outputs": [
    {
     "name": "stdout",
     "output_type": "stream",
     "text": [
      "5\n",
      "www.google.com\n",
      "www.gmail.com\n",
      "www.apssdc.in\n",
      "www.lalitha.com\n",
      "www.devi.org\n",
      "com\n"
     ]
    }
   ],
   "source": [
    "n=int(input())\n",
    "d={}\n",
    "for i in range(n):\n",
    "    iurl=input().split(\".\")\n",
    "    domain=iurl[-1]\n",
    "    if domain not in d:\n",
    "        d[domain]=1\n",
    "    else:\n",
    "        d[domain] +=1\n",
    "m=max(d.values())\n",
    "for i in d.items():\n",
    "    if i[1]==m:\n",
    "        print(i[0])\n",
    "# here .com is repeated 3 times(highest) it display com"
   ]
  },
  {
   "cell_type": "code",
   "execution_count": 3,
   "metadata": {
    "scrolled": true
   },
   "outputs": [
    {
     "name": "stdout",
     "output_type": "stream",
     "text": [
      "2\n",
      "lalli.in\n",
      "in\n",
      "devi.com\n",
      "com\n"
     ]
    }
   ],
   "source": [
    "n=int(input())\n",
    "d={}\n",
    "for i in range(n):\n",
    "    iurl=input().split(\".\")\n",
    "    #print(iurl)\n",
    "    print(iurl[-1])\n",
    "# here .com is repeated 3 times(highest) it display com"
   ]
  },
  {
   "cell_type": "code",
   "execution_count": null,
   "metadata": {},
   "outputs": [],
   "source": [
    "n=int(input())\n",
    "d={}\n",
    "for i in range(n):\n",
    "    iurl=input().split(\".\")\n",
    "    domain=iurl[-1]\n",
    "    "
   ]
  }
 ],
 "metadata": {
  "kernelspec": {
   "display_name": "Python 3",
   "language": "python",
   "name": "python3"
  },
  "language_info": {
   "codemirror_mode": {
    "name": "ipython",
    "version": 3
   },
   "file_extension": ".py",
   "mimetype": "text/x-python",
   "name": "python",
   "nbconvert_exporter": "python",
   "pygments_lexer": "ipython3",
   "version": "3.7.3"
  }
 },
 "nbformat": 4,
 "nbformat_minor": 2
}
