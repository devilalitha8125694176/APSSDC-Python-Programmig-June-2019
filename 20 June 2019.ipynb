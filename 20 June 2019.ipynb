{
 "cells": [
  {
   "cell_type": "markdown",
   "metadata": {},
   "source": [
    "## Objectives\n",
    "### Constructing Regular Expressions for various use cases\n",
    "- Regular Expressions Module and related in python\n",
    "- Improving the contacts application with name and phone number validation\n",
    "### File Handling\n",
    "- Text Files\n",
    "- Upgrading the contacts applications to store contact information in a text file"
   ]
  },
  {
   "cell_type": "markdown",
   "metadata": {},
   "source": [
    "### Regular Expressions\n",
    "- Pattern Matching\n",
    "- Symbolic Notation of a pattern\n",
    "  - pattern : Format which repreats\n",
    "  - pattern(RE) Represents The set of all values which matches that pattern\n",
    "- [0-9] --> any ddigit \n",
    "- [a-z] --> any lowercase alphabet\n",
    "- [2468] --> All Single Digit multiples of 2 or [8642] or[6824]\n",
    "- ^[0-9]{1}$  -> Represnt only single digit numbers\n",
    "- ^[0-9]{3}$  -> Represent three digit number only\n",
    "- [0-9]*0$ --> all multiples of 10\n",
    " - ^[1-9][0-9]*0$ -->another way of mutiples of 10\n",
    " -  [1-9][0-9]*0$ if remove cap(^) in starting it accept lalitha980\n",
    " \n",
    " - all multiples of 5\n",
    "     ^[1-9][0-9]*[05]$ -->it will work for all multiples of five not work for 5\n",
    "     ^[1-9][0-9]*[05]$|[5]$ -->it will work all multiples of five including 5\n",
    " - regular expression for validating the number(10 digit numbers)\n",
    "     ^[0-9]{10}$\n",
    " - Validating phone numbers(india) (start with 9876 followed by 9 digits)\n",
    "     ^[6-9][0-9]{9}$ -->it will work for 8125694176\n",
    "     ^[6-9][0-9]{9}$|^[0][6-9][0-9]{9}$ -->it will work for 8125694176 and  08125694176\n",
    "     ^[6-9][0-9]{9}$|^[0][6-9][0-9]{9}$|^[+91][6-9][0-9]{9}$ --> it will also work for +918125691\n",
    "   - searching for a 'word' [w][o][r][d] or (word)\n",
    "     - TO search the string \"print\" \n",
    "    - [p][r][i][n][t] -->print will highlet\n",
    "    - (print) -->only that word will highlet\n",
    "    - \n",
    " - email validation (username@domain.extension)\n",
    "     - username\n",
    "         - Length of username : [6,15]\n",
    "         - No special characters other than _ .\n",
    "         - sholud not begin and end with _ .(underscore, dot)\n",
    "         - Character set: all digits and lower case alphabet\n",
    "      - domain\n",
    "          - Length of domain :[3,18]\n",
    "          - No special characters\n",
    "          - Character set:All Digits and lower case alphabet\n",
    "      - Extension\n",
    "          - Length of Extension : [2,4]\n",
    "          - No Special characters\n",
    "          - Character set: lower case alphabet\n",
    "          - \n"
   ]
  },
  {
   "cell_type": "markdown",
   "metadata": {},
   "source": [
    "- email has begin with digits and lower case alphabets\n",
    "first character ^[0-9a-z]\n",
    "remaining characters [0-9\n",
    "\n",
    "\n",
    "^[0-9a-z][0-9a-z_.]{4,13}[0-9a-z]$\n",
    "\n",
    "\n",
    "^[0-9a-z][0-9a-z_.]{4,13}[@][0-9a-z][a-z][a-z0-9]{3,18}[.][a-z]{2,4}\n",
    "\n",
    "^[0-9a-z][0-9a-z_.]{3,14}[0-9a-z][@][a-z][0-9a-z]{2,18}[.][a-z]{2,4}\n"
   ]
  },
  {
   "cell_type": "markdown",
   "metadata": {},
   "source": [
    "- any string of lenght 5 that stats with 'a' and ending with 'z' \n",
    "- ^[a]...[z]$\n",
    "-Any string of length that starts with 'a' and ending with 'z'\n",
    "- ^[a].*[z]$\n",
    "\n"
   ]
  },
  {
   "cell_type": "code",
   "execution_count": 15,
   "metadata": {},
   "outputs": [
    {
     "data": {
      "text/plain": [
       "False"
      ]
     },
     "execution_count": 15,
     "metadata": {},
     "output_type": "execute_result"
    }
   ],
   "source": [
    "#function to validate a phone number\n",
    "import re\n",
    "def phoneNumberValidator(number):\n",
    "    pattern='[6-9][0-9]{9}$|^[0][6-9][0-9]{9}$|^[+91][6-9][0-9]{9}$'\n",
    "    if re.match(pattern,str(number)):\n",
    "        print(\"Valid number\")\n",
    "    else:\n",
    "        print(\"Invalid number\")\n",
    "    return\n",
    "#phoneNumberValidator(8125694176)\n",
    "def emailValidator(email):\n",
    "    pattern='^[0-9a-z][0-9a-z_.]{3,14}[0-9a-z][@][a-z][0-9a-z]{2,18}[.][a-z]{2,4}'\n",
    "    if re.match(pattern,email):\n",
    "        return True\n",
    "    else:\n",
    "        return False\n",
    "#emailValidator(\"devilalitha514@gmail.com\") -->True"
   ]
  },
  {
   "cell_type": "code",
   "execution_count": 8,
   "metadata": {},
   "outputs": [
    {
     "name": "stdout",
     "output_type": "stream",
     "text": [
      "Valid number\n"
     ]
    }
   ],
   "source": [
    "phoneNumberValidator(8125694176)"
   ]
  },
  {
   "cell_type": "code",
   "execution_count": 4,
   "metadata": {},
   "outputs": [
    {
     "ename": "SyntaxError",
     "evalue": "invalid token (<ipython-input-4-ca4dfcc35794>, line 1)",
     "output_type": "error",
     "traceback": [
      "\u001b[1;36m  File \u001b[1;32m\"<ipython-input-4-ca4dfcc35794>\"\u001b[1;36m, line \u001b[1;32m1\u001b[0m\n\u001b[1;33m    phoneNumberValidator(08125694176)\u001b[0m\n\u001b[1;37m                                   ^\u001b[0m\n\u001b[1;31mSyntaxError\u001b[0m\u001b[1;31m:\u001b[0m invalid token\n"
     ]
    }
   ],
   "source": [
    "phoneNumberValidator(08125694176)"
   ]
  },
  {
   "cell_type": "code",
   "execution_count": 6,
   "metadata": {},
   "outputs": [
    {
     "name": "stdout",
     "output_type": "stream",
     "text": [
      "Valid number\n",
      "Valid number\n",
      "Phone number is invalid\n"
     ]
    }
   ],
   "source": [
    "contacts={}\n",
    "def addcontact(name,phone):\n",
    "    #verify that the contact doesnot already exits \n",
    "    if name not in contacts and phoneNumberValidator(phone):\n",
    "        contacts[name]=phone\n",
    "        print(\"Contact %s addeed\" %name)\n",
    "    if name in contacts:\n",
    "        print(\"contact %s alreday exits\" %name)\n",
    "    elif not(phoneNumberValidator(phone)):\n",
    "        print(\"Phone number is invalid\")\n",
    "    return\n",
    "\n",
    "addcontact(\"Lalli\",\"8125694176\")\n",
    "\n",
    "\n",
    "\n"
   ]
  },
  {
   "cell_type": "code",
   "execution_count": 27,
   "metadata": {},
   "outputs": [
    {
     "name": "stdout",
     "output_type": "stream",
     "text": [
      "name1\n",
      "Phone: 9867898765\n",
      "Email: name1@domain.ext\n"
     ]
    }
   ],
   "source": [
    "def searchcontacts(name):\n",
    "    if name in contacts1:\n",
    "        print(name)\n",
    "        print(\"Phone:\", contacts1[name][0])\n",
    "        print(\"Email:\", contacts1[name][1])\n",
    "    else:\n",
    "        print(\"%s does not exits\" %name)\n",
    "searchcontacts(\"name1\")"
   ]
  },
  {
   "cell_type": "code",
   "execution_count": 28,
   "metadata": {},
   "outputs": [
    {
     "ename": "NameError",
     "evalue": "name 'newContacts' is not defined",
     "output_type": "error",
     "traceback": [
      "\u001b[1;31m---------------------------------------------------------------------------\u001b[0m",
      "\u001b[1;31mNameError\u001b[0m                                 Traceback (most recent call last)",
      "\u001b[1;32m<ipython-input-28-090e435de0de>\u001b[0m in \u001b[0;36m<module>\u001b[1;34m\u001b[0m\n\u001b[0;32m      4\u001b[0m     \u001b[1;32mreturn\u001b[0m\u001b[1;33m\u001b[0m\u001b[1;33m\u001b[0m\u001b[0m\n\u001b[0;32m      5\u001b[0m \u001b[0mnewcontacts\u001b[0m\u001b[1;33m=\u001b[0m\u001b[1;33m{\u001b[0m\u001b[1;34m\"lalli\"\u001b[0m\u001b[1;33m:\u001b[0m\u001b[1;33m[\u001b[0m\u001b[1;36m9988776655\u001b[0m\u001b[1;33m,\u001b[0m\u001b[1;34m\"hello123@gmail.com\"\u001b[0m\u001b[1;33m]\u001b[0m\u001b[1;33m}\u001b[0m\u001b[1;33m\u001b[0m\u001b[1;33m\u001b[0m\u001b[0m\n\u001b[1;32m----> 6\u001b[1;33m \u001b[0mimportContacts\u001b[0m\u001b[1;33m(\u001b[0m\u001b[0mnewContacts\u001b[0m\u001b[1;33m)\u001b[0m\u001b[1;33m\u001b[0m\u001b[1;33m\u001b[0m\u001b[0m\n\u001b[0m",
      "\u001b[1;31mNameError\u001b[0m: name 'newContacts' is not defined"
     ]
    }
   ],
   "source": [
    "def importContacts(newContacts):\n",
    "    contacts1.update(newContacts)\n",
    "    print(len(newcontacts.keys()),\"Contacts added sucessfully\")\n",
    "    return\n",
    "newcontacts={\"lalli\":[9988776655,\"hello123@gmail.com\"]}\n",
    "importContacts(newContacts)"
   ]
  },
  {
   "cell_type": "code",
   "execution_count": 23,
   "metadata": {},
   "outputs": [
    {
     "name": "stdout",
     "output_type": "stream",
     "text": [
      "Valid number\n",
      "Invalid phone number\n"
     ]
    }
   ],
   "source": [
    "contacts1={\"name1\":[9867898765,\"name1@domain.ext\"],\"name2\":[9876543210,\"name2@domain.ext\"]}\n",
    "def addcontact1(name,phone,email):\n",
    "    #verify that the contact doesnot already exits\n",
    "    if name in contacts1:\n",
    "        print(name, \"Alreday exits\")\n",
    "    else:\n",
    "        if not(phoneNumberValidator(phone)):\n",
    "            print(\"Invalid phone number\")\n",
    "            return\n",
    "        if not(emailValidator(email)):\n",
    "            print(\"Invalid emal\")\n",
    "            return\n",
    "        newcontacts=[]\n",
    "        newcontact.append(phone)\n",
    "        newcontact.append(email)\n",
    "        contacts1[name]=newcontact\n",
    "        print(name, \"Added sucessfully\")\n",
    "    return\n",
    "\n",
    "addcontact1(\"Lalli\",\"8125694176\",\"devilalitha514@gmail.com\")"
   ]
  },
  {
   "cell_type": "code",
   "execution_count": 24,
   "metadata": {},
   "outputs": [
    {
     "data": {
      "text/plain": [
       "{'name1': [9867898765, 'name1@domain.ext'],\n",
       " 'name2': [9876543210, 'name2@domain.ext']}"
      ]
     },
     "execution_count": 24,
     "metadata": {},
     "output_type": "execute_result"
    }
   ],
   "source": [
    "contacts1"
   ]
  },
  {
   "cell_type": "code",
   "execution_count": null,
   "metadata": {},
   "outputs": [],
   "source": [
    "contacts3={}\n",
    "def addcontact3(name,phone,email):\n",
    "    #verify that the contact doesnot already exits \n",
    "    if name not in contacts:\n",
    "        contacts[name]=phone\n",
    "        print(\"Contact %s addeed\" %name)\n",
    "    else:\n",
    "        print(\"Contact %s Already exits\" %name)\n",
    "    return\n",
    "\n",
    "addcontact(\"Lalli\",\"8125694176\")\n"
   ]
  },
  {
   "cell_type": "code",
   "execution_count": 29,
   "metadata": {},
   "outputs": [
    {
     "data": {
      "text/plain": [
       "{'name1': [9867898765, 'name1@domain.ext'],\n",
       " 'name2': [9876543210, 'name2@domain.ext']}"
      ]
     },
     "execution_count": 29,
     "metadata": {},
     "output_type": "execute_result"
    }
   ],
   "source": [
    "contacts1"
   ]
  },
  {
   "cell_type": "code",
   "execution_count": 30,
   "metadata": {},
   "outputs": [
    {
     "data": {
      "text/plain": [
       "dict_items([('name1', [9867898765, 'name1@domain.ext']), ('name2', [9876543210, 'name2@domain.ext'])])"
      ]
     },
     "execution_count": 30,
     "metadata": {},
     "output_type": "execute_result"
    }
   ],
   "source": [
    "contacts1.items()"
   ]
  },
  {
   "cell_type": "code",
   "execution_count": 31,
   "metadata": {},
   "outputs": [
    {
     "name": "stdout",
     "output_type": "stream",
     "text": [
      "name1 \n",
      " Phone: 9867898765 \n",
      " Email : name1@domain.ext\n",
      "name2 \n",
      " Phone: 9876543210 \n",
      " Email : name2@domain.ext\n"
     ]
    }
   ],
   "source": [
    "#function to list all Contacts\n",
    "def listAllContacts():\n",
    "    for contact,info in contacts1.items():\n",
    "        print(contact,\"\\n\",\"Phone:\", info[0], \"\\n\", \"Email :\", info[1])\n",
    "    return\n",
    "listAllContacts()\n",
    "    "
   ]
  },
  {
   "cell_type": "code",
   "execution_count": null,
   "metadata": {},
   "outputs": [],
   "source": [
    "# Function to edit a contact information\n",
    "def editContact(name,phone,email):\n",
    "    "
   ]
  },
  {
   "cell_type": "markdown",
   "metadata": {},
   "source": [
    "### File Handing in Python\n",
    "File - Document information residing on the perminent storage\n",
    "types - Text, PDF, CSV, etc\n",
    "\n",
    "File I/O - Channelling I/O data to Files\n",
    "Default I/O Channels - Keyboard/Screen\n",
    "\n",
    "Change I/O Channel tp files for reading and writing\n",
    "Read a file - Input from file\n",
    "Write a file - Output to a file\n",
    "\n",
    "Read/write a file - open(filename,mode)\n"
   ]
  },
  {
   "cell_type": "code",
   "execution_count": 32,
   "metadata": {},
   "outputs": [
    {
     "name": "stdout",
     "output_type": "stream",
     "text": [
      "hello\n"
     ]
    },
    {
     "data": {
      "text/plain": [
       "'hello'"
      ]
     },
     "execution_count": 32,
     "metadata": {},
     "output_type": "execute_result"
    }
   ],
   "source": [
    "s=input()\n",
    "s"
   ]
  },
  {
   "cell_type": "code",
   "execution_count": 38,
   "metadata": {},
   "outputs": [
    {
     "name": "stdout",
     "output_type": "stream",
     "text": [
      "Line1\n",
      "Line2\n",
      "Line3\n"
     ]
    }
   ],
   "source": [
    "# Function to read a file\n",
    "def readFile(filename):\n",
    "    f=open(filename,'r')\n",
    "    filedata=f.read()\n",
    "    f.close()\n",
    "    return filedata\n",
    "filename='DataFiles/data.txt'\n",
    "for line in readFile(filename).split('\\n'):\n",
    "    print(line)\n",
    "#readFile(filename).split('\\n') -->it will print without for loop all data in line by line in output screen"
   ]
  },
  {
   "cell_type": "code",
   "execution_count": 44,
   "metadata": {},
   "outputs": [
    {
     "name": "stdout",
     "output_type": "stream",
     "text": [
      "Line1\n",
      "\n",
      "Line2\n",
      "\n",
      "Line3\n"
     ]
    }
   ],
   "source": [
    "def printFileDataLines(filename):\n",
    "    f=open(filename,'r')\n",
    "    for line in f:\n",
    "        print(line)\n",
    "    f.close()\n",
    "    return\n",
    "filename='DataFiles/data.txt'\n",
    "printFileDataLines(filename)"
   ]
  },
  {
   "cell_type": "code",
   "execution_count": 43,
   "metadata": {},
   "outputs": [
    {
     "name": "stdout",
     "output_type": "stream",
     "text": [
      "Line1\n",
      "Line2\n",
      "Line3"
     ]
    }
   ],
   "source": [
    "def printFileDataLines(filename):\n",
    "    f=open(filename,'r')\n",
    "    for line in f:\n",
    "        print(line,end='')\n",
    "    f.close()\n",
    "    return\n",
    "filename='DataFiles/data.txt'\n",
    "printFileDataLines(filename)"
   ]
  },
  {
   "cell_type": "code",
   "execution_count": 42,
   "metadata": {
    "scrolled": true
   },
   "outputs": [
    {
     "name": "stdout",
     "output_type": "stream",
     "text": [
      "Line1\n",
      "Line2\n",
      "Line3"
     ]
    }
   ],
   "source": [
    "def printFileDataLines(filename):\n",
    "    with open(filename,'r') as f: #Instead of f.close()\n",
    "        for line in f:\n",
    "            print(line,end='')\n",
    "        return\n",
    "filename='DataFiles/data.txt'\n",
    "printFileDataLines(filename)"
   ]
  },
  {
   "cell_type": "code",
   "execution_count": 47,
   "metadata": {},
   "outputs": [],
   "source": [
    "# function to write into a file\n",
    "#no data 'w'\n",
    "#existing file 'a'\n",
    "def writeIntoFile(filename,filedata):\n",
    "    with open(filename,'w') as f:\n",
    "        f.write(filedata)\n",
    "    return\n",
    "filename='DataFiles/data.txt'\n",
    "writeIntoFile(filename,'Good Evening') \n",
    "#Good Evening is added in data.txt, previous data arised"
   ]
  },
  {
   "cell_type": "code",
   "execution_count": 48,
   "metadata": {},
   "outputs": [
    {
     "name": "stdout",
     "output_type": "stream",
     "text": [
      "Good Evening\n"
     ]
    }
   ],
   "source": [
    "filename='DataFiles/data.txt'\n",
    "printFileDataLines(filename)"
   ]
  },
  {
   "cell_type": "code",
   "execution_count": 51,
   "metadata": {},
   "outputs": [],
   "source": [
    "# Function to append data to a file\n",
    "def appendDataFile(filename,filedata):\n",
    "    with open(filename,'a') as f:\n",
    "        f.write(filedata)\n",
    "    return\n",
    "filedata=\"Hello\\nHai\"\n",
    "appendDataFile(filename,filedata)\n",
    "#it append data at end of previous data"
   ]
  },
  {
   "cell_type": "code",
   "execution_count": 52,
   "metadata": {},
   "outputs": [
    {
     "name": "stdout",
     "output_type": "stream",
     "text": [
      "Good EveningHello\n",
      "\n",
      "Hai\n"
     ]
    }
   ],
   "source": [
    "filename='DataFiles/data.txt'\n",
    "printFileDataLines(filename)"
   ]
  },
  {
   "cell_type": "code",
   "execution_count": 56,
   "metadata": {},
   "outputs": [
    {
     "ename": "NameError",
     "evalue": "name 'fileldata' is not defined",
     "output_type": "error",
     "traceback": [
      "\u001b[1;31m---------------------------------------------------------------------------\u001b[0m",
      "\u001b[1;31mNameError\u001b[0m                                 Traceback (most recent call last)",
      "\u001b[1;32m<ipython-input-56-b6b968b735d6>\u001b[0m in \u001b[0;36m<module>\u001b[1;34m\u001b[0m\n\u001b[0;32m      5\u001b[0m     \u001b[1;32mreturn\u001b[0m\u001b[1;33m\u001b[0m\u001b[1;33m\u001b[0m\u001b[0m\n\u001b[0;32m      6\u001b[0m \u001b[0mfiledata\u001b[0m\u001b[1;33m=\u001b[0m\u001b[1;33m[\u001b[0m\u001b[1;34m\"line4\"\u001b[0m\u001b[1;33m,\u001b[0m\u001b[1;34m\"line5\"\u001b[0m\u001b[1;33m]\u001b[0m\u001b[1;33m\u001b[0m\u001b[1;33m\u001b[0m\u001b[0m\n\u001b[1;32m----> 7\u001b[1;33m \u001b[0mappendDataFile\u001b[0m\u001b[1;33m(\u001b[0m\u001b[0mfilename\u001b[0m\u001b[1;33m,\u001b[0m\u001b[0mfiledata\u001b[0m\u001b[1;33m)\u001b[0m\u001b[1;33m\u001b[0m\u001b[1;33m\u001b[0m\u001b[0m\n\u001b[0m",
      "\u001b[1;32m<ipython-input-56-b6b968b735d6>\u001b[0m in \u001b[0;36mappendDataFile\u001b[1;34m(filename, filedata)\u001b[0m\n\u001b[0;32m      1\u001b[0m \u001b[1;32mdef\u001b[0m \u001b[0mappendDataFile\u001b[0m\u001b[1;33m(\u001b[0m\u001b[0mfilename\u001b[0m\u001b[1;33m,\u001b[0m\u001b[0mfiledata\u001b[0m\u001b[1;33m)\u001b[0m\u001b[1;33m:\u001b[0m\u001b[1;33m\u001b[0m\u001b[1;33m\u001b[0m\u001b[0m\n\u001b[0;32m      2\u001b[0m     \u001b[1;32mwith\u001b[0m \u001b[0mopen\u001b[0m\u001b[1;33m(\u001b[0m\u001b[0mfilename\u001b[0m\u001b[1;33m,\u001b[0m\u001b[1;34m'a'\u001b[0m\u001b[1;33m)\u001b[0m \u001b[1;32mas\u001b[0m \u001b[0mf\u001b[0m\u001b[1;33m:\u001b[0m\u001b[1;33m\u001b[0m\u001b[1;33m\u001b[0m\u001b[0m\n\u001b[1;32m----> 3\u001b[1;33m         \u001b[1;32mfor\u001b[0m \u001b[0mline\u001b[0m \u001b[1;32min\u001b[0m \u001b[0mfileldata\u001b[0m\u001b[1;33m:\u001b[0m\u001b[1;33m\u001b[0m\u001b[1;33m\u001b[0m\u001b[0m\n\u001b[0m\u001b[0;32m      4\u001b[0m             \u001b[0mf\u001b[0m\u001b[1;33m.\u001b[0m\u001b[0mwrite\u001b[0m\u001b[1;33m(\u001b[0m\u001b[1;34m'\\n'\u001b[0m\u001b[1;33m+\u001b[0m\u001b[0mline\u001b[0m\u001b[1;33m)\u001b[0m\u001b[1;33m\u001b[0m\u001b[1;33m\u001b[0m\u001b[0m\n\u001b[0;32m      5\u001b[0m     \u001b[1;32mreturn\u001b[0m\u001b[1;33m\u001b[0m\u001b[1;33m\u001b[0m\u001b[0m\n",
      "\u001b[1;31mNameError\u001b[0m: name 'fileldata' is not defined"
     ]
    }
   ],
   "source": [
    "def appendDataFile(filename,filedata):\n",
    "    with open(filename,'a') as f:\n",
    "        for line in fileldata:\n",
    "            f.write('\\n'+line)\n",
    "    return\n",
    "filedata=[\"line4\",\"line5\"]\n",
    "appendDataFile(filename,filedata)"
   ]
  },
  {
   "cell_type": "code",
   "execution_count": null,
   "metadata": {},
   "outputs": [],
   "source": []
  }
 ],
 "metadata": {
  "kernelspec": {
   "display_name": "Python 3",
   "language": "python",
   "name": "python3"
  },
  "language_info": {
   "codemirror_mode": {
    "name": "ipython",
    "version": 3
   },
   "file_extension": ".py",
   "mimetype": "text/x-python",
   "name": "python",
   "nbconvert_exporter": "python",
   "pygments_lexer": "ipython3",
   "version": "3.7.3"
  }
 },
 "nbformat": 4,
 "nbformat_minor": 2
}
