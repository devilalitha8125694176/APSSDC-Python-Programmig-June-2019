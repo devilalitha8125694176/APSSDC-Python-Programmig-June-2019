{
 "cells": [
  {
   "cell_type": "markdown",
   "metadata": {},
   "source": [
    "### Function to print all numbers divisible by 6 and not a factor of 100 in a given range(lb, ub) inclusive\n"
   ]
  },
  {
   "cell_type": "code",
   "execution_count": 1,
   "metadata": {},
   "outputs": [
    {
     "name": "stdout",
     "output_type": "stream",
     "text": [
      "6 12 18 24 30 36 42 48 54 60 66 72 78 84 90 96 102 108 114 120 126 132 138 144 150 156 162 168 174 180 186 192 198 204 210 216 222 228 234 240 246 252 258 264 270 276 282 288 294 300 306 312 318 324 330 336 342 348 354 360 366 372 378 384 390 396 402 408 414 420 426 432 438 444 450 456 462 468 474 480 486 492 498 504 510 516 522 528 534 540 546 552 558 564 570 576 582 588 594 600 606 612 618 624 630 636 642 648 654 660 666 672 678 684 690 696 702 708 714 720 726 732 738 744 750 756 762 768 774 780 786 792 798 804 810 816 822 828 834 840 846 852 858 864 870 876 882 888 894 900 906 912 918 924 930 936 942 948 954 960 966 972 978 984 990 996 "
     ]
    }
   ],
   "source": [
    "def divby6(lb,ub):\n",
    "    c=0\n",
    "    for i in range(lb,ub+1):\n",
    "        if(i%6==0)  and (100%i!=0):\n",
    "            print(i,end=\" \")\n",
    "            c=c+1\n",
    "    #print(\"count= \",c)\n",
    "divby6(1,1000)"
   ]
  },
  {
   "cell_type": "code",
   "execution_count": 2,
   "metadata": {},
   "outputs": [
    {
     "name": "stdout",
     "output_type": "stream",
     "text": [
      "1 2 4 5 10 20 25 50 100 "
     ]
    }
   ],
   "source": [
    "def factors(n):\n",
    "    for i in range(1,n+1):\n",
    "        if(n%i==0):\n",
    "            print(i,end=\" \")\n",
    "factors(100)"
   ]
  },
  {
   "cell_type": "markdown",
   "metadata": {},
   "source": [
    "### Function to find the average of cubes of all even numbers in a given range(lb, ub) inclusive\n"
   ]
  },
  {
   "cell_type": "code",
   "execution_count": 3,
   "metadata": {},
   "outputs": [
    {
     "name": "stdout",
     "output_type": "stream",
     "text": [
      "260100.0\n"
     ]
    }
   ],
   "source": [
    "def avgqubes(lb,ub):\n",
    "    s=0\n",
    "    c=0\n",
    "    for i in range(lb,ub+1):\n",
    "        if(i%2==0):\n",
    "            q=i**3\n",
    "            s=s+q\n",
    "            c=c+1\n",
    "    print(s/c)\n",
    "avgqubes(1,100)"
   ]
  },
  {
   "cell_type": "markdown",
   "metadata": {},
   "source": [
    "### Function to generate the list of factors for a given number\n"
   ]
  },
  {
   "cell_type": "code",
   "execution_count": 4,
   "metadata": {},
   "outputs": [
    {
     "data": {
      "text/plain": [
       "[1, 2, 4, 7, 14, 28]"
      ]
     },
     "execution_count": 4,
     "metadata": {},
     "output_type": "execute_result"
    }
   ],
   "source": [
    "def list_factors_n(n):\n",
    "    li=[]\n",
    "    for i in range(1,n+1):\n",
    "        if(n%i==0):\n",
    "            li.append(i)\n",
    "    return li\n",
    "list_factors_n(28)"
   ]
  },
  {
   "cell_type": "markdown",
   "metadata": {},
   "source": [
    "### Function to calculate the factorial of a given number\n"
   ]
  },
  {
   "cell_type": "code",
   "execution_count": 5,
   "metadata": {},
   "outputs": [
    {
     "data": {
      "text/plain": [
       "120"
      ]
     },
     "execution_count": 5,
     "metadata": {},
     "output_type": "execute_result"
    }
   ],
   "source": [
    "def factorial(n):\n",
    "    fact=1\n",
    "    for i in range(n,1,-1):\n",
    "        fact=fact*i\n",
    "    return fact\n",
    "factorial(5)"
   ]
  },
  {
   "cell_type": "markdown",
   "metadata": {},
   "source": [
    "### Function to check if a given number is Prime\n"
   ]
  },
  {
   "cell_type": "code",
   "execution_count": 6,
   "metadata": {},
   "outputs": [
    {
     "data": {
      "text/plain": [
       "True"
      ]
     },
     "execution_count": 6,
     "metadata": {},
     "output_type": "execute_result"
    }
   ],
   "source": [
    "def isprime(n):\n",
    "    c=0\n",
    "    for i in range(2,n//2+1):\n",
    "        if(n%i==0):\n",
    "            c=c+1\n",
    "    if(c==0):\n",
    "        return True\n",
    "    else:\n",
    "        return False\n",
    "isprime(11)"
   ]
  },
  {
   "cell_type": "code",
   "execution_count": 7,
   "metadata": {},
   "outputs": [
    {
     "data": {
      "text/plain": [
       "False"
      ]
     },
     "execution_count": 7,
     "metadata": {},
     "output_type": "execute_result"
    }
   ],
   "source": [
    "isprime(6)"
   ]
  },
  {
   "cell_type": "markdown",
   "metadata": {},
   "source": [
    "### Function to calculate the average first N Prime numbers\n"
   ]
  },
  {
   "cell_type": "code",
   "execution_count": 8,
   "metadata": {},
   "outputs": [
    {
     "data": {
      "text/plain": [
       "-1"
      ]
     },
     "execution_count": 8,
     "metadata": {},
     "output_type": "execute_result"
    }
   ],
   "source": [
    "# is number is prime it return n otherwiswe -1\n",
    "def isprime(n):\n",
    "    i=2\n",
    "    c=0\n",
    "    for i in range(2,n):\n",
    "        if(n%i==0):\n",
    "            c=c+1\n",
    "    if(c==0):\n",
    "        return n\n",
    "    else:\n",
    "        return -1\n",
    "isprime(12)"
   ]
  },
  {
   "cell_type": "code",
   "execution_count": 9,
   "metadata": {},
   "outputs": [
    {
     "name": "stdout",
     "output_type": "stream",
     "text": [
      "2 3 5 7 11 13 17 19 23 29 "
     ]
    }
   ],
   "source": [
    "#Function to print all first N Prime numbers\n",
    "def nprimes(n):\n",
    "    i=0\n",
    "    j=2\n",
    "    c=0\n",
    "    while(i<n):\n",
    "        if(isprime(j)!=-1):\n",
    "            print(isprime(j),end=\" \")\n",
    "            i=i+1\n",
    "        j=j+1\n",
    "        \n",
    "nprimes(10)"
   ]
  },
  {
   "cell_type": "code",
   "execution_count": 10,
   "metadata": {},
   "outputs": [
    {
     "name": "stdout",
     "output_type": "stream",
     "text": [
      "2 3 5 7 11 "
     ]
    },
    {
     "data": {
      "text/plain": [
       "5.6"
      ]
     },
     "execution_count": 10,
     "metadata": {},
     "output_type": "execute_result"
    }
   ],
   "source": [
    "# Function to calculate the average first N Prime numbers\n",
    "def avg_nprimes(n):\n",
    "    i=0\n",
    "    j=2\n",
    "    c=0\n",
    "    sum=0\n",
    "    while(i<n):\n",
    "        if(isprime(j)!=-1):\n",
    "            print(isprime(j),end=\" \")\n",
    "            sum=sum+j\n",
    "            i=i+1\n",
    "        j=j+1\n",
    "    return sum/n\n",
    "avg_nprimes(5)"
   ]
  },
  {
   "cell_type": "markdown",
   "metadata": {},
   "source": [
    "### Function to generate all Perfect numbers in a given range\n",
    "\n",
    "    "
   ]
  },
  {
   "cell_type": "code",
   "execution_count": 11,
   "metadata": {},
   "outputs": [
    {
     "name": "stdout",
     "output_type": "stream",
     "text": [
      "6\n",
      "28\n",
      "496\n"
     ]
    }
   ],
   "source": [
    "def sumoffactors(n):\n",
    "    s=0\n",
    "    for i in range(1,n//2+1):\n",
    "        if(n%i==0):\n",
    "            s=s+i\n",
    "    return s\n",
    "#sumoffactors(28)\n",
    "def range_perfect(n):\n",
    "    for i in range(1,n+1):\n",
    "        s=sumoffactors(i)\n",
    "        if(s==i):\n",
    "            print(i)\n",
    "range_perfect(1000)"
   ]
  },
  {
   "cell_type": "markdown",
   "metadata": {},
   "source": [
    "## Advanced Problem Set( Optional )\n"
   ]
  },
  {
   "cell_type": "markdown",
   "metadata": {},
   "source": [
    "### Function to calculate the average of all factorials in a given range\n"
   ]
  },
  {
   "cell_type": "code",
   "execution_count": 12,
   "metadata": {},
   "outputs": [
    {
     "name": "stdout",
     "output_type": "stream",
     "text": [
      "3.0\n"
     ]
    }
   ],
   "source": [
    "def fact(n):\n",
    "    f=1\n",
    "    for i in range(2,n+1):\n",
    "        f=f*i\n",
    "    return f\n",
    "def avgfact_range(n):\n",
    "    s=0\n",
    "    c=0\n",
    "    for i in range(1,n+1):\n",
    "        f=fact(i)\n",
    "        s=s+f\n",
    "        c=c+1\n",
    "    print(s/c)\n",
    "avgfact_range(3)\n",
    "        "
   ]
  },
  {
   "cell_type": "markdown",
   "metadata": {},
   "source": [
    "### Function to generate N odd Armstrong numbers"
   ]
  },
  {
   "cell_type": "code",
   "execution_count": 13,
   "metadata": {},
   "outputs": [
    {
     "data": {
      "text/plain": [
       "5"
      ]
     },
     "execution_count": 13,
     "metadata": {},
     "output_type": "execute_result"
    }
   ],
   "source": [
    "def length(n):\n",
    "    a=str(n)\n",
    "    length=len(a)\n",
    "    return length\n",
    "length(23567)"
   ]
  },
  {
   "cell_type": "code",
   "execution_count": 18,
   "metadata": {},
   "outputs": [
    {
     "data": {
      "text/plain": [
       "153"
      ]
     },
     "execution_count": 18,
     "metadata": {},
     "output_type": "execute_result"
    }
   ],
   "source": [
    "def isArm(n):\n",
    "    s=0\n",
    "    len=length(n)\n",
    "    while(n!=0):\n",
    "        r=n%10\n",
    "        s=s+r**len\n",
    "        n=n//10\n",
    "    return s\n",
    "isArm(153)"
   ]
  },
  {
   "cell_type": "code",
   "execution_count": 19,
   "metadata": {},
   "outputs": [
    {
     "name": "stdout",
     "output_type": "stream",
     "text": [
      "153 370 371 407 1634 "
     ]
    }
   ],
   "source": [
    "def n_Armstrong(n):\n",
    "    i=0\n",
    "    j=1\n",
    "    while(i<n):\n",
    "        if(isArm(j)==j and len(str(j))>=3):\n",
    "            print(j,end=\" \")\n",
    "            i=i+1\n",
    "        j=j+1\n",
    "    return\n",
    "n_Armstrong(5)\n",
    "        "
   ]
  },
  {
   "cell_type": "code",
   "execution_count": 20,
   "metadata": {},
   "outputs": [
    {
     "name": "stdout",
     "output_type": "stream",
     "text": [
      "153 371 407 92727 1741725 "
     ]
    },
    {
     "data": {
      "text/plain": [
       "367076.6"
      ]
     },
     "execution_count": 20,
     "metadata": {},
     "output_type": "execute_result"
    }
   ],
   "source": [
    "### Function to generate N odd Armstrong numbers\n",
    "def avg_n_odd_armstrong(n):\n",
    "    i=0\n",
    "    j=1\n",
    "    s=0\n",
    "    while(i<n):\n",
    "        if(isArm(j)==j and len(str(j))>=3) and j%2==1:\n",
    "            print(j,end=\" \")\n",
    "            s=s+j\n",
    "            i=i+1\n",
    "        j=j+1\n",
    "    return s/n\n",
    "avg_n_odd_armstrong(5)"
   ]
  },
  {
   "cell_type": "markdown",
   "metadata": {},
   "source": [
    "### Function to generate Multiplication table for a number in a given range\n",
    "- 10 in the range(100, 102) inclusive\n",
    "- 10 x 100 = 1000\n",
    "- 10 x 101 = 1010\n",
    "- 10 x 102 = 1020\n"
   ]
  },
  {
   "cell_type": "code",
   "execution_count": 21,
   "metadata": {},
   "outputs": [
    {
     "name": "stdout",
     "output_type": "stream",
     "text": [
      "10  *  100  =  1000\n",
      "10  *  101  =  1010\n",
      "10  *  102  =  1020\n"
     ]
    }
   ],
   "source": [
    "def generate_table(n,lb,ub):\n",
    "    for i in range(lb,ub+1):\n",
    "        print(n,\" * \",i,\" = \",n*i)\n",
    "generate_table(10,100,102)"
   ]
  },
  {
   "cell_type": "markdown",
   "metadata": {},
   "source": [
    "### You are given a string and your task is to swap cases. In other words, convert all lowercase letters to uppercase letters and vice versa. (The String may contain special characters).\n"
   ]
  },
  {
   "cell_type": "code",
   "execution_count": 29,
   "metadata": {},
   "outputs": [
    {
     "name": "stdout",
     "output_type": "stream",
     "text": [
      "lALLIdEVI"
     ]
    }
   ],
   "source": [
    "def swapcase(s):\n",
    "    for i in range(len(s)):\n",
    "        d=s[i]\n",
    "        if(d.isalpha()):\n",
    "            if(d.islower()):\n",
    "                d=d.upper()\n",
    "                print(d,end=\"\")\n",
    "            elif(d.isupper()):\n",
    "                d=d.lower()\n",
    "                print(d,end=\"\")\n",
    "swapcase(\"Lalli@123Devi\")"
   ]
  },
  {
   "cell_type": "markdown",
   "metadata": {},
   "source": [
    "### Given an integer, ’n’ , perform the following conditional actions:\n",
    "- If ‘n’  is odd, print Weird\n",
    "- If  ‘n’ is even and in the inclusive range of 2 to 5, print Not Weird\n",
    "- If  ‘n’ is even and in the inclusive range of 6 to 20 , print Weird\n",
    "- If  ‘n’ is even and greater than 20, print Not Weird\n"
   ]
  },
  {
   "cell_type": "code",
   "execution_count": 33,
   "metadata": {},
   "outputs": [
    {
     "name": "stdout",
     "output_type": "stream",
     "text": [
      "Weird\n"
     ]
    }
   ],
   "source": [
    "def is_Weird(n):\n",
    "    if(n%2==0 and n>20) or (n%2==0 and n>=2 and n<=5):\n",
    "        print(\"Not Weird\")\n",
    "    elif(n%2==1) or (n%2==0 and n>=6 and n<=20):\n",
    "        print(\"Weird\")\n",
    "is_Weird(8)"
   ]
  },
  {
   "cell_type": "code",
   "execution_count": null,
   "metadata": {},
   "outputs": [],
   "source": []
  }
 ],
 "metadata": {
  "kernelspec": {
   "display_name": "Python 3",
   "language": "python",
   "name": "python3"
  },
  "language_info": {
   "codemirror_mode": {
    "name": "ipython",
    "version": 3
   },
   "file_extension": ".py",
   "mimetype": "text/x-python",
   "name": "python",
   "nbconvert_exporter": "python",
   "pygments_lexer": "ipython3",
   "version": "3.7.3"
  }
 },
 "nbformat": 4,
 "nbformat_minor": 2
}
