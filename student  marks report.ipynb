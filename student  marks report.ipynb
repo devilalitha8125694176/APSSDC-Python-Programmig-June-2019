{
 "cells": [
  {
   "cell_type": "code",
   "execution_count": 6,
   "metadata": {},
   "outputs": [
    {
     "name": "stdout",
     "output_type": "stream",
     "text": [
      "Enter number of students to generate marks report: 60\n",
      "Enter min marks0\n",
      "Enter max marks100\n"
     ]
    }
   ],
   "source": [
    "# Generate marks file n students. That each line in a text file contains one student marks\n",
    "\n",
    "import random\n",
    "\n",
    "def marksFile(N, fileLocation, min_mark, max_mark):\n",
    "    with open(fileLocation,'a') as res:\n",
    "        for student in range(1,N+1):\n",
    "            m = random.randint(min_mark, max_mark)\n",
    "            res.write(str(m)+\"\\n\")\n",
    "\n",
    "N = int(input('Enter number of students to generate marks report: '))\n",
    "\n",
    "fileLocation = \"DataFiles/classreport.txt\"\n",
    "\n",
    "min_mark = int(input(\"Enter min marks\"))\n",
    "\n",
    "max_mark = int(input(\"Enter max marks\"))\n",
    "\n",
    "marksFile(N, fileLocation, min_mark, max_mark)"
   ]
  },
  {
   "cell_type": "code",
   "execution_count": 7,
   "metadata": {},
   "outputs": [
    {
     "name": "stdout",
     "output_type": "stream",
     "text": [
      "Pass Percentage 61.42857142857143\n",
      "Fail Percentage 38.57142857142858\n",
      "Highest Mark Frequency:  99 3\n",
      "Lowest Mark Frequency:  1 2\n"
     ]
    }
   ],
   "source": [
    "# Function to caluclate class average\n",
    "\n",
    "def classAverage(fileLocation):\n",
    "    total_marks = 0\n",
    "    noOfStudents = 0\n",
    "    with open(fileLocation, \"r\") as marks:\n",
    "        for record in marks:\n",
    "            record = record.strip()\n",
    "            total_marks += int(record)\n",
    "            noOfStudents += 1\n",
    "    return \"Class Average Marks: \"+str(total_marks/noOfStudents)\n",
    "\n",
    "fileLocation = \"DataFiles/classreport.txt\"\n",
    "\n",
    "classAverage(fileLocation)\n",
    "\n",
    "# Function to caluclate % of students passed\n",
    "\n",
    "def passNfailPercentage(fileLocation):\n",
    "    noOfStudentsPassed = 0\n",
    "    noOfStudentsFailed = 0\n",
    "    totalStudents = 0\n",
    "    with open(fileLocation, \"r\") as marks:\n",
    "        for record in marks:\n",
    "            record = record.strip()\n",
    "            record = int(record)\n",
    "            if(record>35 and record<=100):\n",
    "                noOfStudentsPassed += 1\n",
    "            else:\n",
    "                noOfStudentsFailed += 1\n",
    "                continue\n",
    "    totalStudents = noOfStudentsPassed + noOfStudentsFailed\n",
    "    print(\"Pass Percentage\",(noOfStudentsPassed/totalStudents)*100)\n",
    "    print(\"Fail Percentage\",(noOfStudentsFailed/totalStudents)*100)\n",
    "\n",
    "\n",
    "fileLocation = \"DataFiles/classreport.txt\"\n",
    "\n",
    "passNfailPercentage(fileLocation)\n",
    "\n",
    "# Percentage of students with distinction\n",
    "\n",
    "def percentageOfDistinction(fileLocation):\n",
    "    totalStudents = 0\n",
    "    distinction = 0\n",
    "    with open(fileLocation, \"r\") as marks:\n",
    "        for record in marks:\n",
    "            record = record.strip()\n",
    "            record = int(record)\n",
    "            if(record>75):\n",
    "                distinction += 1\n",
    "                totalStudents += 1\n",
    "            else:\n",
    "                totalStudents += 1\n",
    "                \n",
    "    return \"Percentage of Distinction \"+str((distinction/totalStudents)*100)\n",
    "    \n",
    "    \n",
    "\n",
    "fileLocation = \"DataFiles/classreport.txt\"\n",
    "\n",
    "percentageOfDistinction(fileLocation)\n",
    "\n",
    "# Function to print highest N lowest frequency\n",
    "\n",
    "def highestNLowestFrequency(fileLocation):\n",
    "    marks = [] # empty list\n",
    "    with open(fileLocation,'r') as data:\n",
    "        for student in data:\n",
    "            student = int(student)\n",
    "            marks.append(student)\n",
    "    print(\"Highest Mark Frequency: \",max(marks),marks.count(max(marks)))\n",
    "    print(\"Lowest Mark Frequency: \",min(marks),marks.count(min(marks)))\n",
    "\n",
    "fileLocation = \"DataFiles/classreport.txt\"  \n",
    "\n",
    "highestNLowestFrequency(fileLocation)\n",
    "\n"
   ]
  },
  {
   "cell_type": "code",
   "execution_count": 8,
   "metadata": {},
   "outputs": [
    {
     "name": "stdout",
     "output_type": "stream",
     "text": [
      "Class Average Marks: 48.01428571428571\n",
      "Pass Percentage 61.42857142857143\n",
      "Fail Percentage 38.57142857142858\n",
      "Highest Mark Frequency:  99 3\n",
      "Lowest Mark Frequency:  1 2\n"
     ]
    }
   ],
   "source": [
    "def generateReport(filepath):\n",
    "    avg = classAverage(filepath)\n",
    "    print(avg)\n",
    "    passNfailPercentage(filepath)\n",
    "    percentageOfDistinction(filepath)\n",
    "    highestNLowestFrequency(filepath)\n",
    "\n",
    "filepath = \"DataFiles/classreport.txt\"\n",
    "\n",
    "generateReport(filepath)"
   ]
  },
  {
   "cell_type": "code",
   "execution_count": null,
   "metadata": {},
   "outputs": [],
   "source": []
  }
 ],
 "metadata": {
  "kernelspec": {
   "display_name": "Python 3",
   "language": "python",
   "name": "python3"
  },
  "language_info": {
   "codemirror_mode": {
    "name": "ipython",
    "version": 3
   },
   "file_extension": ".py",
   "mimetype": "text/x-python",
   "name": "python",
   "nbconvert_exporter": "python",
   "pygments_lexer": "ipython3",
   "version": "3.7.3"
  }
 },
 "nbformat": 4,
 "nbformat_minor": 2
}
