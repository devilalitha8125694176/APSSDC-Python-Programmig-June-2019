{
 "cells": [
  {
   "cell_type": "code",
   "execution_count": null,
   "metadata": {},
   "outputs": [],
   "source": [
    "#.ipyb -->intractive python note book\n"
   ]
  },
  {
   "cell_type": "markdown",
   "metadata": {},
   "source": [
    "# Markdown Basics"
   ]
  },
  {
   "cell_type": "markdown",
   "metadata": {},
   "source": [
    "**Bold**\n",
    "*Italic* \n",
    "* **bold**\n",
    "* *Italic* \n",
    "* Normal Text\n",
    "  * Heading 1\n",
    "  * Heading 2\n"
   ]
  },
  {
   "cell_type": "markdown",
   "metadata": {},
   "source": [
    "1. Ordered list Element 1\n",
    "2. Ordered list Element 2"
   ]
  },
  {
   "cell_type": "markdown",
   "metadata": {},
   "source": [
    "[Jupyter Logo](Logo.png)\n",
    "\n",
    "<img src=\"Logo.png\" style=\"float:left\" wiidth=10 height=10>"
   ]
  },
  {
   "cell_type": "markdown",
   "metadata": {},
   "source": [
    "- [] Option 1\n",
    "- [] option 2\n"
   ]
  },
  {
   "cell_type": "markdown",
   "metadata": {},
   "source": [
    "[google][1] is my most popular.\n",
    "[1]: http//google.com/ \"google\""
   ]
  },
  {
   "cell_type": "markdown",
   "metadata": {},
   "source": [
    "`printf(\"Hello Lalitha\")`"
   ]
  },
  {
   "cell_type": "markdown",
   "metadata": {},
   "source": [
    "<https://google.com>"
   ]
  },
  {
   "cell_type": "markdown",
   "metadata": {},
   "source": [
    "## Python Basics"
   ]
  },
  {
   "cell_type": "markdown",
   "metadata": {},
   "source": [
    "### python version 3.7\n",
    "- Scripting\n",
    "- Object Oriented\n",
    "- Functional"
   ]
  },
  {
   "cell_type": "code",
   "execution_count": 9,
   "metadata": {},
   "outputs": [
    {
     "name": "stdout",
     "output_type": "stream",
     "text": [
      "Good afternoon!\n",
      "Hello Lalli\n",
      "good afternoon !\n",
      "Devi Lalitha\n"
     ]
    }
   ],
   "source": [
    "# python comment\n",
    "print(\"Good afternoon!\") #Basic output\n",
    "print(\"Hello Lalli\")\n",
    "print(\"good afternoon\", \"!\") #giving one space using comma\n",
    "print(\"Devi\",end=\" \")\n",
    "print(\"Lalitha\")"
   ]
  },
  {
   "cell_type": "markdown",
   "metadata": {},
   "source": [
    "### Assignment"
   ]
  },
  {
   "cell_type": "code",
   "execution_count": 11,
   "metadata": {},
   "outputs": [],
   "source": [
    "n1=123456 #Single varaible Assignment\n",
    "\n",
    "n2=n3=n4=n1 #multi variable Assignment of the same value"
   ]
  },
  {
   "cell_type": "code",
   "execution_count": 14,
   "metadata": {},
   "outputs": [
    {
     "data": {
      "text/plain": [
       "123456"
      ]
     },
     "execution_count": 14,
     "metadata": {},
     "output_type": "execute_result"
    }
   ],
   "source": [
    "n3"
   ]
  },
  {
   "cell_type": "code",
   "execution_count": 15,
   "metadata": {},
   "outputs": [],
   "source": [
    "#Multi Variable Assignment with different values\n",
    "a,b,c=123,343,786"
   ]
  },
  {
   "cell_type": "code",
   "execution_count": 20,
   "metadata": {},
   "outputs": [
    {
     "data": {
      "text/plain": [
       "343"
      ]
     },
     "execution_count": 20,
     "metadata": {},
     "output_type": "execute_result"
    }
   ],
   "source": [
    "b"
   ]
  },
  {
   "cell_type": "code",
   "execution_count": 22,
   "metadata": {},
   "outputs": [
    {
     "data": {
      "text/plain": [
       "786"
      ]
     },
     "execution_count": 22,
     "metadata": {},
     "output_type": "execute_result"
    }
   ],
   "source": [
    "a\n",
    "b\n",
    "c\n",
    "#it show only print last line value only, if you want all you just write print(a,b,c)"
   ]
  },
  {
   "cell_type": "code",
   "execution_count": 23,
   "metadata": {},
   "outputs": [
    {
     "name": "stdout",
     "output_type": "stream",
     "text": [
      "123 343 786\n"
     ]
    }
   ],
   "source": [
    "print(a,b,c)"
   ]
  },
  {
   "cell_type": "markdown",
   "metadata": {},
   "source": [
    "### Data Types and Type Conversions\n",
    "- int\n",
    "- float\n",
    "- string\n",
    "- double\n"
   ]
  },
  {
   "cell_type": "code",
   "execution_count": 48,
   "metadata": {
    "scrolled": true
   },
   "outputs": [
    {
     "data": {
      "text/plain": [
       "int"
      ]
     },
     "execution_count": 48,
     "metadata": {},
     "output_type": "execute_result"
    }
   ],
   "source": [
    "type(a)"
   ]
  },
  {
   "cell_type": "code",
   "execution_count": 49,
   "metadata": {},
   "outputs": [
    {
     "data": {
      "text/plain": [
       "str"
      ]
     },
     "execution_count": 49,
     "metadata": {},
     "output_type": "execute_result"
    }
   ],
   "source": [
    "s1=\"Lalitha\"\n",
    "type(s1)"
   ]
  },
  {
   "cell_type": "code",
   "execution_count": 50,
   "metadata": {},
   "outputs": [
    {
     "data": {
      "text/plain": [
       "float"
      ]
     },
     "execution_count": 50,
     "metadata": {},
     "output_type": "execute_result"
    }
   ],
   "source": [
    "f1=12.345\n",
    "type(f1)"
   ]
  },
  {
   "cell_type": "code",
   "execution_count": 51,
   "metadata": {},
   "outputs": [
    {
     "data": {
      "text/plain": [
       "12"
      ]
     },
     "execution_count": 51,
     "metadata": {},
     "output_type": "execute_result"
    }
   ],
   "source": [
    "int(f1)"
   ]
  },
  {
   "cell_type": "code",
   "execution_count": 52,
   "metadata": {
    "scrolled": true
   },
   "outputs": [
    {
     "data": {
      "text/plain": [
       "'12'"
      ]
     },
     "execution_count": 52,
     "metadata": {},
     "output_type": "execute_result"
    }
   ],
   "source": [
    "str(int(f1))"
   ]
  },
  {
   "cell_type": "code",
   "execution_count": 53,
   "metadata": {},
   "outputs": [
    {
     "data": {
      "text/plain": [
       "12.0"
      ]
     },
     "execution_count": 53,
     "metadata": {},
     "output_type": "execute_result"
    }
   ],
   "source": [
    "float(str(int(f1)))"
   ]
  },
  {
   "cell_type": "markdown",
   "metadata": {},
   "source": [
    "### Arthmatic Operatons"
   ]
  },
  {
   "cell_type": "code",
   "execution_count": 24,
   "metadata": {},
   "outputs": [],
   "source": [
    "# '**' represents power"
   ]
  },
  {
   "cell_type": "code",
   "execution_count": 25,
   "metadata": {},
   "outputs": [
    {
     "data": {
      "text/plain": [
       "3"
      ]
     },
     "execution_count": 25,
     "metadata": {},
     "output_type": "execute_result"
    }
   ],
   "source": [
    "n1%11"
   ]
  },
  {
   "cell_type": "code",
   "execution_count": 26,
   "metadata": {},
   "outputs": [
    {
     "data": {
      "text/plain": [
       "12535637344887704516447688721417492690366247570114367492980736"
      ]
     },
     "execution_count": 26,
     "metadata": {},
     "output_type": "execute_result"
    }
   ],
   "source": [
    "n2**12"
   ]
  },
  {
   "cell_type": "code",
   "execution_count": 32,
   "metadata": {},
   "outputs": [
    {
     "data": {
      "text/plain": [
       "int"
      ]
     },
     "execution_count": 32,
     "metadata": {},
     "output_type": "execute_result"
    }
   ],
   "source": [
    "n3=n2**12\n",
    "type(n3)\n",
    "# Wrong len(n3)\n"
   ]
  },
  {
   "cell_type": "code",
   "execution_count": 31,
   "metadata": {},
   "outputs": [
    {
     "data": {
      "text/plain": [
       "62"
      ]
     },
     "execution_count": 31,
     "metadata": {},
     "output_type": "execute_result"
    }
   ],
   "source": [
    "len(str(n3))"
   ]
  },
  {
   "cell_type": "code",
   "execution_count": 33,
   "metadata": {},
   "outputs": [
    {
     "data": {
      "text/plain": [
       "1180346733753573064293947309270834289224894931333293934519086201879046635231918758209082658689478239939763763830579639482311363544285005793948542690925494092897257469770691135331058210584549982942289948961254159272873621591238053640058133018934811705946843626450895856132561595818157498900324697030776825942146395855291510505109768602894757783055761861243129234516801705784934316934519611217187761746521469387776267152750605586107102889311663332179354615959378438262190362912932970696047569135451928151385761895918653377703120129564818906991762968345335125212692915689235317476354931009099495256210341900876975408433871517687664149774702753441409394083451243352863669689533422627707013350677050931667765860244523450384574796279618306756292325960368252923364737424747206551684410453522837271179620562284783055236472128910028098635720659850799416049312605260807489197189463728416373332822930897425403770657762420259691027322576939335995875389287661112126642416593359091489823204616662918475486376419849744511917850262506824669525667959945624345135802164278232230343196936516304949055252756577183182842132267828430627849354002268249202289245277338657412413780815831099547438752019614402954464434678509868823846342749956420690489908841561675746214609870611261823960693134318542695541567345887558751879127108267342173204157982067911668864020658842429063088828286475724633481524725342460987436019619989704920450245433982564685825219466856189541401126271540734817926691402727349223324745067276605615109245268604185927392359690514392135806458004453992501683805410880939853883948471975018869222189939355909598570640332959960869285412484860336809767119683170988296154126342941125575247151096163329470447961578987777966059992132730108241450873397930637437172120259493303124707147473860907994682411393762712600566913092492153800124985772595702063063478759590735428236559724473606251555168815207665647379521421768861333032763999151964642128651803236442146345302349030354411794057266837552973893581723213427004562723665762154648709446510136035172388306412465994911226033424246136974259502593189782281456434406622007876488376744402865518881775740431555750874978864378170416976252209660751477963391050436037094496788293134974577951029979936542163285726631599315899623409425218137256651702113153628600360367621021978412296268834370153637859651356578458001699569720226154153628133076919370197791736160134629774914821130786420077341717201077675381065116614386307465508595493137743836194481047300442933466394669345624944353599870944719389252512879068074596678745527409746392903612522999836180816279794759004562616632234626378871262917203780659679276547338835122528874574679671767683592567354455095669867822325189633193131678794735650962639393139191373088794036404461384193726810843593677013941790149682117306117998467711864194327817472418309593532578652630078156106314457104202947843944254882230961136335459411180509121163861458191184935018004755271857237725421724251378215401689102848999879318689688017081604962458664471319025342964605716529586503463477129091202606092383454546712632789415697678408783313631525868246546672107898048525158059212400719132862062575358951277669719654423086009252670431935794380462045725095398339166351619873143749942009879079984955805570824387961068676870816990326271639273797392694412409766883419456282418928912658888111061902006692589547101789525062389994004812965844293740380239568131409737076074778377803650097439981661066805646528836016964632977327773287135187727575505825469910861825727253287298661063774074201698231949947573786875779096590240321440743576751021215840425816337630621111631205478389423746123456113251107090684958661556215213109799526972529197711502750615205318711825026722720347498623000735468749621925490835909883769075074538453782582168618244749565268021666247909797104180824206625923302728771579963033594408263781442873710573870587162283190934064328188067871920276520262828573158051945392435346043155879502254156980789821986366477984298877921452916182252612648868131701156286556866541548059165118850074233459575079407096184470972948808006842226095986309973009389155234982482325399205963917533028658155928353062329096975593221006369062555293978683433669385126827559941292661079959300484126372328561248380315428735859999535050601273997957662131514858960050191290247838147219371800954574616117073254663906531436937028130394816744198227943657357231350399724049774851888658782382506318882971008883932612398575355858344197881847637320162802167472609124260807882752800697935959872600722500553728264986350084337812360846114865114151504087821557495420144558098226484869368500282510446231719624177433444441410950253449280527094445162700203600155001779172986398693126185325756370842929209406496850921937865750942145587201729255354863283835377036897441573893626025973656733215815437111343288074334858551995575168023072599228751505279750190473357016898744197850779435694838979322170682786801817385446902434174946430885085928914574365378218609562341185055775175140866322142795826577847031668808439796342280490137833246915816908420576573666088867269133723189398697034528703574187133348424046202230900600352793956655850293076272933622422580327823061692714861233268152384534469348405894499763841604758184584504629923657379271401118915172499709490377006770574993916610329570312572968199342658297454895493535339323793956514764052940501058460824395439115969888458449723213723945510173824935523089476291104836145621945971384662905136852530555301537754966366293270616825290165071446422797629044071810282676992197192883381864080215968694263235471404293385595246222061690608941346962828295251367599784643982261627999165085558095212622037487285441148210762027807687083686170500993397586930184575752129047242051646466681083190571546670547916685665302296438612392537023594977884062009683175736551886085266419447989750575674988674666521052968330662118954876098774982356830014672761428761391784766306809027627143468301533850459018501840634463534407328457520490377145135112399826435551506396221416314399226757190328031191362842177732951998496505144756075060141743522328956662219203852460881767020461649121735830641892764130596829507206958542911462977020278112350360887981744254583578278960961757852202810894967699425243117481142452211770938481339713928827111767615138087875798118511465150689473720653427191601817738154166081557320754327645081532239224365516807346883893284319541150051101845057592486022903768863041579640768100165878629194402629735111056271961613100259788751857981635575761817904105700376038643199156577013251560997976927000496408428946551552577612961005284248119319305892967649439747996168797873465802839600054025560516575937511877650933914163623668057214502393693237954346851802026836380727716183467544002492457601236307361403914767756566405399779401974683323805283892799237099149497738988338715050543227366869089467927992016525922600747646317834109486403959097134679318355343515336942473706336934591730223032498746580120098870017944021561412282979838680525071169074068613751343982201627927852622598303106767218753704240978147788648005972042964831014631981449259098838717200447447716315493784804412330107374112564100391917047921577534720445663584027105205324310801820595963710829333085251544512188848180079707399434642284599959634375471611418102254001064574727916663085955735656303945679177601641722456931026941553340424415045746778534327833868422721117135234795250380690708889774448640667148254652506187589835351911164957824878862052876287583938440880746521823246018725022339059649637259411456"
      ]
     },
     "execution_count": 33,
     "metadata": {},
     "output_type": "execute_result"
    }
   ],
   "source": [
    "n4=n3**123\n",
    "n4"
   ]
  },
  {
   "cell_type": "code",
   "execution_count": 35,
   "metadata": {},
   "outputs": [
    {
     "data": {
      "text/plain": [
       "7516"
      ]
     },
     "execution_count": 35,
     "metadata": {},
     "output_type": "execute_result"
    }
   ],
   "source": [
    "len(str(n4))"
   ]
  },
  {
   "cell_type": "code",
   "execution_count": 39,
   "metadata": {},
   "outputs": [
    {
     "data": {
      "text/plain": [
       "10000000000000000000000000000000000000000000000000000000000000000000000000000000000"
      ]
     },
     "execution_count": 39,
     "metadata": {},
     "output_type": "execute_result"
    }
   ],
   "source": [
    "atoms=10**82\n",
    "atoms"
   ]
  },
  {
   "cell_type": "code",
   "execution_count": 40,
   "metadata": {},
   "outputs": [
    {
     "data": {
      "text/plain": [
       "83"
      ]
     },
     "execution_count": 40,
     "metadata": {},
     "output_type": "execute_result"
    }
   ],
   "source": [
    "len(str(atoms))"
   ]
  },
  {
   "cell_type": "markdown",
   "metadata": {},
   "source": [
    "### Conditionals"
   ]
  },
  {
   "cell_type": "code",
   "execution_count": 41,
   "metadata": {},
   "outputs": [
    {
     "data": {
      "text/plain": [
       "False"
      ]
     },
     "execution_count": 41,
     "metadata": {},
     "output_type": "execute_result"
    }
   ],
   "source": [
    "atoms < 10**79"
   ]
  },
  {
   "cell_type": "code",
   "execution_count": 47,
   "metadata": {},
   "outputs": [
    {
     "data": {
      "text/plain": [
       "True"
      ]
     },
     "execution_count": 47,
     "metadata": {},
     "output_type": "execute_result"
    }
   ],
   "source": [
    "atoms < 10 ** 99\n"
   ]
  },
  {
   "cell_type": "code",
   "execution_count": 57,
   "metadata": {},
   "outputs": [
    {
     "name": "stdout",
     "output_type": "stream",
     "text": [
      "It is False\n"
     ]
    }
   ],
   "source": [
    "if atoms < 10 ** 9:\n",
    "    print(\"It is True\")\n",
    "else:\n",
    "    print(\"It is False\")"
   ]
  },
  {
   "cell_type": "code",
   "execution_count": 1,
   "metadata": {},
   "outputs": [
    {
     "name": "stdout",
     "output_type": "stream",
     "text": [
      "odd\n"
     ]
    }
   ],
   "source": [
    "# Check of a number is Even\n",
    "n=123\n",
    "if n%2==0:\n",
    "    print(\"Even\")\n",
    "else:\n",
    "    print(\"odd\")"
   ]
  },
  {
   "cell_type": "code",
   "execution_count": 2,
   "metadata": {},
   "outputs": [
    {
     "name": "stdout",
     "output_type": "stream",
     "text": [
      "Enter the first number-1\n",
      "Enter the second number-100\n",
      "Enter the third number-50\n",
      "-1 is the greatest\n"
     ]
    }
   ],
   "source": [
    "n1 = int(input(\"Enter the first number\"))\n",
    "n2 = int(input(\"Enter the second number\"))\n",
    "n3 = int(input(\"Enter the third number\"))\n",
    "\n",
    "if n1 > n2 and n1 > n3:\n",
    "    print(n1, \"is the greatest\")\n",
    "elif n2 > n3:\n",
    "    print(n2, \"is the greatest\")\n",
    "else:\n",
    "    print(n3, \"is the greatest\")"
   ]
  },
  {
   "cell_type": "code",
   "execution_count": 3,
   "metadata": {},
   "outputs": [
    {
     "name": "stdout",
     "output_type": "stream",
     "text": [
      "Not a Leap Year\n"
     ]
    }
   ],
   "source": [
    "# Check if a year is a Leap year\n",
    "year = 1234\n",
    "if year % 400 == 0 or (year % 100 != 0 and year % 4 == 0):\n",
    "    print(\"Leap Year\")\n",
    "else:\n",
    "    print(\"Not a Leap Year\")"
   ]
  },
  {
   "cell_type": "code",
   "execution_count": 4,
   "metadata": {},
   "outputs": [
    {
     "name": "stdout",
     "output_type": "stream",
     "text": [
      "Number exists in the given range\n"
     ]
    }
   ],
   "source": [
    "# Check if a number exists in a given range(inclusive)\n",
    "\n",
    "n1 = 123\n",
    "lb = 50\n",
    "ub = 150\n",
    "\n",
    "if n1 >= lb and n1 <= ub:\n",
    "    print(\"Number exists in the given range\")\n",
    "else:\n",
    "    print(n1, \"does not exist in the given range\")"
   ]
  },
  {
   "cell_type": "code",
   "execution_count": 5,
   "metadata": {},
   "outputs": [
    {
     "name": "stdout",
     "output_type": "stream",
     "text": [
      "9\n"
     ]
    }
   ],
   "source": [
    "# Calculate the number of digits in a number\n",
    "n1 = 134245925\n",
    "print(len(str(n1)))"
   ]
  },
  {
   "cell_type": "code",
   "execution_count": 6,
   "metadata": {},
   "outputs": [
    {
     "name": "stdout",
     "output_type": "stream",
     "text": [
      "134245925 is not a multiple of 10\n"
     ]
    }
   ],
   "source": [
    "# Check if a number is a multiple of 10\n",
    "if n % 10 == 0:\n",
    "    print(n1, \"is a multiple of 10\")\n",
    "else:\n",
    "    print(n1, \"is not a multiple of 10\")"
   ]
  },
  {
   "cell_type": "code",
   "execution_count": 7,
   "metadata": {},
   "outputs": [
    {
     "name": "stdout",
     "output_type": "stream",
     "text": [
      "134245925 is not a factor of 10\n"
     ]
    }
   ],
   "source": [
    "# Check if a number is a factor of 1000\n",
    "if 1000 % n1 == 0:\n",
    "    print(n1, \"is a factor of 10\")\n",
    "else:\n",
    "    print(n1, \"is not a factor of 10\")"
   ]
  },
  {
   "cell_type": "code",
   "execution_count": 8,
   "metadata": {},
   "outputs": [
    {
     "name": "stdout",
     "output_type": "stream",
     "text": [
      "123456 is not equal to python\n"
     ]
    }
   ],
   "source": [
    "# Check if given string is equal to a number\n",
    "s1 = \"python\"\n",
    "n1 = 123456\n",
    "if str(n1) == s1:\n",
    "    print(n1, \"is equal to\", s1)\n",
    "else:i\n",
    "    print(n1, \"is not equal to\", s1)"
   ]
  },
  {
   "cell_type": "code",
   "execution_count": 9,
   "metadata": {},
   "outputs": [
    {
     "data": {
      "text/plain": [
       "11.090536506409418"
      ]
     },
     "execution_count": 9,
     "metadata": {},
     "output_type": "execute_result"
    }
   ],
   "source": [
    "# Calculate the Square root of a number without functions\n",
    "n1 = 123\n",
    "n1 ** 0.5"
   ]
  },
  {
   "cell_type": "code",
   "execution_count": 10,
   "metadata": {},
   "outputs": [
    {
     "name": "stdout",
     "output_type": "stream",
     "text": [
      "31622400000000000\n"
     ]
    }
   ],
   "source": [
    "# Calculate the number of nano seconds in a \n",
    "#given year(considering leap year logic)\n",
    "year = 2016\n",
    "if year % 400 == 0 or (year % 100 != 0 and year % 4 == 0):\n",
    "    print(366 * 24 * 60 * 60 * (10**9))\n",
    "else:\n",
    "    print(365 * 24 * 60 * 60 * (10**9))"
   ]
  },
  {
   "cell_type": "code",
   "execution_count": 8,
   "metadata": {},
   "outputs": [
    {
     "name": "stdout",
     "output_type": "stream",
     "text": [
      "1\n",
      "2\n",
      "3\n",
      "6\n"
     ]
    }
   ],
   "source": [
    "def factors(n):\n",
    "    for i in range(1,n+1):\n",
    "        if(n%i==0):\n",
    "            print(i)\n",
    "factors(6)"
   ]
  },
  {
   "cell_type": "code",
   "execution_count": 16,
   "metadata": {},
   "outputs": [],
   "source": [
    "def prime(n):\n",
    "    c=0\n",
    "    for i in range(1,n+1):\n",
    "        if(n%i==0):\n",
    "            c=c+1\n",
    "    if(c==2):\n",
    "        print(\"it is prime\")\n",
    "    else:\n",
    "        print(\"not prime\")"
   ]
  },
  {
   "cell_type": "code",
   "execution_count": 19,
   "metadata": {},
   "outputs": [
    {
     "name": "stdout",
     "output_type": "stream",
     "text": [
      "it is prime\n"
     ]
    }
   ],
   "source": [
    "prime(19)"
   ]
  },
  {
   "cell_type": "code",
   "execution_count": null,
   "metadata": {},
   "outputs": [],
   "source": []
  }
 ],
 "metadata": {
  "kernelspec": {
   "display_name": "Python 3",
   "language": "python",
   "name": "python3"
  },
  "language_info": {
   "codemirror_mode": {
    "name": "ipython",
    "version": 3
   },
   "file_extension": ".py",
   "mimetype": "text/x-python",
   "name": "python",
   "nbconvert_exporter": "python",
   "pygments_lexer": "ipython3",
   "version": "3.7.3"
  }
 },
 "nbformat": 4,
 "nbformat_minor": 2
}
