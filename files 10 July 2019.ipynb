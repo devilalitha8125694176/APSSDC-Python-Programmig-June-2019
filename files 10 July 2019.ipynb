{
 "cells": [
  {
   "cell_type": "code",
   "execution_count": 2,
   "metadata": {},
   "outputs": [],
   "source": [
    "filepath=\"DataFiles/firstfile.txt\"\n",
    "with open(filepath,'w') as f:\n",
    "    f.write(\"Good morning!\")\n",
    "#If run this code it create firstfile.txt in Datafiles Folder,\n",
    "#and txt file it show the message good morning"
   ]
  },
  {
   "cell_type": "code",
   "execution_count": 3,
   "metadata": {},
   "outputs": [],
   "source": [
    "filepath=\"DataFiles/firstfile.txt\"\n",
    "with open(filepath,'w') as f:\n",
    "    f.write(\"Good morning!\")\n",
    "    f.write(\"Welcome to files concept\")\n",
    "# output: Good morning!Welcome to files concept"
   ]
  },
  {
   "cell_type": "code",
   "execution_count": 2,
   "metadata": {},
   "outputs": [],
   "source": [
    "filepath=\"DataFiles/firstfile.txt\"\n",
    "with open(filepath,'w') as f:\n",
    "    f.write(\"Good morning!\\n\")\n",
    "    f.write(\"Welcome to files concept\")\n",
    "# output:\n",
    "\n",
    "#Good morning!\n",
    "#Welcome to files concept"
   ]
  },
  {
   "cell_type": "code",
   "execution_count": 4,
   "metadata": {},
   "outputs": [
    {
     "name": "stdout",
     "output_type": "stream",
     "text": [
      "Good morning!\n",
      "Welcome to files concept\n",
      "Here i am adding lines in text file\n",
      "after completing of this typing just save the file data\n"
     ]
    }
   ],
   "source": [
    "with open(filepath,'r') as f:\n",
    "    s=f.read()\n",
    "    print(s)"
   ]
  },
  {
   "cell_type": "code",
   "execution_count": 5,
   "metadata": {},
   "outputs": [
    {
     "name": "stdout",
     "output_type": "stream",
     "text": [
      "Good morning!\n",
      "\n"
     ]
    }
   ],
   "source": [
    "with open(filepath,'r') as f:\n",
    "    print(f.readline())"
   ]
  },
  {
   "cell_type": "code",
   "execution_count": 6,
   "metadata": {},
   "outputs": [
    {
     "name": "stdout",
     "output_type": "stream",
     "text": [
      "['Good morning!\\n', 'Welcome to files concept\\n', 'Here i am adding lines in text file\\n', 'after completing of this typing just save the file data']\n"
     ]
    }
   ],
   "source": [
    "with open(filepath,'r') as f:\n",
    "    print(f.readlines())"
   ]
  },
  {
   "cell_type": "code",
   "execution_count": 7,
   "metadata": {},
   "outputs": [
    {
     "name": "stdout",
     "output_type": "stream",
     "text": [
      "['1\\n', '2\\n', '3\\n', '4\\n', '5\\n', '6\\n', '7\\n', '7\\n', '8\\n', '9\\n', '10']\n"
     ]
    }
   ],
   "source": [
    "filepath=\"DataFiles/secondfile.txt\"\n",
    "with open(filepath,'r') as f:\n",
    "    print(f.readlines())\n",
    "# here crate second"
   ]
  },
  {
   "cell_type": "code",
   "execution_count": 9,
   "metadata": {},
   "outputs": [
    {
     "name": "stdout",
     "output_type": "stream",
     "text": [
      "62\n"
     ]
    }
   ],
   "source": [
    "filepath=\"DataFiles/secondfile.txt\"\n",
    "with open(filepath,'r') as f:\n",
    "    s=0\n",
    "    for i in f:\n",
    "        s=s+int(i)\n",
    "    print(s)"
   ]
  },
  {
   "cell_type": "code",
   "execution_count": 10,
   "metadata": {},
   "outputs": [
    {
     "name": "stdout",
     "output_type": "stream",
     "text": [
      "5.636363636363637\n"
     ]
    }
   ],
   "source": [
    "filepath=\"DataFiles/secondfile.txt\"\n",
    "with open(filepath,'r') as f:\n",
    "    s=0\n",
    "    c=0\n",
    "    for i in f:\n",
    "        s=s+int(i)\n",
    "        c=c+1\n",
    "    print(s/c)"
   ]
  },
  {
   "cell_type": "code",
   "execution_count": 11,
   "metadata": {},
   "outputs": [
    {
     "name": "stdout",
     "output_type": "stream",
     "text": [
      "['This is First Line\\n', 'This is Second Line\\n', 'and This is Third Line\\n', 'And finally this is Fourth Line']\n"
     ]
    }
   ],
   "source": [
    "filepath=\"DataFiles/linecount.txt\"\n",
    "with open(filepath,'r') as f:\n",
    "    print(f.readlines())"
   ]
  },
  {
   "cell_type": "code",
   "execution_count": 12,
   "metadata": {},
   "outputs": [
    {
     "name": "stdout",
     "output_type": "stream",
     "text": [
      "4\n"
     ]
    }
   ],
   "source": [
    "filepath=\"DataFiles/linecount.txt\"\n",
    "with open(filepath,'r') as f:\n",
    "    lcount=0\n",
    "    for i in f:\n",
    "        lcount=lcount+1\n",
    "    print(lcount)"
   ]
  },
  {
   "cell_type": "code",
   "execution_count": 14,
   "metadata": {},
   "outputs": [
    {
     "name": "stdout",
     "output_type": "stream",
     "text": [
      "93\n"
     ]
    }
   ],
   "source": [
    "filepath=\"DataFiles/linecount.txt\"\n",
    "with open(filepath,'r') as f:\n",
    "    wordcount=0\n",
    "    for i in f:\n",
    "        l=i.split(\" \")\n",
    "        wordcount=wordcount+len(i)\n",
    "    print(wordcount)"
   ]
  },
  {
   "cell_type": "code",
   "execution_count": 15,
   "metadata": {},
   "outputs": [
    {
     "name": "stdout",
     "output_type": "stream",
     "text": [
      "['This', 'is', 'First', 'Line\\nThis', 'is', 'Second', 'Line\\nand', 'This', 'is', 'Third', 'Line\\nAnd', 'finally', 'this', 'is', 'Fourth', 'Line']\n"
     ]
    }
   ],
   "source": [
    "with open(filepath,'r') as f:\n",
    "    s=f.read().split(\" \")\n",
    "    print(s)"
   ]
  },
  {
   "cell_type": "code",
   "execution_count": 16,
   "metadata": {},
   "outputs": [
    {
     "name": "stdout",
     "output_type": "stream",
     "text": [
      "['This is First Line\\n', 'This is Second Line\\n', 'and This is Third Line\\n', 'And finally this is Fourth Line']\n"
     ]
    }
   ],
   "source": [
    "with open(filepath,'r') as f:\n",
    "    s=f.readlines()\n",
    "    print(s)"
   ]
  },
  {
   "cell_type": "code",
   "execution_count": 21,
   "metadata": {},
   "outputs": [
    {
     "name": "stdout",
     "output_type": "stream",
     "text": [
      "This is First Line\n",
      "\n",
      "This is Second Line\n",
      "\n",
      "and This is Third Line\n",
      "\n",
      "And finally this is Fourth Line\n"
     ]
    }
   ],
   "source": [
    "with open(filepath,'r') as f:\n",
    "    for i in f:\n",
    "        print(i)"
   ]
  },
  {
   "cell_type": "code",
   "execution_count": 26,
   "metadata": {},
   "outputs": [
    {
     "name": "stdout",
     "output_type": "stream",
     "text": [
      "This is First Line\n",
      "\n",
      "This is Second Line\n",
      "\n",
      "and This is Third Line\n",
      "\n",
      "And finally this is Fourth Line\n",
      "19\n"
     ]
    }
   ],
   "source": [
    "with open(filepath,'r') as f:\n",
    "    s1=0\n",
    "    for i in f:\n",
    "        print(i)\n",
    "        s=i.split()\n",
    "        s1=s1+len(s)\n",
    "    print(s1)"
   ]
  },
  {
   "cell_type": "code",
   "execution_count": 29,
   "metadata": {},
   "outputs": [
    {
     "data": {
      "text/plain": [
       "'Lalitha is a Prgrammer'"
      ]
     },
     "execution_count": 29,
     "metadata": {},
     "output_type": "execute_result"
    }
   ],
   "source": [
    "l=[\"Lalitha\",\"is\",\"a\",\"Prgrammer\"]\n",
    "s=\" \".join(l)\n",
    "s"
   ]
  },
  {
   "cell_type": "code",
   "execution_count": 30,
   "metadata": {},
   "outputs": [
    {
     "data": {
      "text/plain": [
       "'Lalitha,is,a,Prgrammer'"
      ]
     },
     "execution_count": 30,
     "metadata": {},
     "output_type": "execute_result"
    }
   ],
   "source": [
    "l=[\"Lalitha\",\"is\",\"a\",\"Prgrammer\"]\n",
    "s=\",\".join(l)\n",
    "s"
   ]
  },
  {
   "cell_type": "code",
   "execution_count": 31,
   "metadata": {},
   "outputs": [
    {
     "name": "stdout",
     "output_type": "stream",
     "text": [
      "['T', 'h', 'i', 's', ' ', 'i', 's', ' ', 'F', 'i', 'r', 's', 't', ' ', 'L', 'i', 'n', 'e', '\\n']\n",
      "['T', 'h', 'i', 's', ' ', 'i', 's', ' ', 'S', 'e', 'c', 'o', 'n', 'd', ' ', 'L', 'i', 'n', 'e', '\\n']\n",
      "['a', 'n', 'd', ' ', 'T', 'h', 'i', 's', ' ', 'i', 's', ' ', 'T', 'h', 'i', 'r', 'd', ' ', 'L', 'i', 'n', 'e', '\\n']\n",
      "['A', 'n', 'd', ' ', 'f', 'i', 'n', 'a', 'l', 'l', 'y', ' ', 't', 'h', 'i', 's', ' ', 'i', 's', ' ', 'F', 'o', 'u', 'r', 't', 'h', ' ', 'L', 'i', 'n', 'e']\n"
     ]
    }
   ],
   "source": [
    "with open(filepath,'r') as f:\n",
    "    charcount=0\n",
    "    for i in f:\n",
    "        s=list(i)\n",
    "        print(s)"
   ]
  },
  {
   "cell_type": "code",
   "execution_count": 32,
   "metadata": {},
   "outputs": [
    {
     "name": "stdout",
     "output_type": "stream",
     "text": [
      "['T', 'h', 'i', 's', ' ', 'i', 's', ' ', 'F', 'i', 'r', 's', 't', ' ', 'L', 'i', 'n', 'e', '\\n', 'T', 'h', 'i', 's', ' ', 'i', 's', ' ', 'S', 'e', 'c', 'o', 'n', 'd', ' ', 'L', 'i', 'n', 'e', '\\n', 'a', 'n', 'd', ' ', 'T', 'h', 'i', 's', ' ', 'i', 's', ' ', 'T', 'h', 'i', 'r', 'd', ' ', 'L', 'i', 'n', 'e', '\\n', 'A', 'n', 'd', ' ', 'f', 'i', 'n', 'a', 'l', 'l', 'y', ' ', 't', 'h', 'i', 's', ' ', 'i', 's', ' ', 'F', 'o', 'u', 'r', 't', 'h', ' ', 'L', 'i', 'n', 'e']\n"
     ]
    }
   ],
   "source": [
    "\n",
    "with open(filepath,'r') as f:\n",
    "    charcount=0\n",
    "    s=list(f.read())\n",
    "    print(s)"
   ]
  },
  {
   "cell_type": "code",
   "execution_count": 33,
   "metadata": {},
   "outputs": [
    {
     "name": "stdout",
     "output_type": "stream",
     "text": [
      "This is First Line\n",
      " This is Second Line\n",
      " and This is Third Line\n",
      " And finally this is Fourth Line\n"
     ]
    }
   ],
   "source": [
    "\n",
    "with open(filepath,'r') as f:\n",
    "    charcount=0\n",
    "    s=list(f.readlines())\n",
    "    s=\" \".join(s)\n",
    "    print(s)"
   ]
  },
  {
   "cell_type": "code",
   "execution_count": 34,
   "metadata": {},
   "outputs": [
    {
     "name": "stdout",
     "output_type": "stream",
     "text": [
      "['This', 'is', 'First', 'Line']\n",
      "['This', 'is', 'Second', 'Line']\n",
      "['and', 'This', 'is', 'Third', 'Line']\n",
      "['And', 'finally', 'this', 'is', 'Fourth', 'Line']\n"
     ]
    }
   ],
   "source": [
    "\n",
    "with open(filepath,'r') as f:\n",
    "    charcount=0\n",
    "    for i in f:\n",
    "        s=i.split()\n",
    "        print(s)"
   ]
  },
  {
   "cell_type": "code",
   "execution_count": 35,
   "metadata": {},
   "outputs": [
    {
     "name": "stdout",
     "output_type": "stream",
     "text": [
      "75\n"
     ]
    }
   ],
   "source": [
    "# Character Count\n",
    "with open(filepath,'r') as f:\n",
    "    charcount=0\n",
    "    for i in f:\n",
    "        s=i.split()\n",
    "        for j in s:\n",
    "            charcount=charcount+len(j)\n",
    "    print(charcount)"
   ]
  },
  {
   "cell_type": "code",
   "execution_count": 37,
   "metadata": {},
   "outputs": [
    {
     "name": "stdout",
     "output_type": "stream",
     "text": [
      "This is First Line\n",
      "This is Second Line\n",
      "and This is Third Line\n",
      "And finally this is Fourth Line\n"
     ]
    }
   ],
   "source": [
    "# Character Count\n",
    "with open(filepath,'r') as f:\n",
    "    charcount=0\n",
    "    for i in f:\n",
    "        s=i.strip()\n",
    "        print(s)"
   ]
  },
  {
   "cell_type": "code",
   "execution_count": 38,
   "metadata": {},
   "outputs": [
    {
     "data": {
      "text/plain": [
       "' Lalitha'"
      ]
     },
     "execution_count": 38,
     "metadata": {},
     "output_type": "execute_result"
    }
   ],
   "source": [
    "s=\" Lalitha \"\n",
    "s=s.rstrip()\n",
    "s\n"
   ]
  },
  {
   "cell_type": "code",
   "execution_count": 39,
   "metadata": {},
   "outputs": [
    {
     "data": {
      "text/plain": [
       "'Lalitha '"
      ]
     },
     "execution_count": 39,
     "metadata": {},
     "output_type": "execute_result"
    }
   ],
   "source": [
    "s=\" Lalitha \"\n",
    "s=s.lstrip()\n",
    "s\n"
   ]
  },
  {
   "cell_type": "code",
   "execution_count": 40,
   "metadata": {},
   "outputs": [
    {
     "data": {
      "text/plain": [
       "'Lalitha'"
      ]
     },
     "execution_count": 40,
     "metadata": {},
     "output_type": "execute_result"
    }
   ],
   "source": [
    "s=\" Lalitha \"\n",
    "s=s.strip()\n",
    "s\n"
   ]
  },
  {
   "cell_type": "code",
   "execution_count": 45,
   "metadata": {
    "scrolled": true
   },
   "outputs": [
    {
     "data": {
      "text/plain": [
       "['a',\n",
       " 'b',\n",
       " 'c',\n",
       " 'd',\n",
       " 'e',\n",
       " 'f',\n",
       " 'g',\n",
       " 'h',\n",
       " 'i',\n",
       " 'j',\n",
       " 'k',\n",
       " 'l',\n",
       " 'm',\n",
       " 'n',\n",
       " 'o',\n",
       " 'p',\n",
       " 'q',\n",
       " 'r',\n",
       " 's',\n",
       " 't',\n",
       " 'u',\n",
       " 'v',\n",
       " 'w',\n",
       " 'x',\n",
       " 'y',\n",
       " 'z']"
      ]
     },
     "execution_count": 45,
     "metadata": {},
     "output_type": "execute_result"
    }
   ],
   "source": [
    "b=[chr(i) for i in range(97,123)]\n",
    "b"
   ]
  },
  {
   "cell_type": "code",
   "execution_count": 47,
   "metadata": {},
   "outputs": [
    {
     "data": {
      "text/plain": [
       "18"
      ]
     },
     "execution_count": 47,
     "metadata": {},
     "output_type": "execute_result"
    }
   ],
   "source": []
  },
  {
   "cell_type": "code",
   "execution_count": 50,
   "metadata": {},
   "outputs": [
    {
     "data": {
      "text/plain": [
       "'999'"
      ]
     },
     "execution_count": 50,
     "metadata": {},
     "output_type": "execute_result"
    }
   ],
   "source": [
    "c='9'\n",
    "c=c*3\n",
    "c"
   ]
  },
  {
   "cell_type": "code",
   "execution_count": 55,
   "metadata": {},
   "outputs": [],
   "source": [
    "j=list(range(2,5))"
   ]
  },
  {
   "cell_type": "code",
   "execution_count": 56,
   "metadata": {},
   "outputs": [
    {
     "data": {
      "text/plain": [
       "[2, 3, 4]"
      ]
     },
     "execution_count": 56,
     "metadata": {},
     "output_type": "execute_result"
    }
   ],
   "source": [
    "j"
   ]
  },
  {
   "cell_type": "code",
   "execution_count": 68,
   "metadata": {},
   "outputs": [
    {
     "name": "stdout",
     "output_type": "stream",
     "text": [
      "ABCD\n",
      "EFGH\n",
      "IJKL\n",
      "IMNO\n",
      "QRST\n",
      "UVWX\n",
      "YZ\n"
     ]
    }
   ],
   "source": [
    "s=\"ABCDEFGHIJKLIMNOQRSTUVWXYZ\"\n",
    "n=4\n",
    "i=0\n",
    "li=[]\n",
    "while(i<len(s)):\n",
    "    c=0\n",
    "    s1=\"\"\n",
    "    while(c<n and i<len(s)):\n",
    "        s1=s1+s[i]\n",
    "        i=i+1\n",
    "        c=c+1\n",
    "    li.append(s1)\n",
    "for i in li:\n",
    "    print(i)\n",
    "    "
   ]
  },
  {
   "cell_type": "code",
   "execution_count": null,
   "metadata": {},
   "outputs": [],
   "source": []
  }
 ],
 "metadata": {
  "kernelspec": {
   "display_name": "Python 3",
   "language": "python",
   "name": "python3"
  },
  "language_info": {
   "codemirror_mode": {
    "name": "ipython",
    "version": 3
   },
   "file_extension": ".py",
   "mimetype": "text/x-python",
   "name": "python",
   "nbconvert_exporter": "python",
   "pygments_lexer": "ipython3",
   "version": "3.7.3"
  }
 },
 "nbformat": 4,
 "nbformat_minor": 2
}
